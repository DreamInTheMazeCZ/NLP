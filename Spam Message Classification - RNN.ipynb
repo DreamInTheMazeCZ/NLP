{
 "cells": [
  {
   "cell_type": "markdown",
   "id": "1d968bf1",
   "metadata": {
    "papermill": {
     "duration": 0.009305,
     "end_time": "2022-09-20T19:31:04.692477",
     "exception": false,
     "start_time": "2022-09-20T19:31:04.683172",
     "status": "completed"
    },
    "tags": []
   },
   "source": [
    "## Spam Message Classification\n",
    "\n",
    "#### 데이터 다운로드 : https://suanlab.com/datasets/spam.csv"
   ]
  },
  {
   "cell_type": "code",
   "execution_count": 1,
   "id": "baada03d",
   "metadata": {
    "execution": {
     "iopub.execute_input": "2022-09-20T19:31:04.710663Z",
     "iopub.status.busy": "2022-09-20T19:31:04.709815Z",
     "iopub.status.idle": "2022-09-20T19:31:06.772258Z",
     "shell.execute_reply": "2022-09-20T19:31:06.771113Z"
    },
    "papermill": {
     "duration": 2.074901,
     "end_time": "2022-09-20T19:31:06.775237",
     "exception": false,
     "start_time": "2022-09-20T19:31:04.700336",
     "status": "completed"
    },
    "tags": []
   },
   "outputs": [
    {
     "name": "stdout",
     "output_type": "stream",
     "text": [
      "--2022-09-20 19:31:05--  http://suanlab.com/datasets/spam.csv\r\n",
      "Resolving suanlab.com (suanlab.com)... 52.219.60.137\r\n",
      "Connecting to suanlab.com (suanlab.com)|52.219.60.137|:80... connected.\r\n",
      "HTTP request sent, awaiting response... 200 OK\r\n",
      "Length: 503663 (492K) [text/csv]\r\n",
      "Saving to: ‘spam.csv’\r\n",
      "\r\n",
      "spam.csv            100%[===================>] 491.86K   786KB/s    in 0.6s    \r\n",
      "\r\n",
      "2022-09-20 19:31:06 (786 KB/s) - ‘spam.csv’ saved [503663/503663]\r\n",
      "\r\n"
     ]
    }
   ],
   "source": [
    "!wget http://suanlab.com/datasets/spam.csv"
   ]
  },
  {
   "cell_type": "code",
   "execution_count": 2,
   "id": "4200ede8",
   "metadata": {
    "execution": {
     "iopub.execute_input": "2022-09-20T19:31:06.796085Z",
     "iopub.status.busy": "2022-09-20T19:31:06.795087Z",
     "iopub.status.idle": "2022-09-20T19:31:06.846695Z",
     "shell.execute_reply": "2022-09-20T19:31:06.845848Z"
    },
    "papermill": {
     "duration": 0.064502,
     "end_time": "2022-09-20T19:31:06.849210",
     "exception": false,
     "start_time": "2022-09-20T19:31:06.784708",
     "status": "completed"
    },
    "tags": []
   },
   "outputs": [
    {
     "data": {
      "text/html": [
       "<div>\n",
       "<style scoped>\n",
       "    .dataframe tbody tr th:only-of-type {\n",
       "        vertical-align: middle;\n",
       "    }\n",
       "\n",
       "    .dataframe tbody tr th {\n",
       "        vertical-align: top;\n",
       "    }\n",
       "\n",
       "    .dataframe thead th {\n",
       "        text-align: right;\n",
       "    }\n",
       "</style>\n",
       "<table border=\"1\" class=\"dataframe\">\n",
       "  <thead>\n",
       "    <tr style=\"text-align: right;\">\n",
       "      <th></th>\n",
       "      <th>v1</th>\n",
       "      <th>v2</th>\n",
       "      <th>Unnamed: 2</th>\n",
       "      <th>Unnamed: 3</th>\n",
       "      <th>Unnamed: 4</th>\n",
       "    </tr>\n",
       "  </thead>\n",
       "  <tbody>\n",
       "    <tr>\n",
       "      <th>0</th>\n",
       "      <td>ham</td>\n",
       "      <td>Go until jurong point, crazy.. Available only ...</td>\n",
       "      <td>NaN</td>\n",
       "      <td>NaN</td>\n",
       "      <td>NaN</td>\n",
       "    </tr>\n",
       "    <tr>\n",
       "      <th>1</th>\n",
       "      <td>ham</td>\n",
       "      <td>Ok lar... Joking wif u oni...</td>\n",
       "      <td>NaN</td>\n",
       "      <td>NaN</td>\n",
       "      <td>NaN</td>\n",
       "    </tr>\n",
       "    <tr>\n",
       "      <th>2</th>\n",
       "      <td>spam</td>\n",
       "      <td>Free entry in 2 a wkly comp to win FA Cup fina...</td>\n",
       "      <td>NaN</td>\n",
       "      <td>NaN</td>\n",
       "      <td>NaN</td>\n",
       "    </tr>\n",
       "    <tr>\n",
       "      <th>3</th>\n",
       "      <td>ham</td>\n",
       "      <td>U dun say so early hor... U c already then say...</td>\n",
       "      <td>NaN</td>\n",
       "      <td>NaN</td>\n",
       "      <td>NaN</td>\n",
       "    </tr>\n",
       "    <tr>\n",
       "      <th>4</th>\n",
       "      <td>ham</td>\n",
       "      <td>Nah I don't think he goes to usf, he lives aro...</td>\n",
       "      <td>NaN</td>\n",
       "      <td>NaN</td>\n",
       "      <td>NaN</td>\n",
       "    </tr>\n",
       "  </tbody>\n",
       "</table>\n",
       "</div>"
      ],
      "text/plain": [
       "     v1                                                 v2 Unnamed: 2  \\\n",
       "0   ham  Go until jurong point, crazy.. Available only ...        NaN   \n",
       "1   ham                      Ok lar... Joking wif u oni...        NaN   \n",
       "2  spam  Free entry in 2 a wkly comp to win FA Cup fina...        NaN   \n",
       "3   ham  U dun say so early hor... U c already then say...        NaN   \n",
       "4   ham  Nah I don't think he goes to usf, he lives aro...        NaN   \n",
       "\n",
       "  Unnamed: 3 Unnamed: 4  \n",
       "0        NaN        NaN  \n",
       "1        NaN        NaN  \n",
       "2        NaN        NaN  \n",
       "3        NaN        NaN  \n",
       "4        NaN        NaN  "
      ]
     },
     "execution_count": 2,
     "metadata": {},
     "output_type": "execute_result"
    }
   ],
   "source": [
    "import pandas as pd\n",
    "\n",
    "df = pd.read_csv('spam.csv', delimiter=',', encoding='latin-1')\n",
    "df.head()"
   ]
  },
  {
   "cell_type": "code",
   "execution_count": 3,
   "id": "3c2abb4f",
   "metadata": {
    "execution": {
     "iopub.execute_input": "2022-09-20T19:31:06.878461Z",
     "iopub.status.busy": "2022-09-20T19:31:06.878112Z",
     "iopub.status.idle": "2022-09-20T19:31:06.904590Z",
     "shell.execute_reply": "2022-09-20T19:31:06.903246Z"
    },
    "papermill": {
     "duration": 0.045683,
     "end_time": "2022-09-20T19:31:06.906595",
     "exception": false,
     "start_time": "2022-09-20T19:31:06.860912",
     "status": "completed"
    },
    "tags": []
   },
   "outputs": [
    {
     "name": "stdout",
     "output_type": "stream",
     "text": [
      "<class 'pandas.core.frame.DataFrame'>\n",
      "RangeIndex: 5572 entries, 0 to 5571\n",
      "Data columns (total 2 columns):\n",
      " #   Column   Non-Null Count  Dtype \n",
      "---  ------   --------------  ----- \n",
      " 0   target   5572 non-null   object\n",
      " 1   message  5572 non-null   object\n",
      "dtypes: object(2)\n",
      "memory usage: 87.2+ KB\n"
     ]
    }
   ],
   "source": [
    "df=df.iloc[:,:2] # 컬럼 제거\n",
    "df.columns = ['target','message']\n",
    "df.info()\n"
   ]
  },
  {
   "cell_type": "code",
   "execution_count": 4,
   "id": "0eda8166",
   "metadata": {
    "execution": {
     "iopub.execute_input": "2022-09-20T19:31:06.920867Z",
     "iopub.status.busy": "2022-09-20T19:31:06.920017Z",
     "iopub.status.idle": "2022-09-20T19:31:07.136465Z",
     "shell.execute_reply": "2022-09-20T19:31:07.135497Z"
    },
    "papermill": {
     "duration": 0.225643,
     "end_time": "2022-09-20T19:31:07.138393",
     "exception": false,
     "start_time": "2022-09-20T19:31:06.912750",
     "status": "completed"
    },
    "tags": []
   },
   "outputs": [
    {
     "data": {
      "text/plain": [
       "<AxesSubplot:>"
      ]
     },
     "execution_count": 4,
     "metadata": {},
     "output_type": "execute_result"
    },
    {
     "data": {
      "image/png": "[encoded data removed]",
      "text/plain": [
       "<Figure size 432x288 with 1 Axes>"
      ]
     },
     "metadata": {
      "needs_background": "light"
     },
     "output_type": "display_data"
    }
   ],
   "source": [
    "x = df.message\n",
    "y = df.target\n",
    "\n",
    "y.value_counts().plot(kind='bar')\n",
    "# 분류 문제에서 하나의 카테고리 데이터의 양이\n",
    "# 다른 카테고리의 데이터 양 보다 많이 적을 수 있음\n",
    "# 이 경우 *Oversampling* 등의 기법 적용\n",
    "# 일반적으로 스팸 메세지가 일반 메세지보다 적기 때문에 다음과 같은 결과"
   ]
  },
  {
   "cell_type": "code",
   "execution_count": 5,
   "id": "72e116ad",
   "metadata": {
    "execution": {
     "iopub.execute_input": "2022-09-20T19:31:07.152547Z",
     "iopub.status.busy": "2022-09-20T19:31:07.152248Z",
     "iopub.status.idle": "2022-09-20T19:31:07.159457Z",
     "shell.execute_reply": "2022-09-20T19:31:07.158422Z"
    },
    "papermill": {
     "duration": 0.017877,
     "end_time": "2022-09-20T19:31:07.162962",
     "exception": false,
     "start_time": "2022-09-20T19:31:07.145085",
     "status": "completed"
    },
    "tags": []
   },
   "outputs": [
    {
     "name": "stdout",
     "output_type": "stream",
     "text": [
      "최대 길이 : 910\n",
      "평균 길이 : 80.11880832735105\n"
     ]
    }
   ],
   "source": [
    "print('최대 길이 : {}'.format(max(len(i) for i in x)))\n",
    "print('평균 길이 : {}'.format((sum(map(len, x))/len(x))))"
   ]
  },
  {
   "cell_type": "code",
   "execution_count": 6,
   "id": "809b1156",
   "metadata": {
    "execution": {
     "iopub.execute_input": "2022-09-20T19:31:07.176672Z",
     "iopub.status.busy": "2022-09-20T19:31:07.176378Z",
     "iopub.status.idle": "2022-09-20T19:31:07.493190Z",
     "shell.execute_reply": "2022-09-20T19:31:07.492292Z"
    },
    "papermill": {
     "duration": 0.32602,
     "end_time": "2022-09-20T19:31:07.495269",
     "exception": false,
     "start_time": "2022-09-20T19:31:07.169249",
     "status": "completed"
    },
    "tags": []
   },
   "outputs": [
    {
     "data": {
      "image/png": "[encoded data removed]",
      "text/plain": [
       "<Figure size 432x288 with 1 Axes>"
      ]
     },
     "metadata": {
      "needs_background": "light"
     },
     "output_type": "display_data"
    }
   ],
   "source": [
    "import matplotlib.pyplot as plt\n",
    "\n",
    "plt.hist([len(i) for i in x], bins=100)\n",
    "plt.show();"
   ]
  },
  {
   "cell_type": "code",
   "execution_count": 7,
   "id": "502fe133",
   "metadata": {
    "execution": {
     "iopub.execute_input": "2022-09-20T19:31:07.511037Z",
     "iopub.status.busy": "2022-09-20T19:31:07.510736Z",
     "iopub.status.idle": "2022-09-20T19:31:07.517288Z",
     "shell.execute_reply": "2022-09-20T19:31:07.516307Z"
    },
    "papermill": {
     "duration": 0.017331,
     "end_time": "2022-09-20T19:31:07.519363",
     "exception": false,
     "start_time": "2022-09-20T19:31:07.502032",
     "status": "completed"
    },
    "tags": []
   },
   "outputs": [
    {
     "data": {
      "text/plain": [
       "array([['ham',\n",
       "        'Go until jurong point, crazy.. Available only in bugis n great world la e buffet... Cine there got amore wat...'],\n",
       "       ['ham', 'Ok lar... Joking wif u oni...'],\n",
       "       ['spam',\n",
       "        \"Free entry in 2 a wkly comp to win FA Cup final tkts 21st May 2005. Text FA to 87121 to receive entry question(std txt rate)T&C's apply 08452810075over18's\"],\n",
       "       ...,\n",
       "       ['ham',\n",
       "        'Pity, * was in mood for that. So...any other suggestions?'],\n",
       "       ['ham',\n",
       "        \"The guy did some bitching but I acted like i'd be interested in buying something else next week and he gave it to us for free\"],\n",
       "       ['ham', 'Rofl. Its true to its name']], dtype=object)"
      ]
     },
     "execution_count": 7,
     "metadata": {},
     "output_type": "execute_result"
    }
   ],
   "source": [
    "df.to_numpy()"
   ]
  },
  {
   "cell_type": "code",
   "execution_count": 8,
   "id": "9196b959",
   "metadata": {
    "execution": {
     "iopub.execute_input": "2022-09-20T19:31:07.533708Z",
     "iopub.status.busy": "2022-09-20T19:31:07.533411Z",
     "iopub.status.idle": "2022-09-20T19:31:20.385345Z",
     "shell.execute_reply": "2022-09-20T19:31:20.384224Z"
    },
    "papermill": {
     "duration": 12.862053,
     "end_time": "2022-09-20T19:31:20.388026",
     "exception": false,
     "start_time": "2022-09-20T19:31:07.525973",
     "status": "completed"
    },
    "tags": []
   },
   "outputs": [],
   "source": [
    "from torchtext.data.utils import get_tokenizer\n",
    "from torchtext.vocab import build_vocab_from_iterator\n",
    "\n",
    "tokenizer = get_tokenizer('spacy', 'en_core_web_sm')\n",
    "data_iter= iter(df.to_numpy())\n",
    "\n",
    "# Tokenizing 함수\n",
    "def yield_tokens(data_iter):\n",
    "    for _, text in data_iter:\n",
    "    # target을 사용 안함을 _로 표현\n",
    "    # 두 번째 컬럼의 .text\n",
    "        yield tokenizer(text)\n",
    "        \n",
    "vocab = build_vocab_from_iterator(yield_tokens(data_iter), specials=['<unk>'])\n",
    "vocab.set_default_index(vocab['<unk>'])"
   ]
  },
  {
   "cell_type": "code",
   "execution_count": 9,
   "id": "bc350022",
   "metadata": {
    "execution": {
     "iopub.execute_input": "2022-09-20T19:31:20.403256Z",
     "iopub.status.busy": "2022-09-20T19:31:20.402742Z",
     "iopub.status.idle": "2022-09-20T19:31:20.408986Z",
     "shell.execute_reply": "2022-09-20T19:31:20.408098Z"
    },
    "papermill": {
     "duration": 0.016159,
     "end_time": "2022-09-20T19:31:20.411237",
     "exception": false,
     "start_time": "2022-09-20T19:31:20.395078",
     "status": "completed"
    },
    "tags": []
   },
   "outputs": [
    {
     "data": {
      "text/plain": [
       "[308, 525, 13, 29, 7, 1190, 1054, 2, 356, 2225, 2770, 928, 2612, 2671, 666, 0]"
      ]
     },
     "execution_count": 9,
     "metadata": {},
     "output_type": "execute_result"
    }
   ],
   "source": [
    "vocab('Free entry in 2 a wkly comp to win FA Cup final tkts 21st May 2005.'.split())"
   ]
  },
  {
   "cell_type": "code",
   "execution_count": 10,
   "id": "3e16e205",
   "metadata": {
    "execution": {
     "iopub.execute_input": "2022-09-20T19:31:20.425934Z",
     "iopub.status.busy": "2022-09-20T19:31:20.425673Z",
     "iopub.status.idle": "2022-09-20T19:31:20.430995Z",
     "shell.execute_reply": "2022-09-20T19:31:20.430182Z"
    },
    "papermill": {
     "duration": 0.015032,
     "end_time": "2022-09-20T19:31:20.432925",
     "exception": false,
     "start_time": "2022-09-20T19:31:20.417893",
     "status": "completed"
    },
    "tags": []
   },
   "outputs": [],
   "source": [
    "text_transform = lambda x: vocab(tokenizer(x))\n",
    "label_transform = lambda x: 1 if x=='ham' else 0"
   ]
  },
  {
   "cell_type": "code",
   "execution_count": 11,
   "id": "5ddf3898",
   "metadata": {
    "execution": {
     "iopub.execute_input": "2022-09-20T19:31:20.447863Z",
     "iopub.status.busy": "2022-09-20T19:31:20.447148Z",
     "iopub.status.idle": "2022-09-20T19:31:20.453565Z",
     "shell.execute_reply": "2022-09-20T19:31:20.452614Z"
    },
    "papermill": {
     "duration": 0.015754,
     "end_time": "2022-09-20T19:31:20.455510",
     "exception": false,
     "start_time": "2022-09-20T19:31:20.439756",
     "status": "completed"
    },
    "tags": []
   },
   "outputs": [
    {
     "data": {
      "text/plain": [
       "[308,\n",
       " 525,\n",
       " 13,\n",
       " 29,\n",
       " 7,\n",
       " 1190,\n",
       " 1054,\n",
       " 2,\n",
       " 356,\n",
       " 2225,\n",
       " 2770,\n",
       " 928,\n",
       " 2612,\n",
       " 2671,\n",
       " 666,\n",
       " 2669,\n",
       " 1]"
      ]
     },
     "execution_count": 11,
     "metadata": {},
     "output_type": "execute_result"
    }
   ],
   "source": [
    "text_transform('Free entry in 2 a wkly comp to win FA Cup final tkts 21st May 2005.')"
   ]
  },
  {
   "cell_type": "code",
   "execution_count": 12,
   "id": "375e3b12",
   "metadata": {
    "execution": {
     "iopub.execute_input": "2022-09-20T19:31:20.471286Z",
     "iopub.status.busy": "2022-09-20T19:31:20.469911Z",
     "iopub.status.idle": "2022-09-20T19:31:20.476109Z",
     "shell.execute_reply": "2022-09-20T19:31:20.475236Z"
    },
    "papermill": {
     "duration": 0.015676,
     "end_time": "2022-09-20T19:31:20.477997",
     "exception": false,
     "start_time": "2022-09-20T19:31:20.462321",
     "status": "completed"
    },
    "tags": []
   },
   "outputs": [
    {
     "data": {
      "text/plain": [
       "(1, 0)"
      ]
     },
     "execution_count": 12,
     "metadata": {},
     "output_type": "execute_result"
    }
   ],
   "source": [
    "label_transform('ham'), label_transform('spam')"
   ]
  },
  {
   "cell_type": "markdown",
   "id": "597a54ce",
   "metadata": {
    "papermill": {
     "duration": 0.006974,
     "end_time": "2022-09-20T19:31:20.491878",
     "exception": false,
     "start_time": "2022-09-20T19:31:20.484904",
     "status": "completed"
    },
    "tags": []
   },
   "source": [
    "- 데이터 배치의 텍스트 항목은 List에 보관된(Pack) 다음 nn.EmbeddingBag의 입력을 위한 하나의 Tensor로 결합 (Concatenate)\n",
    "- Offset : Text Tensor에서 개별 시퀀스 시작 인덱스를 표현하기 위한 구분자(delimiter) Tensor\n",
    "- Label : 개별 텍스트 항목의 레이블을 저장하는 Tensor"
   ]
  },
  {
   "cell_type": "code",
   "execution_count": 13,
   "id": "1e1a6e69",
   "metadata": {
    "execution": {
     "iopub.execute_input": "2022-09-20T19:31:20.506660Z",
     "iopub.status.busy": "2022-09-20T19:31:20.506386Z",
     "iopub.status.idle": "2022-09-20T19:31:20.513862Z",
     "shell.execute_reply": "2022-09-20T19:31:20.513024Z"
    },
    "papermill": {
     "duration": 0.017018,
     "end_time": "2022-09-20T19:31:20.515796",
     "exception": false,
     "start_time": "2022-09-20T19:31:20.498778",
     "status": "completed"
    },
    "tags": []
   },
   "outputs": [],
   "source": [
    "import torch\n",
    "device = torch.device('cuda' if torch.cuda.is_available() else 'cpu')\n",
    "\n",
    "def collate_batch(batch):\n",
    "    label_list, text_list, offsets = [], [], [0]\n",
    "    # 초기화 // 실제 필요한 정보\n",
    "    \n",
    "    for (_label, _text) in batch: # _ : 해당 과정에서만 사용(추후 사용 ×)\n",
    "        label_list.append(label_transform(_label))\n",
    "        \n",
    "        processed_text = torch.tensor(text_transform(_text), dtype=torch.int64)\n",
    "        text_list.append(processed_text)\n",
    "        offsets.append(processed_text.size(0))\n",
    "        # 실제 처리된 텍스트에 대한 사이즈(길이) 저장\n",
    "        \n",
    "    label_list = torch.tensor(label_list, dtype=torch.int64)\n",
    "    offsets = torch.tensor(offsets[:-1]).cumsum(dim=0)\n",
    "    text_list = torch.cat(text_list)\n",
    "    \n",
    "    return label_list.to(device), text_list.to(device), offsets.to(device)"
   ]
  },
  {
   "cell_type": "markdown",
   "id": "87504bca",
   "metadata": {
    "papermill": {
     "duration": 0.006717,
     "end_time": "2022-09-20T19:31:20.529476",
     "exception": false,
     "start_time": "2022-09-20T19:31:20.522759",
     "status": "completed"
    },
    "tags": []
   },
   "source": [
    "- torch.utils.data.DataLoader는 getitem()과 len() 프로토콜을 구현한 맵 형태(Map-style)의 데이터셋으로 동작하며 맵(Map)처럼 Index/Key로 데이터 샘플 로드\n",
    "- Shuffle 인자를 False로 설정하면 순회 가능한(iterable) 데이터셋처럼 동작(일반적으로는 Shuffling 사용)\n",
    "- collate_fn 함수는 모델로 보내기 전 DataLoader로부터 생성된 샘플 배치로 동작\n",
    "- collate_fn의 입력은 DataLoader에 배치 크기(Batch Size)가 있는 배치\n",
    "- collate_fn은 미리 선언된 데이터 처리 파이프라인에 따라 처리"
   ]
  },
  {
   "cell_type": "code",
   "execution_count": 14,
   "id": "8438ae7f",
   "metadata": {
    "execution": {
     "iopub.execute_input": "2022-09-20T19:31:20.544656Z",
     "iopub.status.busy": "2022-09-20T19:31:20.543911Z",
     "iopub.status.idle": "2022-09-20T19:31:20.556020Z",
     "shell.execute_reply": "2022-09-20T19:31:20.554885Z"
    },
    "papermill": {
     "duration": 0.022516,
     "end_time": "2022-09-20T19:31:20.558792",
     "exception": false,
     "start_time": "2022-09-20T19:31:20.536276",
     "status": "completed"
    },
    "tags": []
   },
   "outputs": [
    {
     "name": "stdout",
     "output_type": "stream",
     "text": [
      "Train Dataset:  4262\n",
      "Valid Dataset:  474\n",
      "Test Dataset:  836\n"
     ]
    }
   ],
   "source": [
    "from torch.utils.data import DataLoader\n",
    "from torch.utils.data.dataset import random_split\n",
    "from torchtext.data.functional import to_map_style_dataset\n",
    "\n",
    "Batch_Size = 100\n",
    "\n",
    "data_iter = iter(df.to_numpy())\n",
    "dataset = to_map_style_dataset(data_iter)\n",
    "\n",
    "num_train = int(len(dataset) * 0.85)\n",
    "train_dataset, test_dataset = random_split(dataset,\n",
    "                                           [num_train, len(dataset)-num_train])\n",
    "\n",
    "num_train= int(len(train_dataset) *0.9)\n",
    "train_dataset, valid_dataset = random_split(train_dataset,\n",
    "                                           [num_train, len(train_dataset)-num_train])\n",
    "\n",
    "print('Train Dataset: ', len(train_dataset))\n",
    "print('Valid Dataset: ', len(valid_dataset))\n",
    "print('Test Dataset: ', len(test_dataset))\n",
    "\n",
    "train_dataloader = DataLoader(train_dataset, batch_size=Batch_Size,\n",
    "                              shuffle=True, collate_fn=collate_batch)\n",
    "valid_dataloader = DataLoader(valid_dataset, batch_size=Batch_Size,\n",
    "                              shuffle=True, collate_fn=collate_batch)\n",
    "test_dataloader = DataLoader(test_dataset, batch_size=Batch_Size,\n",
    "                             shuffle=True, collate_fn=collate_batch)"
   ]
  },
  {
   "cell_type": "markdown",
   "id": "c4fe298e",
   "metadata": {
    "papermill": {
     "duration": 0.006699,
     "end_time": "2022-09-20T19:31:20.573002",
     "exception": false,
     "start_time": "2022-09-20T19:31:20.566303",
     "status": "completed"
    },
    "tags": []
   },
   "source": [
    "### RNN 모델 정의 및 생성\n",
    "- 임베딩을 위한 nn.EmbeddingBag(Padding 지정 없이(고정된 길이 없이) Offset에 지정된 텍스트의 길이 자체를 고려하는 방법) 레이어와 분류(Classification) 목적을 위한 선형 레이어 nn.Linear로 구성\n",
    "- 기본 모드가 평균(mean)인 nn.EmbeddingBag은 임베딩들의 가방(Bag)의 평균을 계산\n",
    "- 텍스트 항목들은 각기 그 길이가 다를 수 있지만 nn.EmbeddingBag 모듈은 텍스트의 길이를 Offset으로 저장하고 있으므로 Padding 불필요(Offset을 통해 정확하게 필요한 길이만 사용)\n",
    "- nn.EmbeddingBag은 임베딩의 평균을 즉시 계산하기 때문에 Tensor들의 시퀀스를 처리할 때 성능 및 메모리 효율성 측면에서의 장점"
   ]
  },
  {
   "cell_type": "code",
   "execution_count": 15,
   "id": "e8aee69a",
   "metadata": {
    "execution": {
     "iopub.execute_input": "2022-09-20T19:31:20.588408Z",
     "iopub.status.busy": "2022-09-20T19:31:20.587656Z",
     "iopub.status.idle": "2022-09-20T19:31:20.594276Z",
     "shell.execute_reply": "2022-09-20T19:31:20.593468Z"
    },
    "papermill": {
     "duration": 0.01623,
     "end_time": "2022-09-20T19:31:20.596188",
     "exception": false,
     "start_time": "2022-09-20T19:31:20.579958",
     "status": "completed"
    },
    "tags": []
   },
   "outputs": [],
   "source": [
    "import torch.nn as nn\n",
    "\n",
    "class RNNModel(nn.Module):\n",
    "    def __init__(self, vocab_size, embed_dim, hidden_dim, num_class):\n",
    "        super(RNNModel, self).__init__()\n",
    "        self.embed = nn.EmbeddingBag(vocab_size, embed_dim, sparse=True)\n",
    "        self.rnn = nn.RNN(embed_dim, hidden_dim)\n",
    "        self.fc = nn.Linear(hidden_dim, num_class)\n",
    "        \n",
    "    def forward(self, input, offsets):\n",
    "        output = self.embed(input, offsets)\n",
    "        output, hidden = self.rnn(output)\n",
    "        output = self.fc(output)\n",
    "        return output"
   ]
  },
  {
   "cell_type": "code",
   "execution_count": 16,
   "id": "0addcab6",
   "metadata": {
    "execution": {
     "iopub.execute_input": "2022-09-20T19:31:20.611668Z",
     "iopub.status.busy": "2022-09-20T19:31:20.610948Z",
     "iopub.status.idle": "2022-09-20T19:31:29.340380Z",
     "shell.execute_reply": "2022-09-20T19:31:29.339406Z"
    },
    "papermill": {
     "duration": 8.739688,
     "end_time": "2022-09-20T19:31:29.342762",
     "exception": false,
     "start_time": "2022-09-20T19:31:20.603074",
     "status": "completed"
    },
    "tags": []
   },
   "outputs": [
    {
     "data": {
      "text/plain": [
       "RNNModel(\n",
       "  (embed): EmbeddingBag(11583, 300, mode=mean)\n",
       "  (rnn): RNN(300, 100)\n",
       "  (fc): Linear(in_features=100, out_features=2, bias=True)\n",
       ")"
      ]
     },
     "execution_count": 16,
     "metadata": {},
     "output_type": "execute_result"
    }
   ],
   "source": [
    "model = RNNModel(vocab_size=len(vocab),\n",
    "                 embed_dim = 300,\n",
    "                 hidden_dim = 100,\n",
    "                 num_class = 2)\n",
    "model.to(device)"
   ]
  },
  {
   "cell_type": "markdown",
   "id": "b5611c31",
   "metadata": {
    "papermill": {
     "duration": 0.007476,
     "end_time": "2022-09-20T19:31:29.357852",
     "exception": false,
     "start_time": "2022-09-20T19:31:29.350376",
     "status": "completed"
    },
    "tags": []
   },
   "source": [
    "### 모델 학습 및 평가"
   ]
  },
  {
   "cell_type": "code",
   "execution_count": 17,
   "id": "e2c4f258",
   "metadata": {
    "execution": {
     "iopub.execute_input": "2022-09-20T19:31:29.373771Z",
     "iopub.status.busy": "2022-09-20T19:31:29.373464Z",
     "iopub.status.idle": "2022-09-20T19:31:29.382666Z",
     "shell.execute_reply": "2022-09-20T19:31:29.381772Z"
    },
    "papermill": {
     "duration": 0.019523,
     "end_time": "2022-09-20T19:31:29.384751",
     "exception": false,
     "start_time": "2022-09-20T19:31:29.365228",
     "status": "completed"
    },
    "tags": []
   },
   "outputs": [],
   "source": [
    "def train(dataloader):\n",
    "    model.train()\n",
    "    total_acc, total_count=0,0\n",
    "    \n",
    "    for idx, (label, text, offsets) in enumerate(dataloader):\n",
    "        optimizer.zero_grad()\n",
    "        predicted_label=model(text, offsets)\n",
    "        loss = criterion(predicted_label, label)\n",
    "        loss.backward()\n",
    "        torch.nn.utils.clip_grad_norm_(model.parameters(), 0.1)\n",
    "        optimizer.step()\n",
    "        total_acc += (predicted_label.argmax(1) == label).sum().item()\n",
    "        total_count += label.size(0)\n",
    "        \n",
    "    return total_acc / total_count\n",
    "\n",
    "def evaluate(dataloader):\n",
    "    model.eval()\n",
    "    total_acc, total_count=0,0\n",
    "    \n",
    "    with torch.no_grad():\n",
    "        for idx, (label, text, offsets) in enumerate(dataloader):\n",
    "            predicted_label=model(text, offsets)\n",
    "            loss = criterion(predicted_label, label)\n",
    "            total_acc += (predicted_label.argmax(1) == label).sum().item()\n",
    "            total_count += label.size(0)\n",
    "        \n",
    "    return total_acc / total_count"
   ]
  },
  {
   "cell_type": "code",
   "execution_count": 18,
   "id": "64522572",
   "metadata": {
    "execution": {
     "iopub.execute_input": "2022-09-20T19:31:29.401085Z",
     "iopub.status.busy": "2022-09-20T19:31:29.400220Z",
     "iopub.status.idle": "2022-09-20T19:31:56.593471Z",
     "shell.execute_reply": "2022-09-20T19:31:56.591335Z"
    },
    "papermill": {
     "duration": 27.204187,
     "end_time": "2022-09-20T19:31:56.596216",
     "exception": false,
     "start_time": "2022-09-20T19:31:29.392029",
     "status": "completed"
    },
    "tags": []
   },
   "outputs": [
    {
     "name": "stdout",
     "output_type": "stream",
     "text": [
      "Epoch:  1 | Elapsed Time: 1.87s | Train Accuracy: 0.8885 | Valid Accuracy: 0.8924\n",
      "Epoch:  2 | Elapsed Time: 0.51s | Train Accuracy: 0.9303 | Valid Accuracy: 0.9072\n",
      "Epoch:  3 | Elapsed Time: 0.63s | Train Accuracy: 0.9376 | Valid Accuracy: 0.9156\n",
      "Epoch:  4 | Elapsed Time: 0.72s | Train Accuracy: 0.9472 | Valid Accuracy: 0.9283\n",
      "Epoch:  5 | Elapsed Time: 0.52s | Train Accuracy: 0.9545 | Valid Accuracy: 0.9093\n",
      "Epoch:  6 | Elapsed Time: 0.49s | Train Accuracy: 0.9751 | Valid Accuracy: 0.9262\n",
      "Epoch:  7 | Elapsed Time: 0.58s | Train Accuracy: 0.9758 | Valid Accuracy: 0.9219\n",
      "Epoch:  8 | Elapsed Time: 0.53s | Train Accuracy: 0.9758 | Valid Accuracy: 0.9241\n",
      "Epoch:  9 | Elapsed Time: 0.50s | Train Accuracy: 0.9744 | Valid Accuracy: 0.9241\n",
      "Epoch: 10 | Elapsed Time: 0.49s | Train Accuracy: 0.9758 | Valid Accuracy: 0.9283\n",
      "Epoch: 11 | Elapsed Time: 0.50s | Train Accuracy: 0.9765 | Valid Accuracy: 0.9283\n",
      "Epoch: 12 | Elapsed Time: 0.51s | Train Accuracy: 0.9756 | Valid Accuracy: 0.9262\n",
      "Epoch: 13 | Elapsed Time: 0.49s | Train Accuracy: 0.9765 | Valid Accuracy: 0.9241\n",
      "Epoch: 14 | Elapsed Time: 0.49s | Train Accuracy: 0.9747 | Valid Accuracy: 0.9283\n",
      "Epoch: 15 | Elapsed Time: 0.49s | Train Accuracy: 0.9740 | Valid Accuracy: 0.9283\n",
      "Epoch: 16 | Elapsed Time: 0.49s | Train Accuracy: 0.9765 | Valid Accuracy: 0.9241\n",
      "Epoch: 17 | Elapsed Time: 0.65s | Train Accuracy: 0.9765 | Valid Accuracy: 0.9241\n",
      "Epoch: 18 | Elapsed Time: 0.55s | Train Accuracy: 0.9761 | Valid Accuracy: 0.9304\n",
      "Epoch: 19 | Elapsed Time: 0.49s | Train Accuracy: 0.9756 | Valid Accuracy: 0.9219\n",
      "Epoch: 20 | Elapsed Time: 0.49s | Train Accuracy: 0.9779 | Valid Accuracy: 0.9241\n",
      "Epoch: 21 | Elapsed Time: 0.50s | Train Accuracy: 0.9747 | Valid Accuracy: 0.9283\n",
      "Epoch: 22 | Elapsed Time: 0.49s | Train Accuracy: 0.9744 | Valid Accuracy: 0.9262\n",
      "Epoch: 23 | Elapsed Time: 0.50s | Train Accuracy: 0.9749 | Valid Accuracy: 0.9241\n",
      "Epoch: 24 | Elapsed Time: 0.50s | Train Accuracy: 0.9768 | Valid Accuracy: 0.9262\n",
      "Epoch: 25 | Elapsed Time: 0.50s | Train Accuracy: 0.9761 | Valid Accuracy: 0.9304\n",
      "Epoch: 26 | Elapsed Time: 0.50s | Train Accuracy: 0.9740 | Valid Accuracy: 0.9262\n",
      "Epoch: 27 | Elapsed Time: 0.51s | Train Accuracy: 0.9737 | Valid Accuracy: 0.9283\n",
      "Epoch: 28 | Elapsed Time: 0.49s | Train Accuracy: 0.9749 | Valid Accuracy: 0.9219\n",
      "Epoch: 29 | Elapsed Time: 0.49s | Train Accuracy: 0.9758 | Valid Accuracy: 0.9325\n",
      "Epoch: 30 | Elapsed Time: 0.50s | Train Accuracy: 0.9763 | Valid Accuracy: 0.9241\n",
      "Epoch: 31 | Elapsed Time: 0.49s | Train Accuracy: 0.9751 | Valid Accuracy: 0.9241\n",
      "Epoch: 32 | Elapsed Time: 0.51s | Train Accuracy: 0.9768 | Valid Accuracy: 0.9283\n",
      "Epoch: 33 | Elapsed Time: 0.50s | Train Accuracy: 0.9765 | Valid Accuracy: 0.9262\n",
      "Epoch: 34 | Elapsed Time: 0.50s | Train Accuracy: 0.9735 | Valid Accuracy: 0.9262\n",
      "Epoch: 35 | Elapsed Time: 0.50s | Train Accuracy: 0.9770 | Valid Accuracy: 0.9283\n",
      "Epoch: 36 | Elapsed Time: 0.52s | Train Accuracy: 0.9728 | Valid Accuracy: 0.9241\n",
      "Epoch: 37 | Elapsed Time: 0.51s | Train Accuracy: 0.9761 | Valid Accuracy: 0.9241\n",
      "Epoch: 38 | Elapsed Time: 0.49s | Train Accuracy: 0.9758 | Valid Accuracy: 0.9241\n",
      "Epoch: 39 | Elapsed Time: 0.72s | Train Accuracy: 0.9765 | Valid Accuracy: 0.9283\n",
      "Epoch: 40 | Elapsed Time: 0.51s | Train Accuracy: 0.9742 | Valid Accuracy: 0.9325\n",
      "Epoch: 41 | Elapsed Time: 0.49s | Train Accuracy: 0.9754 | Valid Accuracy: 0.9283\n",
      "Epoch: 42 | Elapsed Time: 0.49s | Train Accuracy: 0.9758 | Valid Accuracy: 0.9304\n",
      "Epoch: 43 | Elapsed Time: 0.50s | Train Accuracy: 0.9740 | Valid Accuracy: 0.9262\n",
      "Epoch: 44 | Elapsed Time: 0.49s | Train Accuracy: 0.9751 | Valid Accuracy: 0.9241\n",
      "Epoch: 45 | Elapsed Time: 0.49s | Train Accuracy: 0.9747 | Valid Accuracy: 0.9198\n",
      "Epoch: 46 | Elapsed Time: 0.52s | Train Accuracy: 0.9758 | Valid Accuracy: 0.9219\n",
      "Epoch: 47 | Elapsed Time: 0.49s | Train Accuracy: 0.9733 | Valid Accuracy: 0.9241\n",
      "Epoch: 48 | Elapsed Time: 0.50s | Train Accuracy: 0.9761 | Valid Accuracy: 0.9198\n",
      "Epoch: 49 | Elapsed Time: 0.49s | Train Accuracy: 0.9763 | Valid Accuracy: 0.9304\n",
      "Epoch: 50 | Elapsed Time: 0.50s | Train Accuracy: 0.9758 | Valid Accuracy: 0.9198\n"
     ]
    }
   ],
   "source": [
    "import time\n",
    "\n",
    "epochs = 50\n",
    "lr = 5\n",
    "criterion = torch.nn.CrossEntropyLoss()\n",
    "optimizer = torch.optim.SGD(model.parameters(), lr=lr)\n",
    "scheduler = torch.optim.lr_scheduler.StepLR(optimizer, 1.0, gamma=0.1)\n",
    "total_acc = None\n",
    "\n",
    "for epoch in range(1, epochs+1):\n",
    "    epoch_start_time= time.time()\n",
    "    train_acc = train(train_dataloader)\n",
    "    valid_acc = evaluate(valid_dataloader)\n",
    "    \n",
    "    if total_acc is not None and total_acc > valid_acc:\n",
    "        scheduler.step()\n",
    "    else:\n",
    "        total_acc = valid_acc\n",
    "    \n",
    "    print('Epoch: {:2d}'.format(epoch),\n",
    "          '| Elapsed Time:{:5.2f}s'.format(time.time() - epoch_start_time),\n",
    "          '| Train Accuracy: {:.4f}'.format(train_acc),\n",
    "          '| Valid Accuracy: {:.4f}'.format(valid_acc))\n"
   ]
  },
  {
   "cell_type": "markdown",
   "id": "de69a603",
   "metadata": {
    "papermill": {
     "duration": 0.009573,
     "end_time": "2022-09-20T19:31:56.616208",
     "exception": false,
     "start_time": "2022-09-20T19:31:56.606635",
     "status": "completed"
    },
    "tags": []
   },
   "source": [
    "### 모델 평가"
   ]
  },
  {
   "cell_type": "code",
   "execution_count": 19,
   "id": "ff357200",
   "metadata": {
    "execution": {
     "iopub.execute_input": "2022-09-20T19:31:56.636677Z",
     "iopub.status.busy": "2022-09-20T19:31:56.636339Z",
     "iopub.status.idle": "2022-09-20T19:31:56.707745Z",
     "shell.execute_reply": "2022-09-20T19:31:56.706326Z"
    },
    "papermill": {
     "duration": 0.08466,
     "end_time": "2022-09-20T19:31:56.710492",
     "exception": false,
     "start_time": "2022-09-20T19:31:56.625832",
     "status": "completed"
    },
    "tags": []
   },
   "outputs": [
    {
     "name": "stdout",
     "output_type": "stream",
     "text": [
      "Test Accuracy: 0.9354\n"
     ]
    }
   ],
   "source": [
    "test_acc = evaluate(test_dataloader)\n",
    "print('Test Accuracy: {:.4f}'.format(test_acc))"
   ]
  },
  {
   "cell_type": "markdown",
   "id": "fb794cf4",
   "metadata": {
    "papermill": {
     "duration": 0.009321,
     "end_time": "2022-09-20T19:31:56.729731",
     "exception": false,
     "start_time": "2022-09-20T19:31:56.720410",
     "status": "completed"
    },
    "tags": []
   },
   "source": [
    "### 스팸 메세지 분류"
   ]
  },
  {
   "cell_type": "code",
   "execution_count": 20,
   "id": "8299980d",
   "metadata": {
    "execution": {
     "iopub.execute_input": "2022-09-20T19:31:56.749797Z",
     "iopub.status.busy": "2022-09-20T19:31:56.749516Z",
     "iopub.status.idle": "2022-09-20T19:31:56.765713Z",
     "shell.execute_reply": "2022-09-20T19:31:56.764871Z"
    },
    "papermill": {
     "duration": 0.028754,
     "end_time": "2022-09-20T19:31:56.768005",
     "exception": false,
     "start_time": "2022-09-20T19:31:56.739251",
     "status": "completed"
    },
    "tags": []
   },
   "outputs": [],
   "source": [
    "msg_label = {0:'Spam', 1:'Ham'}\n",
    "\n",
    "def predict(text, text_transform):\n",
    "    with torch.no_grad():\n",
    "        text = torch.tensor(text_transform(text))\n",
    "        output = model(text, torch.tensor([0])) # torch.tensor([0]) : Offset\n",
    "        return output.argmax(1).item()\n",
    "    \n",
    "model = model.to('cpu')"
   ]
  },
  {
   "cell_type": "code",
   "execution_count": 21,
   "id": "57766378",
   "metadata": {
    "execution": {
     "iopub.execute_input": "2022-09-20T19:31:56.787962Z",
     "iopub.status.busy": "2022-09-20T19:31:56.787687Z",
     "iopub.status.idle": "2022-09-20T19:31:56.859417Z",
     "shell.execute_reply": "2022-09-20T19:31:56.857825Z"
    },
    "papermill": {
     "duration": 0.084716,
     "end_time": "2022-09-20T19:31:56.862193",
     "exception": false,
     "start_time": "2022-09-20T19:31:56.777477",
     "status": "completed"
    },
    "tags": []
   },
   "outputs": [
    {
     "name": "stdout",
     "output_type": "stream",
     "text": [
      "Spam\n"
     ]
    }
   ],
   "source": [
    "new_msg = 'Free entry in 2 a wkly comp to win FA Cups final tkts 21st May 2005.'\n",
    "print(msg_label[predict(new_msg, text_transform)])"
   ]
  },
  {
   "cell_type": "code",
   "execution_count": 22,
   "id": "49967f66",
   "metadata": {
    "execution": {
     "iopub.execute_input": "2022-09-20T19:31:56.884596Z",
     "iopub.status.busy": "2022-09-20T19:31:56.884275Z",
     "iopub.status.idle": "2022-09-20T19:31:56.892476Z",
     "shell.execute_reply": "2022-09-20T19:31:56.890684Z"
    },
    "papermill": {
     "duration": 0.022924,
     "end_time": "2022-09-20T19:31:56.895833",
     "exception": false,
     "start_time": "2022-09-20T19:31:56.872909",
     "status": "completed"
    },
    "tags": []
   },
   "outputs": [
    {
     "name": "stdout",
     "output_type": "stream",
     "text": [
      "Ok lar... Joking wif u oni...\n",
      "Ham\n"
     ]
    }
   ],
   "source": [
    "msg1 = str(df.to_numpy()[1][1])\n",
    "print(msg1)\n",
    "print(msg_label[predict(msg1, text_transform)])"
   ]
  }
 ],
 "metadata": {
  "kernelspec": {
   "display_name": "Python 3",
   "language": "python",
   "name": "python3"
  },
  "language_info": {
   "codemirror_mode": {
    "name": "ipython",
    "version": 3
   },
   "file_extension": ".py",
   "mimetype": "text/x-python",
   "name": "python",
   "nbconvert_exporter": "python",
   "pygments_lexer": "ipython3",
   "version": "3.7.12"
  },
  "papermill": {
   "default_parameters": {},
   "duration": 63.330179,
   "end_time": "2022-09-20T19:32:00.075301",
   "environment_variables": {},
   "exception": null,
   "input_path": "__notebook__.ipynb",
   "output_path": "__notebook__.ipynb",
   "parameters": {},
   "start_time": "2022-09-20T19:30:56.745122",
   "version": "2.3.4"
  }
 },
 "nbformat": 4,
 "nbformat_minor": 5
}

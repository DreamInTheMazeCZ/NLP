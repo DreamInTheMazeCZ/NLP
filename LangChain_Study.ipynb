{
 "cells": [
  {
   "cell_type": "code",
   "execution_count": 1,
   "id": "9fd849ee",
   "metadata": {},
   "outputs": [
    {
     "data": {
      "text/plain": [
       "True"
      ]
     },
     "execution_count": 1,
     "metadata": {},
     "output_type": "execute_result"
    }
   ],
   "source": [
    "import openai\n",
    "import json\n",
    "import os\n",
    "\n",
    "from langchain.chat_models import AzureChatOpenAI\n",
    "from langchain.schema import HumanMessage\n",
    "from langchain import LLMChain\n",
    "\n",
    "from dotenv import load_dotenv\n",
    "\n",
    "import warnings, os\n",
    "\n",
    "warnings.filterwarnings('ignore')\n",
    "load_dotenv('lc_study.env')"
   ]
  },
  {
   "cell_type": "markdown",
   "id": "0da19ef8",
   "metadata": {},
   "source": [
    "### LLM 연동 (교재는 OpenAI GPT이나 여기서는 Azure OpenAI GPT로 진행)"
   ]
  },
  {
   "cell_type": "code",
   "execution_count": 2,
   "id": "101b9c16",
   "metadata": {},
   "outputs": [
    {
     "data": {
      "text/plain": [
       "AIMessage(content='물결처럼 부드럽게,\\n너의 마음에 속삭이는 바람결에,\\n시 한 편을 남기렴.\\n\\n그대 발자국마다 피어나는 꽃이 되어,\\n삶의 길목마다 조용히 내음을 품고,\\n그대 슬픔과 기쁨, 나눌 수 있게.\\n\\n하늘을 우러러 한 점 부끄럼 없는,\\n그대의 순수한 눈빛을 담아,\\n별빛으로 촘촘히 수놓은 밤하늘을 그리네.\\n\\n흐르는 강물처럼 자유로운 영혼으로,\\n우리의 꿈들을 끝없이 헤엄쳐 가며,\\n포근한 안식의 숲을 찾아가리.\\n\\n나무잎 사이로 빛나는 햇살처럼,\\n그대의 미소가 세상을 밝히듯,\\n이 시가 그대의 마음에 조용히 스며들길.', response_metadata={'token_usage': {'completion_tokens': 311, 'prompt_tokens': 19, 'total_tokens': 330}, 'model_name': 'gpt-4', 'system_fingerprint': 'fp_811936bd4f', 'finish_reason': 'stop', 'logprobs': None}, id='run-5e14f77a-9481-4023-9c8d-d024c5373a8f-0')"
      ]
     },
     "execution_count": 2,
     "metadata": {},
     "output_type": "execute_result"
    }
   ],
   "source": [
    "os.environ['OPENAI_API_TYPE'] = os.getenv('API_TYPE')\n",
    "os.environ['OPENAI_API_VERSION'] = os.getenv('API_VER')\n",
    "os.environ['OPENAI_API_KEY'] = os.getenv('OPENAI_API_KEY')\n",
    "os.environ['OPENAI_API_BASE'] = os.getenv('OPENAI_API_BASE')\n",
    "\n",
    "llm = AzureChatOpenAI(\n",
    "    deployment_name='GPT4-Test',\n",
    ")\n",
    "\n",
    "# llm.invoke 대체 가능\n",
    "llm([HumanMessage(content=\"나에게 시를 하나 써줘\")]) "
   ]
  },
  {
   "cell_type": "code",
   "execution_count": 3,
   "id": "8fed7a0d",
   "metadata": {
    "scrolled": true
   },
   "outputs": [
    {
     "data": {
      "text/plain": [
       "AIMessage(content='무한한 상상의 나래를 펼쳐  \\n바람에 실려 오는 노래  \\n하늘을 수놓는 별빛들 사이로  \\n잠시 머물다 가는 꿈의 이야기\\n\\n흐르는 강물처럼 자유롭게  \\n시간을 따라 흘러가는 삶  \\n가끔은 멈춰 서서 돌아보며  \\n잊혀진 추억을 그리워하네\\n\\n푸른 초원 위에 펼쳐진  \\n넓고도 깊은 하늘 아래  \\n때론 조용히 때론 뜨겁게  \\n살아가는 우리들의 이야기\\n\\n꽃잎에 맺힌 아침 이슬처럼  \\n새로운 시작의 상큼함을  \\n마음 가득히 담아두고서  \\n오늘도 걸어가는 여정 속으로\\n\\n어둠이 내릴 때면 다시  \\n별들이 길을 비추어주고  \\n힘겨운 하루 끝에 만나는  \\n조용한 밤의 위로가 되어주네\\n\\n흔들리는 촛불 빛처럼  \\n잠시 밝다 사라지는 순간들  \\n하지만 그 속에 영원히 남는  \\n소중한 기억들을 새겨가며\\n\\n우리들은 계속 걸어가네  \\n변하지 않는 하나의 진실을 찾아서  \\n세상 모든 아름다움과 슬픔을 품으며  \\n시간 속을 노래하며 흘러가네', response_metadata={'token_usage': {'completion_tokens': 475, 'prompt_tokens': 13, 'total_tokens': 488}, 'model_name': 'gpt-4', 'system_fingerprint': 'fp_811936bd4f', 'finish_reason': 'stop', 'logprobs': None}, id='run-edc8666c-1588-4dc6-891c-08a3f486130f-0')"
      ]
     },
     "execution_count": 3,
     "metadata": {},
     "output_type": "execute_result"
    }
   ],
   "source": [
    "llm.invoke('시 써줘')"
   ]
  },
  {
   "cell_type": "markdown",
   "id": "4d5c47e2",
   "metadata": {},
   "source": [
    "## 템플릿 적용 → LLM 체인 연결"
   ]
  },
  {
   "cell_type": "code",
   "execution_count": 4,
   "id": "7bc86678",
   "metadata": {},
   "outputs": [
    {
     "data": {
      "text/plain": [
       "ChatPromptTemplate(input_variables=['input'], messages=[HumanMessagePromptTemplate(prompt=PromptTemplate(input_variables=['input'], template='You are an expert in astronomy. Answer the question. <Question>: {input}'))])"
      ]
     },
     "execution_count": 4,
     "metadata": {},
     "output_type": "execute_result"
    }
   ],
   "source": [
    "from langchain_core.prompts import ChatPromptTemplate\n",
    "\n",
    "prompt = ChatPromptTemplate.from_template(\"You are an expert in astronomy. Answer the question. <Question>: {input}\")\n",
    "prompt\n",
    "\n",
    "# Input을 파라미터 입력과 같이 Chain 호출 시 (.invoke) {\"Key\":\"Value\"} 값을 통해 템플릿 적용 가능"
   ]
  },
  {
   "cell_type": "code",
   "execution_count": 5,
   "id": "5c805b28",
   "metadata": {},
   "outputs": [
    {
     "data": {
      "text/plain": [
       "AIMessage(content=\"지구의 자전 주기, 즉 지구가 자신의 축을 한 바퀴 도는 데 걸리는 시간은 대략 23시간 56분 4.1초입니다. 이를 '항성일' 또는 '별의 날'이라고 합니다. 하지만 우리가 일상적으로 사용하는 시간 단위인 '태양일'은 태양이 하늘에서 같은 위치로 돌아오는 데 걸리는 시간을 기준으로 하며, 이는 대략 24시간입니다. 태양일이 항성일보다 약간 더 긴 이유는 지구가 태양 주위를 공전하면서도 동시에 자전하기 때문에, 태양이 같은 위치에 돌아오려면 자전 한 바퀴보다 약간 더 돌아야 하기 때문입니다.\", response_metadata={'token_usage': {'completion_tokens': 245, 'prompt_tokens': 30, 'total_tokens': 275}, 'model_name': 'gpt-4', 'system_fingerprint': 'fp_811936bd4f', 'finish_reason': 'stop', 'logprobs': None}, id='run-5a7cf025-c7bf-4618-bb24-47513c8f65d9-0')"
      ]
     },
     "execution_count": 5,
     "metadata": {},
     "output_type": "execute_result"
    }
   ],
   "source": [
    "# Chain 연결 (LCEL)\n",
    "chain = prompt | llm\n",
    "\n",
    "# Chain 호출\n",
    "chain.invoke({\"input\": \"지구의 자전 주기는?\"})"
   ]
  },
  {
   "cell_type": "markdown",
   "id": "4ce31a91",
   "metadata": {},
   "source": [
    "## Output Parser"
   ]
  },
  {
   "cell_type": "code",
   "execution_count": 6,
   "id": "bc7a1e23",
   "metadata": {},
   "outputs": [
    {
     "data": {
      "text/plain": [
       "\"지구의 자전 주기, 즉 지구가 자신의 축을 한 바퀴 도는 데 걸리는 시간은 대략 23시간 56분 4초입니다. 이 시간을 '항성일' 또는 '별의 날'이라고 부릅니다. 하지만 일상생활에서 우리가 사용하는 시간 단위인 '태양일'은 지구가 동일한 태양 위치로 돌아오는 데 걸리는 시간을 기준으로 하며, 이는 대략 24시간입니다. 태양일과 항성일 사이의 차이는 지구가 태양 주위를 공전하면서도 자전하기 때문에 발생합니다.\""
      ]
     },
     "execution_count": 6,
     "metadata": {},
     "output_type": "execute_result"
    }
   ],
   "source": [
    "from langchain_core.output_parsers import StrOutputParser\n",
    "\n",
    "# String 형태로 출력\n",
    "output_parser = StrOutputParser()\n",
    "\n",
    "# Chain 연결 (LCEL)\n",
    "chain = prompt | llm | output_parser\n",
    "\n",
    "# Chain 호출\n",
    "chain.invoke({\"input\": \"지구의 자전 주기는?\"})"
   ]
  },
  {
   "cell_type": "markdown",
   "id": "f7a199d1",
   "metadata": {},
   "source": [
    "## Multi Chain"
   ]
  },
  {
   "cell_type": "code",
   "execution_count": 7,
   "id": "8a219109",
   "metadata": {},
   "outputs": [
    {
     "data": {
      "text/plain": [
       "'Future'"
      ]
     },
     "execution_count": 7,
     "metadata": {},
     "output_type": "execute_result"
    }
   ],
   "source": [
    "prompt1 = ChatPromptTemplate.from_template(\"translates {korean_word} to English. returned only word\")\n",
    "prompt2 = ChatPromptTemplate.from_template(\"explain {english_word} using oxford dictionary to me in Korean. returned only Korean.\")\n",
    "\n",
    "llm = AzureChatOpenAI(deployment_name='GPT4-Test')\n",
    "\n",
    "chain1 = prompt1 | llm | StrOutputParser()\n",
    "\n",
    "chain1.invoke({\"korean_word\":\"미래\"})"
   ]
  },
  {
   "cell_type": "code",
   "execution_count": 8,
   "id": "dcfb4195",
   "metadata": {},
   "outputs": [
    {
     "data": {
      "text/plain": [
       "'미래라는 단어를 옥스퍼드 사전을 사용하여 설명하면, 미래는 아직 오지 않은 시간, 특히 아직 일어나지 않은 일들이 발생할 시간을 의미합니다. 또한 미래는 개인이나 어떤 것의 앞으로 있을 일들, 즉 장래의 상황이나 발전을 가리키기도 합니다.'"
      ]
     },
     "execution_count": 8,
     "metadata": {},
     "output_type": "execute_result"
    }
   ],
   "source": [
    "chain2 = (\n",
    "    {\"english_word\": chain1}  # Chain 1의 결과를 Chain 2의 Prompt 2 - english_word 변수에 활용\n",
    "    | prompt2\n",
    "    | llm\n",
    "    | StrOutputParser()\n",
    ")\n",
    "\n",
    "chain2.invoke({\"korean_word\":\"미래\"})"
   ]
  },
  {
   "cell_type": "markdown",
   "id": "d8d1abe0",
   "metadata": {},
   "source": [
    "## 프롬프트 결합"
   ]
  },
  {
   "cell_type": "code",
   "execution_count": 9,
   "id": "a951fc63",
   "metadata": {},
   "outputs": [
    {
     "data": {
      "text/plain": [
       "'안녕하세요, 제 이름은 홍길동이고, 나이는 30살입니다.'"
      ]
     },
     "execution_count": 9,
     "metadata": {},
     "output_type": "execute_result"
    }
   ],
   "source": [
    "from langchain_core.prompts import PromptTemplate\n",
    "\n",
    "# 'name'과 'age'라는 두 개의 변수를 사용하는 프롬프트 템플릿을 정의\n",
    "template_text = \"안녕하세요, 제 이름은 {name}이고, 나이는 {age}살입니다.\"\n",
    "\n",
    "# PromptTemplate 인스턴스를 생성\n",
    "prompt_template = PromptTemplate.from_template(template_text)\n",
    "\n",
    "# 템플릿에 값을 채워서 프롬프트를 완성\n",
    "filled_prompt = prompt_template.format(name=\"홍길동\", age=30)\n",
    "\n",
    "filled_prompt"
   ]
  },
  {
   "cell_type": "code",
   "execution_count": 10,
   "id": "53941284",
   "metadata": {},
   "outputs": [
    {
     "data": {
      "text/plain": [
       "PromptTemplate(input_variables=['age', 'language', 'name'], template='안녕하세요, 제 이름은 {name}이고, 나이는 {age}살입니다.\\n\\n아버지를 아버지라 부를 수 없습니다.\\n\\n{language}로 번역해주세요.')"
      ]
     },
     "execution_count": 10,
     "metadata": {},
     "output_type": "execute_result"
    }
   ],
   "source": [
    "combined_prompt = (\n",
    "              prompt_template\n",
    "              + PromptTemplate.from_template(\"\\n\\n아버지를 아버지라 부를 수 없습니다.\")\n",
    "              + \"\\n\\n{language}로 번역해주세요.\"\n",
    ")\n",
    "\n",
    "combined_prompt"
   ]
  },
  {
   "cell_type": "code",
   "execution_count": 11,
   "id": "199928da",
   "metadata": {},
   "outputs": [
    {
     "name": "stdout",
     "output_type": "stream",
     "text": [
      "안녕하세요, 제 이름은 홍길동이고, 나이는 30살입니다.\n",
      "\n",
      "아버지를 아버지라 부를 수 없습니다.\n",
      "\n",
      "영어로 번역해주세요.\n"
     ]
    }
   ],
   "source": [
    "print(combined_prompt.format(name=\"홍길동\", age=30, language=\"영어\"))"
   ]
  },
  {
   "cell_type": "code",
   "execution_count": 12,
   "id": "59109cd6",
   "metadata": {},
   "outputs": [
    {
     "data": {
      "text/plain": [
       "'Hello, my name is Hong Gildong, and I am 30 years old.\\n\\nI cannot call my father \"father.\"'"
      ]
     },
     "execution_count": 12,
     "metadata": {},
     "output_type": "execute_result"
    }
   ],
   "source": [
    "chain = combined_prompt | llm | StrOutputParser()\n",
    "chain.invoke({\"age\":30, \"language\":\"영어\", \"name\":\"홍길동\"})"
   ]
  },
  {
   "cell_type": "markdown",
   "id": "824c4345",
   "metadata": {},
   "source": [
    "## 채팅 형태 프롬프트"
   ]
  },
  {
   "cell_type": "code",
   "execution_count": 13,
   "id": "2a6ba205",
   "metadata": {},
   "outputs": [
    {
     "data": {
      "text/plain": [
       "[SystemMessage(content='이 시스템은 천문학 질문에 답변할 수 있습니다.'),\n",
       " HumanMessage(content='태양계에서 가장 큰 행성은 무엇인가요?')]"
      ]
     },
     "execution_count": 13,
     "metadata": {},
     "output_type": "execute_result"
    }
   ],
   "source": [
    "from langchain_core.prompts import ChatPromptTemplate\n",
    "\n",
    "chat_prompt = ChatPromptTemplate.from_messages([\n",
    "    (\"system\", \"이 시스템은 천문학 질문에 답변할 수 있습니다.\"),\n",
    "    (\"user\", \"{user_input}\"),\n",
    "])\n",
    "\n",
    "messages = chat_prompt.format_messages(user_input=\"태양계에서 가장 큰 행성은 무엇인가요?\")\n",
    "messages"
   ]
  },
  {
   "cell_type": "code",
   "execution_count": 14,
   "id": "333b749b",
   "metadata": {},
   "outputs": [
    {
     "data": {
      "text/plain": [
       "'태양계에서 가장 큰 행성은 목성(Jupiter)입니다. 목성은 질량이나 부피 모두에서 태양계의 다른 어떤 행성보다 크며, 주로 수소와 헬륨으로 구성된 가스 행성입니다. 목성의 질량은 지구의 약 318배이며, 태양계 전체 질량의 약 2.5%를 차지합니다.'"
      ]
     },
     "execution_count": 14,
     "metadata": {},
     "output_type": "execute_result"
    }
   ],
   "source": [
    "chain = chat_prompt | llm | StrOutputParser()\n",
    "\n",
    "chain.invoke({\"user_input\": \"태양계에서 가장 큰 행성은 무엇인가요?\"})"
   ]
  },
  {
   "cell_type": "code",
   "execution_count": 15,
   "id": "d6ebdd72",
   "metadata": {},
   "outputs": [
    {
     "data": {
      "text/plain": [
       "[SystemMessage(content='이 시스템은 천문학 질문에 답변할 수 있습니다.'),\n",
       " HumanMessage(content='태양계에서 가장 큰 행성은 무엇인가요?')]"
      ]
     },
     "execution_count": 15,
     "metadata": {},
     "output_type": "execute_result"
    }
   ],
   "source": [
    "from langchain_core.prompts import SystemMessagePromptTemplate,  HumanMessagePromptTemplate\n",
    "\n",
    "chat_prompt = ChatPromptTemplate.from_messages(\n",
    "    [\n",
    "        SystemMessagePromptTemplate.from_template(\"이 시스템은 천문학 질문에 답변할 수 있습니다.\"),\n",
    "        HumanMessagePromptTemplate.from_template(\"{user_input}\"),\n",
    "    ]\n",
    ")\n",
    "\n",
    "messages = chat_prompt.format_messages(user_input=\"태양계에서 가장 큰 행성은 무엇인가요?\")\n",
    "messages"
   ]
  },
  {
   "cell_type": "code",
   "execution_count": 16,
   "id": "30647b7f",
   "metadata": {},
   "outputs": [
    {
     "data": {
      "text/plain": [
       "'태양계에서 가장 큰 행성은 목성(Jupiter)입니다. 목성은 질량과 볼륨 모두에서 태양계 내의 다른 어떤 행성보다 크며, 주로 수소와 헬륨으로 구성된 거대 가스 행성입니다. 목성의 대기는 강력한 폭풍과 대적점으로 유명한 거대한 폭풍 시스템을 포함하여 복잡한 기상 현상을 보여줍니다.'"
      ]
     },
     "execution_count": 16,
     "metadata": {},
     "output_type": "execute_result"
    }
   ],
   "source": [
    "chain = chat_prompt | llm | StrOutputParser()\n",
    "\n",
    "chain.invoke({\"user_input\": \"태양계에서 가장 큰 행성은 무엇인가요?\"})"
   ]
  },
  {
   "cell_type": "markdown",
   "id": "74f260f4",
   "metadata": {},
   "source": [
    "## 모델 파라미터 튜닝"
   ]
  },
  {
   "cell_type": "code",
   "execution_count": 17,
   "id": "b238a3f4",
   "metadata": {},
   "outputs": [],
   "source": [
    "params = {\n",
    "    \"temperature\": 0.7,         # 생성된 텍스트의 다양성 조정\n",
    "    \"max_tokens\": 100,          # 생성할 최대 토큰 수    \n",
    "}\n",
    "\n",
    "kwargs = {\n",
    "    \"frequency_penalty\": 0.5,   # 이미 등장한 단어의 재등장 확률\n",
    "    \"presence_penalty\": 0.5,    # 새로운 단어의 도입을 장려\n",
    "    \"stop\": [\"\\n\"]              # 정지 시퀀스 설정\n",
    "\n",
    "}\n",
    "\n",
    "# 모델 인스턴스를 생성할 때 설정\n",
    "llm = AzureChatOpenAI(deployment_name='GPT4-Test', **params, model_kwargs = kwargs)"
   ]
  },
  {
   "cell_type": "markdown",
   "id": "1e32d3cd",
   "metadata": {},
   "source": [
    "## 여러 출력 파서"
   ]
  },
  {
   "cell_type": "code",
   "execution_count": 19,
   "id": "11b9b246",
   "metadata": {},
   "outputs": [
    {
     "name": "stdout",
     "output_type": "stream",
     "text": [
      "Your response should be a list of comma separated values, eg: `foo, bar, baz` or `foo,bar,baz`\n"
     ]
    }
   ],
   "source": [
    "from langchain_core.output_parsers import CommaSeparatedListOutputParser\n",
    "\n",
    "# 콤마 구분 출력 파서 : split(',') 과 동일한 기능\n",
    "output_parser = CommaSeparatedListOutputParser()\n",
    "format_instructions = output_parser.get_format_instructions()\n",
    "\n",
    "print(format_instructions)"
   ]
  },
  {
   "cell_type": "code",
   "execution_count": 20,
   "id": "5390747f",
   "metadata": {},
   "outputs": [
    {
     "data": {
      "text/plain": [
       "['kimchi', 'bulgogi', 'bibimbap', 'tteokbokki', 'samgyeopsal']"
      ]
     },
     "execution_count": 20,
     "metadata": {},
     "output_type": "execute_result"
    }
   ],
   "source": [
    "from langchain_core.prompts import PromptTemplate\n",
    "\n",
    "prompt = PromptTemplate(\n",
    "    template=\"List five {subject}.\\n{format_instructions}\",\n",
    "    input_variables=[\"subject\"],\n",
    "    partial_variables={\"format_instructions\": format_instructions},\n",
    ")\n",
    "\n",
    "llm = AzureChatOpenAI(deployment_name='GPT4-Test')\n",
    "\n",
    "chain = prompt | llm | output_parser\n",
    "\n",
    "chain.invoke({\"subject\": \"popular Korean cusine\"})"
   ]
  },
  {
   "cell_type": "code",
   "execution_count": 21,
   "id": "297b34c7",
   "metadata": {},
   "outputs": [
    {
     "name": "stdout",
     "output_type": "stream",
     "text": [
      "The output should be formatted as a JSON instance that conforms to the JSON schema below.\n",
      "\n",
      "As an example, for the schema {\"properties\": {\"foo\": {\"title\": \"Foo\", \"description\": \"a list of strings\", \"type\": \"array\", \"items\": {\"type\": \"string\"}}}, \"required\": [\"foo\"]}\n",
      "the object {\"foo\": [\"bar\", \"baz\"]} is a well-formatted instance of the schema. The object {\"properties\": {\"foo\": [\"bar\", \"baz\"]}} is not well-formatted.\n",
      "\n",
      "Here is the output schema:\n",
      "```\n",
      "{\"properties\": {\"name\": {\"title\": \"Name\", \"description\": \"name of a cusine\", \"type\": \"string\"}, \"recipe\": {\"title\": \"Recipe\", \"description\": \"recipe to cook the cusine\", \"type\": \"string\"}}, \"required\": [\"name\", \"recipe\"]}\n",
      "```\n"
     ]
    }
   ],
   "source": [
    "from langchain_core.output_parsers import JsonOutputParser\n",
    "from langchain_core.pydantic_v1 import BaseModel, Field\n",
    "\n",
    "# Pydantic을 통해 Data Architecture를 정의하여 JSON 형태의 출력을 지정\n",
    "# ***** GPT 제외 HuggingFace에 공개된 Open LLM 모델 간 적용 정도의 차이가 심한 파서 *****\n",
    "\n",
    "# 자료구조 정의 (Pydantic)\n",
    "class CusineRecipe(BaseModel):\n",
    "    name: str = Field(description=\"name of a cusine\")\n",
    "    recipe: str = Field(description=\"recipe to cook the cusine\")\n",
    "\n",
    "# 출력 파서 정의\n",
    "output_parser = JsonOutputParser(pydantic_object=CusineRecipe)\n",
    "\n",
    "format_instructions = output_parser.get_format_instructions()\n",
    "\n",
    "print(format_instructions)"
   ]
  },
  {
   "cell_type": "code",
   "execution_count": 22,
   "id": "1aaa3fdb",
   "metadata": {},
   "outputs": [
    {
     "name": "stdout",
     "output_type": "stream",
     "text": [
      "input_variables=['query'] partial_variables={'format_instructions': 'The output should be formatted as a JSON instance that conforms to the JSON schema below.\\n\\nAs an example, for the schema {\"properties\": {\"foo\": {\"title\": \"Foo\", \"description\": \"a list of strings\", \"type\": \"array\", \"items\": {\"type\": \"string\"}}}, \"required\": [\"foo\"]}\\nthe object {\"foo\": [\"bar\", \"baz\"]} is a well-formatted instance of the schema. The object {\"properties\": {\"foo\": [\"bar\", \"baz\"]}} is not well-formatted.\\n\\nHere is the output schema:\\n```\\n{\"properties\": {\"name\": {\"title\": \"Name\", \"description\": \"name of a cusine\", \"type\": \"string\"}, \"recipe\": {\"title\": \"Recipe\", \"description\": \"recipe to cook the cusine\", \"type\": \"string\"}}, \"required\": [\"name\", \"recipe\"]}\\n```'} template='Answer the user query.\\n{format_instructions}\\n{query}\\n'\n"
     ]
    }
   ],
   "source": [
    "prompt = PromptTemplate(\n",
    "    template=\"Answer the user query.\\n{format_instructions}\\n{query}\\n\",\n",
    "    input_variables=[\"query\"],\n",
    "    partial_variables={\"format_instructions\": format_instructions},\n",
    ")\n",
    "\n",
    "print(prompt)"
   ]
  },
  {
   "cell_type": "code",
   "execution_count": 23,
   "id": "08181679",
   "metadata": {},
   "outputs": [
    {
     "data": {
      "text/plain": [
       "{'name': 'Bibimbap',\n",
       " 'recipe': 'Bibimbap is a traditional Korean dish that is served as a bowl of warm white rice topped with namul (sautéed and seasoned vegetables) and gochujang (chili pepper paste). The dish is mixed thoroughly just before eating. Here is a simple recipe:\\n1. Prepare steamed rice.\\n2. Sauté your choice of vegetables (such as spinach, mushrooms, zucchini, and bean sprouts) and set them aside.\\n3. Fry an egg sunny side up.\\n4. Assemble the dish by placing the cooked rice in a bowl, arranging the sautéed vegetables on top, adding a dollop of gochujang, and topping it with the fried egg.\\n5. Mix all the ingredients well before eating. Optionally, you can add soy sauce, sesame oil, or a sprinkle of sesame seeds for additional flavor.'}"
      ]
     },
     "execution_count": 23,
     "metadata": {},
     "output_type": "execute_result"
    }
   ],
   "source": [
    "chain = prompt | llm | output_parser\n",
    "\n",
    "chain.invoke({\"query\": \"Let me know how to cook Bibimbap\"})"
   ]
  },
  {
   "cell_type": "markdown",
   "id": "ac144b6e",
   "metadata": {},
   "source": [
    "## RAG - Data load"
   ]
  },
  {
   "cell_type": "code",
   "execution_count": 24,
   "id": "8ec8513a",
   "metadata": {},
   "outputs": [],
   "source": [
    "## RAG\n",
    "\n",
    "from langchain_community.document_loaders import WebBaseLoader\n",
    "\n",
    "# 위키피디아 정책과 지침\n",
    "url = 'https://ko.wikipedia.org/wiki/%EC%9C%84%ED%82%A4%EB%B0%B1%EA%B3%BC:%EC%A0%95%EC%B1%85%EA%B3%BC_%EC%A7%80%EC%B9%A8'\n",
    "loader = WebBaseLoader(url)"
   ]
  },
  {
   "cell_type": "code",
   "execution_count": 25,
   "id": "0e801150",
   "metadata": {},
   "outputs": [
    {
     "name": "stdout",
     "output_type": "stream",
     "text": [
      "1\n",
      "13153\n",
      "좀 더 빠르게 강력한 수단을 이용해야 합니다. 특히 정책 문서에 명시된 원칙을 지키지 않는 것은 대부분의 경우 다른 사용자에게 받아들여지지 않습니다 (다른 분들에게 예외 상황임을 설득할 수 있다면 가능하기는 하지만요). 이는 당신을 포함해서 편집자 개개인이 정책과 지침을 직접 집행 및 적용한다는 것을 의미합니다.\n",
      "특정 사용자가 명백히 정책에 반하는 행동을 하거나 정책과 상충되는 방식으로 지침을 어기는 경우, 특히 의도적이고 지속적으로 그런 행위를 하는 경우 해당 사용자는 관리자의 제재 조치로 일시적, 혹은 영구적으로 편집이 차단될 수 있습니다. 영어판을 비롯한 타 언어판에서는 일반적인 분쟁 해결 절차로 끝낼 수 없는 사안은 중재위원회가 개입하기도 합니다.\n",
      "\n",
      "문서 내용\n",
      "정책과 지침의 문서 내용은 처음 읽는 사용자라도 원칙과 규범을 잘 이해할 수 있도록 다음 원칙을 지켜야 합니다.\n",
      "\n",
      "명확하게 작성하세요. 소수만 알아듣거나 준법률적인 단어, 혹은 지나치게 단순한 표현은 피해야 합니다. 명확하고, 직접적이고, 모호하지 않고, 구체적으로 작성하세요. 지나치게 상투적인 표현이나 일반론은 피하세요. 지침, 도움말 문서 및 기타 정보문 문서에서도 \"해야 합니다\" 혹은 \"하지 말아야 합니다\" 같이 직접적인 표현을 굳이 꺼릴 필요는 없습니다.\n",
      "가능한 간결하게, 너무 단순하지는 않게. 정책이 중언부언하면 오해를 부릅니다. 불필요한 말은 생략하세요. 직접적이고 간결한 설명이 마구잡이식 예시 나열보다 더 이해하기 쉽습니다. 각주나 관련 문서 링크를 이용하여 더 상세히 설명할 수도 있습니다.\n",
      "규칙을 만든 의도를 강조하세요. 사용자들이 상식대로 행동하리라 기대하세요. 정책의 의도가 명료하다면, 추가 설명은 필요 없죠. 즉 규칙을 '어떻게' 지키는지와 더불어 '왜' 지켜야 하는지 확실하게 밝혀야 합니다.\n",
      "범위는 분명히, 중복은 피하기. 되도록 앞부분에서 정책 및 지침의 목적과 범위를 분명하게 밝혀야 합니다. 독자 대부분은 도입부 초반만 읽고 나가버리니까요. 각 정책 문서의 내용은 해당 정\n"
     ]
    }
   ],
   "source": [
    "docs = loader.load()\n",
    "\n",
    "print(len(docs))\n",
    "print(len(docs[0].page_content))\n",
    "print(docs[0].page_content[5000:6000])"
   ]
  },
  {
   "cell_type": "markdown",
   "id": "68e8f183",
   "metadata": {},
   "source": [
    "## RAG - Split"
   ]
  },
  {
   "cell_type": "code",
   "execution_count": 26,
   "id": "ef1a99f4",
   "metadata": {},
   "outputs": [
    {
     "name": "stdout",
     "output_type": "stream",
     "text": [
      "18\n",
      "page_content='제안과 채택\\n\\xa0백:아님 §\\xa0관료주의  문서를 참고하십시오. 단축백:제안\\n제안 문서란 정책과 지침으로 채택하자고 의견을 묻는 문서이나 아직 위키백과 내에 받아들여지는 원칙으로 확립되지는 않은 문서입니다. {{제안}} 틀을 붙여 공동체 내에서 정책이나 지침으로 채택할 지 의견을 물을 수 있습니다. 제안 문서는 정책과 지침이 아니므로 아무리 실제 있는 정책이나 지침을 요약하거나 인용해서 다른 문서에 쓴다고 해도 함부로 정책이나 지침 틀을 붙여서는 안 됩니다.\\n\\'제안\\'은 완전 새로운 원칙이라기보다, 기존의 불문율이나 토론 총의의 문서를 통한 구체화에 가깝습니다. 많은 사람들이 쉽게 제안을 받아들이도록 하기 위해서는, 기초적인 원칙을 우선 정하고 기본 틀을 짜야 합니다. 정책과 지침의 기본 원칙은 \"왜 지켜야 하는가?\", \"어떻게 지켜야 하는가?\" 두 가지입니다. 특정 원칙을 정책이나 지침으로 확립하기 위해서는 우선 저 두 가지 물음에 성실하게 답하는 제안 문서를 작성해야 합니다.\\n좋은 아이디어를 싣기 위해 사랑방이나 관련 위키프로젝트에 도움을 구해 피드백을 요청할 수 있습니다. 이 과정에서 공동체가 어느 정도 받아들일 수 있는 원칙이 구체화됩니다. 많은 이와의 토론을 통해 공감대가 형성되고 제안을 개선할 수 있습니다.\\n정책이나 지침은 위키백과 내의 모든 편집자들에게 적용되는 원칙이므로 높은 수준의 총의가 요구됩니다. 제안 문서가 잘 짜여졌고 충분히 논의되었다면, 더 많은 공동체의 편집자와 논의를 하기 위해 승격 제안을 올려야 합니다. 제안 문서 맨 위에 {{제안}}을 붙여 제안 안건임을 알려주고, 토론 문서에 {{의견 요청}}을 붙인 뒤 채택 제안에 관한 토론 문단을 새로 만들면 됩니다. 많은 편집자들에게 알리기 위해 관련 내용을 {{위키백과 소식}}에 올리고 사랑방에 이를 공지해야 하며, 합의가 있을 경우 미디어위키의 sitenotice(위키백과 최상단에 노출되는 구역)에 공지할 수도 있습니다.' metadata={'source': 'https://ko.wikipedia.org/wiki/%EC%9C%84%ED%82%A4%EB%B0%B1%EA%B3%BC:%EC%A0%95%EC%B1%85%EA%B3%BC_%EC%A7%80%EC%B9%A8', 'title': '위키백과:정책과 지침 - 위키백과, 우리 모두의 백과사전', 'language': 'ko'}\n"
     ]
    }
   ],
   "source": [
    "from langchain.text_splitter import RecursiveCharacterTextSplitter\n",
    "\n",
    "# 검색 효율성을 위해 Chunk 단위로 Text 분할\n",
    "text_splitter = RecursiveCharacterTextSplitter(chunk_size=1000, chunk_overlap=200)\n",
    "splits = text_splitter.split_documents(docs)\n",
    "\n",
    "print(len(splits))\n",
    "print(splits[10])\n",
    "\n",
    "# 13149개의 문자로 이루어진 긴 문장을 최대 1000 글자 단위로 분할\n",
    "# 200 글자는 각 분할마다 겹치게 하여 문맥이 잘려나가지 않고 유지\n",
    "# 18개 조각으로 분할"
   ]
  },
  {
   "cell_type": "code",
   "execution_count": 27,
   "id": "257af766",
   "metadata": {},
   "outputs": [
    {
     "name": "stdout",
     "output_type": "stream",
     "text": [
      "제안과 채택\n",
      " 백:아님 § 관료주의  문서를 참고하십시오. 단축백:제안\n",
      "제안 문서란 정책과 지침으로 채택하자고 의견을 묻는 문서이나 아직 위키백과 내에 받아들여지는 원칙으로 확립되지는 않은 문서입니다. {{제안}} 틀을 붙여 공동체 내에서 정책이나 지침으로 채택할 지 의견을 물을 수 있습니다. 제안 문서는 정책과 지침이 아니므로 아무리 실제 있는 정책이나 지침을 요약하거나 인용해서 다른 문서에 쓴다고 해도 함부로 정책이나 지침 틀을 붙여서는 안 됩니다.\n",
      "'제안'은 완전 새로운 원칙이라기보다, 기존의 불문율이나 토론 총의의 문서를 통한 구체화에 가깝습니다. 많은 사람들이 쉽게 제안을 받아들이도록 하기 위해서는, 기초적인 원칙을 우선 정하고 기본 틀을 짜야 합니다. 정책과 지침의 기본 원칙은 \"왜 지켜야 하는가?\", \"어떻게 지켜야 하는가?\" 두 가지입니다. 특정 원칙을 정책이나 지침으로 확립하기 위해서는 우선 저 두 가지 물음에 성실하게 답하는 제안 문서를 작성해야 합니다.\n",
      "좋은 아이디어를 싣기 위해 사랑방이나 관련 위키프로젝트에 도움을 구해 피드백을 요청할 수 있습니다. 이 과정에서 공동체가 어느 정도 받아들일 수 있는 원칙이 구체화됩니다. 많은 이와의 토론을 통해 공감대가 형성되고 제안을 개선할 수 있습니다.\n",
      "정책이나 지침은 위키백과 내의 모든 편집자들에게 적용되는 원칙이므로 높은 수준의 총의가 요구됩니다. 제안 문서가 잘 짜여졌고 충분히 논의되었다면, 더 많은 공동체의 편집자와 논의를 하기 위해 승격 제안을 올려야 합니다. 제안 문서 맨 위에 {{제안}}을 붙여 제안 안건임을 알려주고, 토론 문서에 {{의견 요청}}을 붙인 뒤 채택 제안에 관한 토론 문단을 새로 만들면 됩니다. 많은 편집자들에게 알리기 위해 관련 내용을 {{위키백과 소식}}에 올리고 사랑방에 이를 공지해야 하며, 합의가 있을 경우 미디어위키의 sitenotice(위키백과 최상단에 노출되는 구역)에 공지할 수도 있습니다.\n"
     ]
    }
   ],
   "source": [
    "print(splits[10].page_content)"
   ]
  },
  {
   "cell_type": "code",
   "execution_count": 28,
   "id": "92fa821b",
   "metadata": {},
   "outputs": [
    {
     "data": {
      "text/plain": [
       "{'source': 'https://ko.wikipedia.org/wiki/%EC%9C%84%ED%82%A4%EB%B0%B1%EA%B3%BC:%EC%A0%95%EC%B1%85%EA%B3%BC_%EC%A7%80%EC%B9%A8',\n",
       " 'title': '위키백과:정책과 지침 - 위키백과, 우리 모두의 백과사전',\n",
       " 'language': 'ko'}"
      ]
     },
     "execution_count": 28,
     "metadata": {},
     "output_type": "execute_result"
    }
   ],
   "source": [
    "splits[10].metadata"
   ]
  },
  {
   "cell_type": "markdown",
   "id": "faa660bb",
   "metadata": {},
   "source": [
    "## RAG - Indexing"
   ]
  },
  {
   "cell_type": "code",
   "execution_count": 29,
   "id": "71c861bf",
   "metadata": {
    "scrolled": false
   },
   "outputs": [],
   "source": [
    "from langchain_community.vectorstores import Chroma\n",
    "from langchain_community.embeddings import AzureOpenAIEmbeddings\n",
    "\n",
    "# Documents로 설정한 Text를 벡터로 임베딩하여 Chroma DB에 저장\n",
    "# 이후 similarity_search를 통해 유사도 기반 문서 검색\n",
    "# Documents는 설정한 Text Splitter의 split_documents(텍스트 문서) 메서드를 통해 생성\n",
    "\n",
    "\n",
    "# 벡터 DB 생성 디렉토리\n",
    "DB_PATH_HF = 'Directory'\n",
    "\n",
    "# 벡터 DB 생성\n",
    "vectorstore = Chroma.from_documents(\n",
    "    documents=splits,\n",
    "    embedding=AzureOpenAIEmbeddings(\n",
    "        model='text-embedding-ada-002',\n",
    "#         base_url=os.getenv('OPENAI_API_BASE'),\n",
    "        azure_deployment='Embedding'),\n",
    "#     persist_directory = DB_PATH_HF\n",
    ")\n",
    "\n",
    "# ===== 이미 생성된 벡터 DB가 있을 경우 Chroma 클래스 선언으로 불러오기 가능 =====\n",
    "# vectorstore = Chroma(persist_directory=DB_PATH_HF, embedding_function=embeddings_model)"
   ]
  },
  {
   "cell_type": "code",
   "execution_count": 32,
   "id": "20003605",
   "metadata": {
    "collapsed": true
   },
   "outputs": [
    {
     "data": {
      "text/plain": [
       "\"\\nembeddings_model = HuggingFaceEmbeddings(\\n    model_name='jhgan/ko-sroberta-nli',\\n#     model_kwargs={'device':'cpu'},\\n    encode_kwargs={'normalize_embeddings':True},\\n)\\n\\nvectorstore = Chroma.from_documents(\\n    documents=splits,\\n    embedding=embeddings_model,\\n    persist_directory = DB_PATH_HF\\n)\\n\\nretriever = vectorstore.as_retriever(\\n#     search_type='mmr',\\n#     search_kwargs={'k': 1, 'lambda_mult': 0.15}\\n    search_kwargs={'k': 3}\\n)\\n\\n# 벡터 검색 문서 결합\\ndef format_docs(docs):\\n    return '\\n'.join(doc.page_content for doc in docs)\\n\""
      ]
     },
     "execution_count": 32,
     "metadata": {},
     "output_type": "execute_result"
    }
   ],
   "source": [
    "# ===== 한국어 임베딩을 위한 HuggingFace Embedding Model =====\n",
    "\n",
    "'''\n",
    "embeddings_model = HuggingFaceEmbeddings(\n",
    "    model_name='jhgan/ko-sroberta-nli',\n",
    "#     model_kwargs={'device':'cpu'},\n",
    "    encode_kwargs={'normalize_embeddings':True},\n",
    ")\n",
    "\n",
    "vectorstore = Chroma.from_documents(\n",
    "    documents=splits,\n",
    "    embedding=embeddings_model,\n",
    "    persist_directory = DB_PATH_HF\n",
    ")\n",
    "\n",
    "retriever = vectorstore.as_retriever(\n",
    "#     search_type='mmr',\n",
    "#     search_kwargs={'k': 1, 'lambda_mult': 0.15}\n",
    "    search_kwargs={'k': 3}\n",
    ")\n",
    "\n",
    "# 벡터 검색 문서 결합\n",
    "def format_docs(docs):\n",
    "    return '\\n'.join(doc.page_content for doc in docs)\n",
    "'''"
   ]
  },
  {
   "cell_type": "code",
   "execution_count": 33,
   "id": "7cd96084",
   "metadata": {},
   "outputs": [
    {
     "name": "stdout",
     "output_type": "stream",
     "text": [
      "5\n",
      "제안과 채택\n",
      " 백:아님 § 관료주의  문서를 참고하십시오. 단축백:제안\n",
      "제안 문서란 정책과 지침으로 채택하자고 의견을 묻는 문서이나 아직 위키백과 내에 받아들여지는 원칙으로 확립되지는 않은 문서입니다. {{제안}} 틀을 붙여 공동체 내에서 정책이나 지침으로 채택할 지 의견을 물을 수 있습니다. 제안 문서는 정책과 지침이 아니므로 아무리 실제 있는 정책이나 지침을 요약하거나 인용해서 다른 문서에 쓴다고 해도 함부로 정책이나 지침 틀을 붙여서는 안 됩니다.\n",
      "'제안'은 완전 새로운 원칙이라기보다, 기존의 불문율이나 토론 총의의 문서를 통한 구체화에 가깝습니다. 많은 사람들이 쉽게 제안을 받아들이도록 하기 위해서는, 기초적인 원칙을 우선 정하고 기본 틀을 짜야 합니다. 정책과 지침의 기본 원칙은 \"왜 지켜야 하는가?\", \"어떻게 지켜야 하는가?\" 두 가지입니다. 특정 원칙을 정책이나 지침으로 확립하기 위해서는 우선 저 두 가지 물음에 성실하게 답하는 제안 문서를 작성해야 합니다.\n",
      "좋은 아이디어를 싣기 위해 사랑방이나 관련 위키프로젝트에 도움을 구해 피드백을 요청할 수 있습니다. 이 과정에서 공동체가 어느 정도 받아들일 수 있는 원칙이 구체화됩니다. 많은 이와의 토론을 통해 공감대가 형성되고 제안을 개선할 수 있습니다.\n",
      "정책이나 지침은 위키백과 내의 모든 편집자들에게 적용되는 원칙이므로 높은 수준의 총의가 요구됩니다. 제안 문서가 잘 짜여졌고 충분히 논의되었다면, 더 많은 공동체의 편집자와 논의를 하기 위해 승격 제안을 올려야 합니다. 제안 문서 맨 위에 {{제안}}을 붙여 제안 안건임을 알려주고, 토론 문서에 {{의견 요청}}을 붙인 뒤 채택 제안에 관한 토론 문단을 새로 만들면 됩니다. 많은 편집자들에게 알리기 위해 관련 내용을 {{위키백과 소식}}에 올리고 사랑방에 이를 공지해야 하며, 합의가 있을 경우 미디어위키의 sitenotice(위키백과 최상단에 노출되는 구역)에 공지할 수도 있습니다.\n"
     ]
    }
   ],
   "source": [
    "docs = vectorstore.similarity_search(\"제안에 대해서 설명해주세요.\", k=5)\n",
    "\n",
    "print(len(docs))\n",
    "print(docs[0].page_content)"
   ]
  },
  {
   "cell_type": "code",
   "execution_count": 34,
   "id": "f3f12ed0",
   "metadata": {
    "scrolled": true
   },
   "outputs": [
    {
     "name": "stdout",
     "output_type": "stream",
     "text": [
      "1번째 문서 -\n",
      "\n",
      "제안과 채택\n",
      " 백:아님 § 관료주의  문서를 참고하십시오. 단축백:제안\n",
      "제안 문서란 정책과 지침으로 채택하자고 의견을 묻는 문서이나 아직 위키백과 내에 받아들여지는 원칙으로 확립되지는 않은 문서입니다. {{제안}} 틀을 붙여 공동체 내에서 정책이나 지침으로 채택할 지 의견을 물을 수 있습니다. 제안 문서는 정책과 지침이 아니므로 아무리 실제 있는 정책이나 지침을 요약하거나 인용해서 다른 문서에 쓴다고 해도 함부로 정책이나 지침 틀을 붙여서는 안 됩니다.\n",
      "'제안'은 완전 새로운 원칙이라기보다, 기존의 불문율이나 토론 총의의 문서를 통한 구체화에 가깝습니다. 많은 사람들이 쉽게 제안을 받아들이도록 하기 위해서는, 기초적인 원칙을 우선 정하고 기본 틀을 짜야 합니다. 정책과 지침의 기본 원칙은 \"왜 지켜야 하는가?\", \"어떻게 지켜야 하는가?\" 두 가지입니다. 특정 원칙을 정책이나 지침으로 확립하기 위해서는 우선 저 두 가지 물음에 성실하게 답하는 제안 문서를 작성해야 합니다.\n",
      "좋은 아이디어를 싣기 위해 사랑방이나 관련 위키프로젝트에 도움을 구해 피드백을 요청할 수 있습니다. 이 과정에서 공동체가 어느 정도 받아들일 수 있는 원칙이 구체화됩니다. 많은 이와의 토론을 통해 공감대가 형성되고 제안을 개선할 수 있습니다.\n",
      "정책이나 지침은 위키백과 내의 모든 편집자들에게 적용되는 원칙이므로 높은 수준의 총의가 요구됩니다. 제안 문서가 잘 짜여졌고 충분히 논의되었다면, 더 많은 공동체의 편집자와 논의를 하기 위해 승격 제안을 올려야 합니다. 제안 문서 맨 위에 {{제안}}을 붙여 제안 안건임을 알려주고, 토론 문서에 {{의견 요청}}을 붙인 뒤 채택 제안에 관한 토론 문단을 새로 만들면 됩니다. 많은 편집자들에게 알리기 위해 관련 내용을 {{위키백과 소식}}에 올리고 사랑방에 이를 공지해야 하며, 합의가 있을 경우 미디어위키의 sitenotice(위키백과 최상단에 노출되는 구역)에 공지할 수도 있습니다.\n",
      "\n",
      "\n",
      "\n",
      "2번째 문서 -\n",
      "\n",
      "차후 공지가 불충분했다는 이의 제기를 피하려면, 위의 링크를 이용하여 공지하세요. 공지에 비중립적인 단어를 사용하는 등의 선전 행위는 피하세요.\n",
      "토론이 끝났다면 선언과 함께 {{토론보존}} 틀을 이용하여 닫습니다. 총의 판단은 여타 토론과 마찬가지로  분쟁 해결 정책에서 갈음해 처리합니다. 토론을 통해 정책이나 지침 채택 여부를 논의하며, 이 과정에서 제안 문서가 크게 수정될 수도 있습니다. 토론 중 제안을 정식 정책/지침으로 채택하자는 합의로 모이고 나서 2주 (정확히 14일. 이후 내용은 모두 같습니다) 간 제안을 대폭 수정해야 하는 변경안 제시나 명확한 근거가 존재하는 반대가 나오지 않는다면 정책이나 지침으로 정식으로 채택됩니다. 반대로 토론자들 사이에서 채택을 거부한다는 합의가 모아져서 2주간 명확한 근거가 존재하는 반대 의견이 나오지 않는다면 채택안 거부 총의가 모아졌다고 보아 기각됩니다. 주요한 총의 판단 기준은 다음과 같습니다.\n",
      "\n",
      "\n",
      "\n",
      "3번째 문서 -\n",
      "\n",
      "정책과 지침 관련 총의는 추세가 뚜렷해야 하지만, 만장일치일 필요는 없습니다.\n",
      "제안 작성자 이외에도 공동체 전체에 노출되어 있어야 합니다.\n",
      "제안 문서의 영향력을 고려하세요.\n",
      "토론 중 중대한 문제가 제기되었는가?\n",
      "다른 정책 또는 지침과 모순되지는 않는가?\n",
      "새로 제정된 다른 정책 또는 지침과 병합될 수도 있는가?\n",
      "이미 존재하는 정책 및 지침과 중복되지는 않는가?\n",
      "제안 처리는 단순 득표수로 결정되지 않습니다. 투표는 토론을 대체하지 않으며, 득표수가 총의와 합치하는 것도 아닙니다.\n",
      "총의가 불분명하고, 이 상황이 개선될 것 같지 않다면 이는 거부됩니다.\n",
      "채택 토론은 세 가지로 귀결됩니다. 채택, 총의 없음, 거부.  토론 종결 이후 {{제안}} 틀을 제거하고 알맞은 틀을 삽입하세요. 가령 {{정책}}, {{지침}}, {{수필}}, {{거부}}  등을 말이죠. 그 외에 다양한 틀에는 위키백과 이름공간 관련 틀 (영어 위키백과)을 참고하세요.\n",
      "제안이 통과되었다면, 위키백과:사랑방에 통과된 정책의 주요 내용을 정리해서 새 제안이 정책/지침화되었음을 공지해야 합니다. 제안이 거부되었다면 특별한 합의가 있지 않는 이상 {{거부}} 틀을 지우지 않습니다. 이후 문서 개선 등을 통해 새 규칙으로 발전할 수도 있고, 다른 정책 개정 시 논란이 없는 부분에 한해 도입되기도 되기도 하니까요.\n",
      "\n",
      "\n",
      "\n",
      "4번째 문서 -\n",
      "\n",
      "명확하게 작성하세요. 소수만 알아듣거나 준법률적인 단어, 혹은 지나치게 단순한 표현은 피해야 합니다. 명확하고, 직접적이고, 모호하지 않고, 구체적으로 작성하세요. 지나치게 상투적인 표현이나 일반론은 피하세요. 지침, 도움말 문서 및 기타 정보문 문서에서도 \"해야 합니다\" 혹은 \"하지 말아야 합니다\" 같이 직접적인 표현을 굳이 꺼릴 필요는 없습니다.\n",
      "가능한 간결하게, 너무 단순하지는 않게. 정책이 중언부언하면 오해를 부릅니다. 불필요한 말은 생략하세요. 직접적이고 간결한 설명이 마구잡이식 예시 나열보다 더 이해하기 쉽습니다. 각주나 관련 문서 링크를 이용하여 더 상세히 설명할 수도 있습니다.\n",
      "규칙을 만든 의도를 강조하세요. 사용자들이 상식대로 행동하리라 기대하세요. 정책의 의도가 명료하다면, 추가 설명은 필요 없죠. 즉 규칙을 '어떻게' 지키는지와 더불어 '왜' 지켜야 하는지 확실하게 밝혀야 합니다.\n",
      "범위는 분명히, 중복은 피하기. 되도록 앞부분에서 정책 및 지침의 목적과 범위를 분명하게 밝혀야 합니다. 독자 대부분은 도입부 초반만 읽고 나가버리니까요. 각 정책 문서의 내용은 해당 정책의 범위 내에서만 서술하세요. 한 도움말 문서가 다루는 범위가 다른 것과 겹친다면, 중복되는 부분을 최소화하세요. 한 정책 문서에서 다른 정책을 설명할 시, 최대한 간단명료하게만 작성해야 합니다.\n",
      "과도한 링크는 피하세요. 타 정책, 지침, 수필, 기타 문서는 설명 또는 문맥상 필요할 시에만 링크해야 합니다. 다른 도움말 문서로 링크하는 것은 의도였든 아니든 해당 문서에 지나친 권위를 부여할 수 있습니다. 링크해도 되는 것과 안 되는 것을 명확히 해 주세요.\n",
      "\n",
      "\n",
      "\n",
      "5번째 문서 -\n",
      "\n",
      "채택 과정\n",
      "한국어 위키백과에서 오랫동안 확립되어 온 정책과 지침의 대다수는, 영어 위키백과 설립 시 토대가 된 원칙에서 발전된 것들입니다. 물론 타 언어 위키백과의 원칙을 가져오는 것 말고도, 정책과 지침을 일반적인 문제와 문서 훼손 행위의 대응책으로 한국어 위키백과 내 공동체에서 자발적으로 세우기도 했습니다. 정책과 지침 대부분은 전례 없이 바로 받아들여지기보다, 공동체의 강력한 지지를 바탕으로 세워집니다. 정책과 지침의 제정 방법으로는 제안을 통한 수립, 기존의 수필 또는 지침의 정책화, 기존의 정책과 지침의 분할 또는 합병을 통한 재구성 등의 여러 방법이 있습니다.\n",
      "정책과 지침이 아닌 위키백과 내 운영과 관련된 문서에는 {{수필}}, {{정보문}}, {{위키백과 사용서}} 등을 붙여 구분해야 합니다.\n",
      "현재 정책이나 지침으로 제안된 문서는 분류:위키백과 제안에 모여 있습니다. 총의를 통해 채택이 거부된 제안은 분류:위키백과 거부된 제안을 참조하세요. 여러분들의 참여를 환영합니다.\n",
      "\n",
      "\n",
      "\n"
     ]
    }
   ],
   "source": [
    "for i in range(5):\n",
    "    print(f'{i+1}번째 문서 -\\n\\n{docs[i].page_content}\\n\\n\\n')"
   ]
  },
  {
   "cell_type": "markdown",
   "id": "aa9d8d23",
   "metadata": {},
   "source": [
    "## 검색\n",
    "- 사용자의 질문이나 주어진 컨텍스트에 가장 관련된 정보를 찾아내는 과정\n",
    "- LangChain의 retriever 메소드 사용"
   ]
  },
  {
   "cell_type": "markdown",
   "id": "91f846b6",
   "metadata": {},
   "source": [
    "## 생성에 적용"
   ]
  },
  {
   "cell_type": "code",
   "execution_count": 35,
   "id": "9bafe9d0",
   "metadata": {
    "scrolled": true
   },
   "outputs": [
    {
     "data": {
      "text/plain": [
       "'격하 과정은 특정 위키백과 정책이나 지침이 더 이상 유용하지 않거나 중복되거나 불필요해질 때, 그 수준을 낮추는 절차를 의미합니다. 예를 들어, 정책을 지침으로, 혹은 정책이나 지침을 수필이나 중단된 문서로 격하시킬 수 있습니다. 이 과정은 새로운 정책이나 지침을 채택하는 절차와 유사하며, 다음과 같은 단계로 진행됩니다:\\n\\n1. **토론 시작**: 편집자들이 해당 정책이나 지침의 격하를 제안하며, 이에 대한 토론이 토론 문서에서 시작됩니다.\\n2. **공동체 참여 요청**: 프로젝트 문서 상단에 {{새로운 토론|문단=진행 중인 토론 문단}} 틀을 붙여 다른 편집자들의 참여와 의견을 요청합니다.\\n3. **토론 종료 및 평가**: 토론이 충분히 이루어진 후, 제3의 편집자(중립적인 위치에 있는)가 토론을 종료하고 평가하여 총의가 형성되었는지를 판단합니다.\\n4. **상태 변경**: 총의에 따라 정책이나 지침의 격하가 결정되면, 해당 문서 최상단에 {{중단}} 틀을 붙여서 더 이상 사용되지 않는 정책이나 지침임을 명시합니다.\\n5. **문서 이동**: 소수의 공동체 인원만이 지지하는 비공식 문서의 경우, 주된 작성자의 사용자 이름공간으로 문서를 이동할 수 있습니다. 이러한 논의는 해당 문서의 토론란에서 이루어지거나, 위키백과:의견 요청을 통해 처리될 수 있습니다.\\n\\n격하는 정책이나 지침이 시대의 변화나 위키백과 내부의 변화에 따라 필요하지 않게 되었을 때 이루어지며, 공동체의 합의에 기반합니다.'"
      ]
     },
     "execution_count": 35,
     "metadata": {},
     "output_type": "execute_result"
    }
   ],
   "source": [
    "from langchain_core.runnables import RunnablePassthrough\n",
    "\n",
    "# Prompt\n",
    "template = '''아래 context만을 참고해서 대답해주세요.:\n",
    "{context}\n",
    "\n",
    "Question: {question}\n",
    "'''\n",
    "\n",
    "prompt = ChatPromptTemplate.from_template(template)\n",
    "\n",
    "# LLM\n",
    "model = AzureChatOpenAI(deployment_name='GPT4-Test')\n",
    "\n",
    "# Rretriever\n",
    "retriever = vectorstore.as_retriever()\n",
    "\n",
    "# Combine Documents\n",
    "def format_docs(docs):\n",
    "    return '\\n\\n'.join(doc.page_content for doc in docs)\n",
    "\n",
    "# RAG Chain 연결\n",
    "rag_chain = (\n",
    "    {'context': retriever | format_docs, 'question': RunnablePassthrough()}\n",
    "    | prompt\n",
    "    | model\n",
    "    | StrOutputParser()\n",
    ")\n",
    "\n",
    "# Chain 실행\n",
    "rag_chain.invoke(\"격하 과정에 대해서 설명해주세요.\")"
   ]
  },
  {
   "cell_type": "markdown",
   "id": "2675ba12",
   "metadata": {},
   "source": [
    "## Web Loader"
   ]
  },
  {
   "cell_type": "code",
   "execution_count": 36,
   "id": "e0a42555",
   "metadata": {},
   "outputs": [
    {
     "data": {
      "text/plain": [
       "2"
      ]
     },
     "execution_count": 36,
     "metadata": {},
     "output_type": "execute_result"
    }
   ],
   "source": [
    "import bs4\n",
    "from langchain_community.document_loaders import WebBaseLoader\n",
    "\n",
    "# 여러 개의 url 지정 가능\n",
    "url1 = \"https://blog.langchain.dev/week-of-1-22-24-langchain-release-notes/\"\n",
    "url2 = \"https://blog.langchain.dev/week-of-2-5-24-langchain-release-notes/\"\n",
    "\n",
    "loader = WebBaseLoader(\n",
    "    web_paths=(url1, url2),\n",
    "    bs_kwargs=dict(\n",
    "        parse_only=bs4.SoupStrainer(\n",
    "            class_=(\"article-header\", \"article-content\")\n",
    "        )\n",
    "    ),\n",
    ")\n",
    "docs = loader.load()\n",
    "len(docs)"
   ]
  },
  {
   "cell_type": "code",
   "execution_count": 42,
   "id": "1b337692",
   "metadata": {},
   "outputs": [
    {
     "data": {
      "text/plain": [
       "[Document(page_content='', metadata={'source': 'https://blog.langchain.dev/week-of-1-22-24-langchain-release-notes/'}),\n",
       " Document(page_content='', metadata={'source': 'https://blog.langchain.dev/week-of-2-5-24-langchain-release-notes/'})]"
      ]
     },
     "execution_count": 42,
     "metadata": {},
     "output_type": "execute_result"
    }
   ],
   "source": [
    "docs"
   ]
  },
  {
   "cell_type": "markdown",
   "id": "2ccf2f95",
   "metadata": {},
   "source": [
    "## Text File Loader"
   ]
  },
  {
   "cell_type": "code",
   "execution_count": 39,
   "id": "97861619",
   "metadata": {},
   "outputs": [
    {
     "name": "stdout",
     "output_type": "stream",
     "text": [
      "<class 'list'>\n",
      "1\n"
     ]
    }
   ],
   "source": [
    "from langchain_community.document_loaders import TextLoader\n",
    "\n",
    "loader = TextLoader('history.txt', encoding='utf-8')\n",
    "data = loader.load()\n",
    "\n",
    "print(type(data))\n",
    "print(len(data))"
   ]
  },
  {
   "cell_type": "code",
   "execution_count": 40,
   "id": "b6ff1b11",
   "metadata": {},
   "outputs": [
    {
     "data": {
      "text/plain": [
       "[Document(page_content='한국의 역사는 수천 년에 걸쳐 이어져 온 긴 여정 속에서 다양한 문화와 전통이 형성되고 발전해 왔습니다. 고조선에서 시작해 삼국 시대의 경쟁, 그리고 통일 신라와 고려를 거쳐 조선까지, 한반도는 많은 변화를 겪었습니다.\\n\\n고조선은 기원전 2333년 단군왕검에 의해 세워졌다고 전해집니다. 이는 한국 역사상 최초의 국가로, 한민족의 시원이라 할 수 있습니다. 이후 기원전 1세기경에는 한반도와 만주 일대에서 여러 소국이 성장하며 삼한 시대로 접어듭니다.\\n\\n4세기경, 고구려, 백제, 신라의 삼국이 한반도의 주요 세력으로 부상했습니다. 이 시기는 삼국이 각각 문화와 기술, 무력을 발전시키며 경쟁적으로 성장한 시기로, 한국 역사에서 중요한 전환점을 마련했습니다. 특히 고구려는 북방의 강대국으로 성장하여 중국과도 여러 차례 전쟁을 벌였습니다.\\n\\n7세기 말, 신라는 당나라와 연합하여 백제와 고구려를 차례로 정복하고, 한반도 최초의 통일 국가인 통일 신라를 건립합니다. 이 시기에 신라는 불교를 국교로 채택하며 문화와 예술이 크게 발전했습니다.\\n\\n그러나 10세기에 이르러 신라는 내부의 분열과 외부의 압력으로 쇠퇴하고, 이를 대체하여 고려가 성립됩니다. 고려 시대에는 과거제도의 도입과 더불어 청자 등 고려 고유의 문화가 꽃피었습니다.\\n\\n조선은 1392년 이성계에 의해 건국되어, 1910년까지 이어졌습니다. 조선 초기에는 세종대왕이 한글을 창제하여 백성들의 문해율을 높이는 등 문화적, 과학적 성취가 이루어졌습니다. 그러나 조선 후기에는 내부적으로 실학의 발전과 함께 사회적 변화가 모색되었으나, 외부로부터의 압력은 점차 커져만 갔습니다.\\n\\n19세기 말부터 20세기 초에 걸쳐 한국은 제국주의 열강의 침략을 받으며 많은 시련을 겪었습니다. 1910년, 한국은 일본에 의해 강제로 병합되어 35년간의 식민 지배를 받게 됩니다. 이 기간 동안 한국인들은 독립을 위한 다양한 운동을 전개했으며, 이는 1945년 일본의 패망으로 이어지는 독립으로 결실을 맺었습니다.\\n\\n해방 후 한반도는 남북으로 분단되어 각각 다른 정부가 수립되었고, 1950년에는 한국전쟁이 발발하여 큰 피해를 입었습니다. 전쟁 후 남한은 빠른 경제 발전을 이루며 오늘날에 이르렀습니다.\\n\\n한국의 역사는 오랜 시간 동안 수많은 시련과 도전을 겪으며 형성된 깊은 유산을 지니고 있습니다. 오늘날 한국은 그 역사적 배경 위에서 세계적으로 중요한 역할을 하고 있으며, 과거의 역사가 현재와 미래에 어떻게 영향을 미치는지를 이해하는 것은 매우 중요합니다.', metadata={'source': 'history.txt'})]"
      ]
     },
     "execution_count": 40,
     "metadata": {},
     "output_type": "execute_result"
    }
   ],
   "source": [
    "data"
   ]
  },
  {
   "cell_type": "code",
   "execution_count": 43,
   "id": "b5a6e48a",
   "metadata": {},
   "outputs": [
    {
     "data": {
      "text/plain": [
       "1234"
      ]
     },
     "execution_count": 43,
     "metadata": {},
     "output_type": "execute_result"
    }
   ],
   "source": [
    "len(data[0].page_content)"
   ]
  },
  {
   "cell_type": "code",
   "execution_count": 44,
   "id": "c945ab7e",
   "metadata": {},
   "outputs": [
    {
     "data": {
      "text/plain": [
       "['.\\\\history.txt', '.\\\\places.txt']"
      ]
     },
     "execution_count": 44,
     "metadata": {},
     "output_type": "execute_result"
    }
   ],
   "source": [
    "import os\n",
    "from glob import glob\n",
    "\n",
    "files = glob(os.path.join('./', '*.txt'))\n",
    "files"
   ]
  },
  {
   "cell_type": "code",
   "execution_count": 45,
   "id": "77a524d4",
   "metadata": {},
   "outputs": [
    {
     "data": {
      "text/plain": [
       "2"
      ]
     },
     "execution_count": 45,
     "metadata": {},
     "output_type": "execute_result"
    }
   ],
   "source": [
    "from langchain_community.document_loaders import DirectoryLoader\n",
    "\n",
    "loader = DirectoryLoader(path='./', glob='*.txt')\n",
    "\n",
    "data = loader.load()\n",
    "\n",
    "len(data)"
   ]
  },
  {
   "cell_type": "code",
   "execution_count": 46,
   "id": "4519e91c",
   "metadata": {},
   "outputs": [
    {
     "data": {
      "text/plain": [
       "Document(page_content='경복궁 서울의 중심에 위치한 경복궁은 조선 시대의 왕궁으로, 한국의 역사와 전통 문화를 체험할 수 있는 대표적인 명소입니다. 광활한 궁궐 안에는 경회루, 근정전 등 다양한 전통 건축물이 있으며, 정기적으로 궁궐 경비 교대식과 전통 공연이 열립니다.\\n\\n남산 서울타워 서울의 스카이라인을 대표하는 남산 서울타워는 서울 시내를 한눈에 볼 수 있는 최고의 전망대입니다. 타워 주변의 남산 공원은 산책과 휴식을 즐기기에 적합하며, 연인들의 자물쇠 벽도 유명합니다.\\n\\n부산 해운대 해수욕장 부산의 해운대 해수욕장은 국내외 관광객에게 사랑받는 한국 최대의 해수욕장 중 하나입니다. 넓은 백사장과 도심 속의 접근성이 좋은 위치로, 여름철에는 수많은 피서객으로 붐빕니다.\\n\\n제주도 한국의 남쪽에 위치한 제주도는 화산섬으로, 아름다운 자연 풍경과 독특한 문화를 자랑합니다. 세계 자연 유산에 등재된 한라산, 청정 해변, 용두암 등 다양한 자연 명소와 함께 특색 있는 음식과 문화가 관광객을 맞이합니다.\\n\\n경주 신라 천년의 고도 경주는 한국의 역사적인 도시 중 하나로, 불국사, 석굴암, 첨성대 등 수많은 유적지와 문화재가 있습니다. 신라의 역사와 문화를 체험할 수 있는 최적의 장소입니다.\\n\\n인사동 서울의 인사동은 전통 찻집, 공예품 가게, 갤러리가 즐비한 문화 예술의 거리입니다. 한국의 전통 문화와 현대 예술이 공존하는 이곳에서는 다양한 기념품을 구입하고 전통 차를 맛볼 수 있습니다.\\n\\n한강 서울을 가로지르는 한강은 도시의 휴식처로, 한강공원, 자전거 도로, 피크닉 장소 등을 제공합니다. 야경이 아름다운 한강에서는 다양한 레저 활동과 행사가 열리며, 여름에는 불꽃놀이 축제가 인기입니다.\\n\\n순천만 국가정원 전라남도 순천에 위치한 순천만 국가정원은 다양한 식물과 아름다운 정원이 조화를 이루는 곳으로, 자연과 함께하는 힐링의 시간을 제공합니다. 인근의 순천만 습지는 천연 기념물로 지정된 생태 관광지입니다.', metadata={'source': 'places.txt'})"
      ]
     },
     "execution_count": 46,
     "metadata": {},
     "output_type": "execute_result"
    }
   ],
   "source": [
    "data[1]"
   ]
  },
  {
   "cell_type": "markdown",
   "id": "c48cf6e7",
   "metadata": {},
   "source": [
    "## CSV Loader"
   ]
  },
  {
   "cell_type": "code",
   "execution_count": 47,
   "id": "62907919",
   "metadata": {},
   "outputs": [
    {
     "data": {
      "text/plain": [
       "143"
      ]
     },
     "execution_count": 47,
     "metadata": {},
     "output_type": "execute_result"
    }
   ],
   "source": [
    "from langchain_community.document_loaders.csv_loader import CSVLoader\n",
    "\n",
    "loader = CSVLoader(file_path='한국주택금융공사_주택금융관련_지수_20160101.csv', encoding='cp949')\n",
    "data = loader.load()\n",
    "\n",
    "len(data)"
   ]
  },
  {
   "cell_type": "code",
   "execution_count": 48,
   "id": "7c4703c1",
   "metadata": {
    "scrolled": false
   },
   "outputs": [
    {
     "name": "stdout",
     "output_type": "stream",
     "text": [
      "연도: 2004-01-01\n",
      "전국소득대비 주택가격 비율: 4.21\n",
      "서울소득대비 주택가격 비율: 4.89\n",
      "부산소득대비 주택가격 비율: 3.95\n",
      "대구소득대비 주택가격 비율: 3.73\n",
      "인천소득대비 주택가격 비율: 4.65\n",
      "광주소득대비 주택가격 비율: 2.81\n",
      "대전소득대비 주택가격 비율: 4.68\n",
      "울산소득대비 주택가격 비율: 2.66\n",
      "세종소득대비 주택가격 비율: 0\n",
      "경기소득대비 주택가격 비율: 4.17\n",
      "강원소득대비 주택가격 비율: 2.49\n",
      "충북소득대비 주택가격 비율: 2.62\n",
      "충남소득대비 주택가격 비율: 2.17\n",
      "전북소득대비 주택가격 비율: 3.12\n",
      "전남소득대비 주택가격 비율: 2.12\n",
      "경북소득대비 주택가격 비율: 2.12\n",
      "경남소득대비 주택가격 비율: 3.81\n",
      "제주소득대비 주택가격 비율: 2.99\n",
      "전국평균 대출금액  평균 연소득: 2.36\n",
      "서울평균 대출금액  평균 연소득: 2.61\n",
      "부산평균 대출금액  평균 연소득: 2.35\n",
      "대구평균 대출금액  평균 연소득: 2.24\n",
      "인천평균 대출금액  평균 연소득: 2.7\n",
      "광주평균 대출금액  평균 연소득: 1.6\n",
      "대전평균 대출금액  평균 연소득: 2.26\n",
      "울산평균 대출금액  평균 연소득: 1.67\n",
      "세종평균 대출금액  평균 연소득: 0\n",
      "경기평균 대출금액  평균 연소득: 2.42\n",
      "강원평균 대출금액  평균 연소득: 1.44\n",
      "충북평균 대출금액  평균 연소득: 1.53\n",
      "충남평균 대출금액  평균 연소득: 1.21\n",
      "전북평균 대출금액  평균 연소득: 1.9\n",
      "전남평균 대출금액  평균 연소득: 1.42\n",
      "경북평균 대출금액  평균 연소득: 1.31\n",
      "경남평균 대출금액  평균 연소득: 2.06\n",
      "제주평균 대출금액  평균 연소득: 1.28\n"
     ]
    }
   ],
   "source": [
    "print(data[0].page_content)"
   ]
  },
  {
   "cell_type": "code",
   "execution_count": 49,
   "id": "96e5761b",
   "metadata": {},
   "outputs": [
    {
     "data": {
      "text/plain": [
       "'한국주택금융공사_주택금융관련_지수_20160101.csv'"
      ]
     },
     "execution_count": 49,
     "metadata": {},
     "output_type": "execute_result"
    }
   ],
   "source": [
    "data[3].metadata['source']"
   ]
  },
  {
   "cell_type": "code",
   "execution_count": 50,
   "id": "38de2acf",
   "metadata": {},
   "outputs": [
    {
     "data": {
      "text/plain": [
       "Document(page_content='연도: 2004-01-01\\n전국소득대비 주택가격 비율: 4.21\\n서울소득대비 주택가격 비율: 4.89\\n부산소득대비 주택가격 비율: 3.95\\n대구소득대비 주택가격 비율: 3.73\\n인천소득대비 주택가격 비율: 4.65\\n광주소득대비 주택가격 비율: 2.81\\n대전소득대비 주택가격 비율: 4.68\\n울산소득대비 주택가격 비율: 2.66\\n세종소득대비 주택가격 비율: 0\\n경기소득대비 주택가격 비율: 4.17\\n강원소득대비 주택가격 비율: 2.49\\n충북소득대비 주택가격 비율: 2.62\\n충남소득대비 주택가격 비율: 2.17\\n전북소득대비 주택가격 비율: 3.12\\n전남소득대비 주택가격 비율: 2.12\\n경북소득대비 주택가격 비율: 2.12\\n경남소득대비 주택가격 비율: 3.81\\n제주소득대비 주택가격 비율: 2.99\\n전국평균 대출금액  평균 연소득: 2.36\\n서울평균 대출금액  평균 연소득: 2.61\\n부산평균 대출금액  평균 연소득: 2.35\\n대구평균 대출금액  평균 연소득: 2.24\\n인천평균 대출금액  평균 연소득: 2.7\\n광주평균 대출금액  평균 연소득: 1.6\\n대전평균 대출금액  평균 연소득: 2.26\\n울산평균 대출금액  평균 연소득: 1.67\\n세종평균 대출금액  평균 연소득: 0\\n경기평균 대출금액  평균 연소득: 2.42\\n강원평균 대출금액  평균 연소득: 1.44\\n충북평균 대출금액  평균 연소득: 1.53\\n충남평균 대출금액  평균 연소득: 1.21\\n전북평균 대출금액  평균 연소득: 1.9\\n전남평균 대출금액  평균 연소득: 1.42\\n경북평균 대출금액  평균 연소득: 1.31\\n경남평균 대출금액  평균 연소득: 2.06\\n제주평균 대출금액  평균 연소득: 1.28', metadata={'source': '2004-01-01', 'row': 0})"
      ]
     },
     "execution_count": 50,
     "metadata": {},
     "output_type": "execute_result"
    }
   ],
   "source": [
    "loader = CSVLoader(file_path='한국주택금융공사_주택금융관련_지수_20160101.csv', encoding='cp949',\n",
    "                   source_column='연도') # Source Column을 지정해주면 Metadata의 Source가 해당 Columns의 데이터로 변경\n",
    "\n",
    "data = loader.load()\n",
    "\n",
    "data[0]"
   ]
  },
  {
   "cell_type": "code",
   "execution_count": 51,
   "id": "c7ebf714",
   "metadata": {},
   "outputs": [
    {
     "name": "stdout",
     "output_type": "stream",
     "text": [
      "연도: 2004-01-01\n",
      "전국소득대비 주택가격 비율: 4.21\n",
      "서울소득대비 주택가격 비율: 4.89\n",
      "부산소득대비 주택가격 비율: 3.95\n",
      "대구소득대비 주택가격 비율: 3.73\n",
      "인천소득대비 주택가격 비율: 4.65\n",
      "광주소득대비 주택가격 비율: 2.81\n",
      "대전소득대비 주택가격 비율: 4.68\n",
      "울산소득대비 주택가격 비율: 2.66\n",
      "세종소득대비 주택가격 비율: 0\n",
      "경기소득대비 주택가격 비율: 4.17\n",
      "강원소득대비 주택가격 비율: 2.49\n",
      "충북소득대비 주택가격 비율: 2.62\n",
      "충남소득대비 주택가격 비율: 2.17\n",
      "전북소득대비 주택가격 비율: 3.12\n",
      "전남소득대비 주택가격 비율: 2.12\n",
      "경북소득대비 주택가격 비율: 2.12\n",
      "경남소득대비 주택가격 비율: 3.81\n",
      "제주소득대비 주택가격 비율: 2.99\n",
      "전국평균 대출금액  평균 연소득: 2.36\n",
      "서울평균 대출금액  평균 연소득: 2.61\n",
      "부산평균 대출금액  평균 연소득: 2.35\n",
      "대구평균 대출금액  평균 연소득: 2.24\n",
      "인천평균 대출금액  평균 연소득: 2.7\n",
      "광주평균 대출금액  평균 연소득: 1.6\n",
      "대전평균 대출금액  평균 연소득: 2.26\n",
      "울산평균 대출금액  평균 연소득: 1.67\n",
      "세종평균 대출금액  평균 연소득: 0\n",
      "경기평균 대출금액  평균 연소득: 2.42\n",
      "강원평균 대출금액  평균 연소득: 1.44\n",
      "충북평균 대출금액  평균 연소득: 1.53\n",
      "충남평균 대출금액  평균 연소득: 1.21\n",
      "전북평균 대출금액  평균 연소득: 1.9\n",
      "전남평균 대출금액  평균 연소득: 1.42\n",
      "경북평균 대출금액  평균 연소득: 1.31\n",
      "경남평균 대출금액  평균 연소득: 2.06\n",
      "제주평균 대출금액  평균 연소득: 1.28\n"
     ]
    }
   ],
   "source": [
    "print(data[0].page_content)"
   ]
  },
  {
   "cell_type": "code",
   "execution_count": 52,
   "id": "a6a589b8",
   "metadata": {},
   "outputs": [
    {
     "data": {
      "text/plain": [
       "'2004-01-01'"
      ]
     },
     "execution_count": 52,
     "metadata": {},
     "output_type": "execute_result"
    }
   ],
   "source": [
    "data[0].metadata['source']"
   ]
  },
  {
   "cell_type": "code",
   "execution_count": 53,
   "id": "638c5eaa",
   "metadata": {},
   "outputs": [
    {
     "data": {
      "text/plain": [
       "Document(page_content='연도,전국소득대비 주택가격 비율,서울소득대비 주택가격 비율,부산소득대비 주택가격 비율,대구소득대비 주택가격 비율,인천소득대비 주택가격 비율,광주소득대비 주택가격 비율,대전소득대비 주택가격 비율,울산소득대비 주택가격 비율,세종소득대비 주택가격 비율,경기소득대비 주택가격 비율,강원소득대비 주택가격 비율,충북소득대비 주택가격 비율,충남소득대비 주택가격 비율,전북소득대비 주택가격 비율,전남소득대비 주택가격 비율,경북소득대비 주택가격 비율,경남소득대비 주택가격 비율,제주소득대비 주택가격 비율,전국평균 대출금액  평균 연소득,서울평균 대출금액  평균 연소득,부산평균 대출금액  평균 연소득,대구평균 대출금액  평균 연소득,인천평균 대출금액  평균 연소득,광주평균 대출금액  평균 연소득,대전평균 대출금액  평균 연소득,울산평균 대출금액  평균 연소득,세종평균 대출금액  평균 연소득,경기평균 대출금액  평균 연소득,강원평균 대출금액  평균 연소득,충북평균 대출금액  평균 연소득,충남평균 대출금액  평균 연소득,전북평균 대출금액  평균 연소득,전남평균 대출금액  평균 연소득,경북평균 대출금액  평균 연소득,경남평균 대출금액  평균 연소득,제주평균 대출금액  평균 연소득: 2004-01-01,4.21,4.89,3.95,3.73,4.65,2.81,4.68,2.66,0,4.17,2.49,2.62,2.17,3.12,2.12,2.12,3.81,2.99,2.36,2.61,2.35,2.24,2.7,1.6,2.26,1.67,0,2.42,1.44,1.53,1.21,1.9,1.42,1.31,2.06,1.28', metadata={'source': '한국주택금융공사_주택금융관련_지수_20160101.csv', 'row': 0})"
      ]
     },
     "execution_count": 53,
     "metadata": {},
     "output_type": "execute_result"
    }
   ],
   "source": [
    "# 파싱 옵션\n",
    "\n",
    "loader = CSVLoader(file_path='한국주택금융공사_주택금융관련_지수_20160101.csv', encoding='cp949',\n",
    "                   csv_args={\n",
    "                       'delimiter': '\\n', # 구분자로 불러오기 가능\n",
    "                   })\n",
    "\n",
    "data = loader.load()\n",
    "\n",
    "data[0]"
   ]
  },
  {
   "cell_type": "code",
   "execution_count": 54,
   "id": "454865e6",
   "metadata": {
    "scrolled": true
   },
   "outputs": [
    {
     "name": "stdout",
     "output_type": "stream",
     "text": [
      "연도,전국소득대비 주택가격 비율,서울소득대비 주택가격 비율,부산소득대비 주택가격 비율,대구소득대비 주택가격 비율,인천소득대비 주택가격 비율,광주소득대비 주택가격 비율,대전소득대비 주택가격 비율,울산소득대비 주택가격 비율,세종소득대비 주택가격 비율,경기소득대비 주택가격 비율,강원소득대비 주택가격 비율,충북소득대비 주택가격 비율,충남소득대비 주택가격 비율,전북소득대비 주택가격 비율,전남소득대비 주택가격 비율,경북소득대비 주택가격 비율,경남소득대비 주택가격 비율,제주소득대비 주택가격 비율,전국평균 대출금액  평균 연소득,서울평균 대출금액  평균 연소득,부산평균 대출금액  평균 연소득,대구평균 대출금액  평균 연소득,인천평균 대출금액  평균 연소득,광주평균 대출금액  평균 연소득,대전평균 대출금액  평균 연소득,울산평균 대출금액  평균 연소득,세종평균 대출금액  평균 연소득,경기평균 대출금액  평균 연소득,강원평균 대출금액  평균 연소득,충북평균 대출금액  평균 연소득,충남평균 대출금액  평균 연소득,전북평균 대출금액  평균 연소득,전남평균 대출금액  평균 연소득,경북평균 대출금액  평균 연소득,경남평균 대출금액  평균 연소득,제주평균 대출금액  평균 연소득: 2004-01-01,4.21,4.89,3.95,3.73,4.65,2.81,4.68,2.66,0,4.17,2.49,2.62,2.17,3.12,2.12,2.12,3.81,2.99,2.36,2.61,2.35,2.24,2.7,1.6,2.26,1.67,0,2.42,1.44,1.53,1.21,1.9,1.42,1.31,2.06,1.28\n"
     ]
    }
   ],
   "source": [
    "print(data[0].page_content)"
   ]
  },
  {
   "cell_type": "markdown",
   "id": "fe6b5e43",
   "metadata": {},
   "source": [
    "## PDF Loader"
   ]
  },
  {
   "cell_type": "code",
   "execution_count": 55,
   "id": "57a8a337",
   "metadata": {},
   "outputs": [
    {
     "data": {
      "text/plain": [
       "21"
      ]
     },
     "execution_count": 55,
     "metadata": {},
     "output_type": "execute_result"
    }
   ],
   "source": [
    "from langchain_community.document_loaders import PyPDFLoader\n",
    "\n",
    "pdf_filepath = '000660_SK_2023.pdf'\n",
    "loader = PyPDFLoader(pdf_filepath)\n",
    "pages = loader.load()\n",
    "\n",
    "len(pages)"
   ]
  },
  {
   "cell_type": "code",
   "execution_count": 56,
   "id": "6ea70e0f",
   "metadata": {
    "scrolled": true
   },
   "outputs": [
    {
     "data": {
      "text/plain": [
       "[Document(page_content='1\\nWhere we are heading    |     How we get there    |     What we are preparing\\nESG Special Report\\n2023 NAVIGATING \\nUNCERTAINTIES TO ENSURE  \\nSUSTAINABLE \\nGROWTH', metadata={'source': '000660_SK_2023.pdf', 'page': 0}),\n",
       " Document(page_content='24\\nAdvanced Materials\\nGreen\\nBio\\nDigital \\nExpanding Our Portfolio’s Green Readiness\\nResponsible & Profitable Low Carbon Transition\\nNet Zero: Team Up In Action 26\\n27\\n28\\n29\\n30\\n32\\n36다가올 상승기의 성장 기회 극대화를 위한 신성장 전략 \\nWHAT WE ARE PREPARING\\nContents\\n4\\n14\\nOur Leadership\\nOur History\\nOur Journey\\nOur Portfolio and Performances 6\\n8\\n10\\n12지난 70년을 넘어 지속가능한 성장을 위한 투자전문회사로의 변화\\n불확실성의 시대, 생존역량과 회복력 확보를 위한 노력WHERE WE ARE HEADING\\nHOW WE GET THERE\\nRenewing Our Management System  \\nPortfolio Management Framework\\nEnduring Downturn & \\nDealing with Unknown Risks16\\n18\\n22', metadata={'source': '000660_SK_2023.pdf', 'page': 1}),\n",
       " Document(page_content='5 4\\nESG Special Report 2023 Where we are heading    |     How we get there    |     What we are preparing\\nOur Our Leadership\\nOur History\\nOur Journey\\nOur Portfolio and Performances6\\n8\\n10\\n12지난 70년을 넘어 지속가능한 성장을 위한 투자전문회사로의 변화   \\nSK는 올해로 창립 70주년을 맞이했습니다.\\n한국 전쟁 이후 대한민국 현대사의 발전과 함께 해온 SK의 역사는 \\n한국경제가 지나온 빛나는 발걸음입니다. 패기로 묻고 지성으로 답하며 \\n개척해 온 그 시간을 지나, SK는 대한민국을 대표하는 글로벌 기업으로 \\n성장했습니다. 이제는 선배 경영인들이 물려준 정신적 유산을 \\n새로운 시대에 어떻게 창의적으로 해석하고 적용하여 미래 세대의 \\n지속성장을 향한 길을 개척해 나갈 것인지가 관건이라고 생각합니다.\\n경영체계를 새로이 하고 다음 세대에게 무엇을 물려줄 것인가를 고민하는 \\n그 과정이 앞으로의 100년을 움직일 수 있는 또 하나의 초석이 될 것입니다. \\n산업화 시대에 ‵섬유에서 석유′로, 정보화 시대에 ‵통신에서 반도체′로 \\n한국사회에 기여해 온 것처럼, 오늘날 세계의 많은 문제를 함께 고민하고 \\n해결해 나가며 인류의 더 나은 내일에 기여할 수 있는 기업이 되고자 합니다.WHERE WE \\nARE HEADING', metadata={'source': '000660_SK_2023.pdf', 'page': 2}),\n",
       " Document(page_content='7 6\\nESG Special Report 2023 Where we are heading    |     How we get there    |     What we are preparing\\n최태원  \\nSK주식회사 대표이사 회장\\n장동현   \\nSK주식회사 대표이사 부회장 “  지구와 사회가 직면한 문제에 \\n해결책을 제시하는 기업이 인류의 \\n선택을 받게 될 것입니다. ”\\n“  불확실한 경제상황에도  \\n흔들리지 않는 생존역량을 \\n강화해 나가겠습니다. ”“ 이제 또 한 번 SK주식회사만의 \\n길을 찾아 성장해야 합니다. \\n불확실한 경제상황에도 흔들리지 않는 \\n생존역량을 강화하고, 수많은 변화 \\n속에서 발생하는 성장 기회를 적시에 \\n선점할 수 있도록 준비해야 합니다.\\n시장이 어떻게 움직이는가를 \\n미리 예측하여 사전 대응한 우리에게는 \\n더 좋은 기회가 올 것을 확신합니다. ““ 다시 평범한 일상이 돌아오고 있는 \\n지금, 우리는 4대 핵심 사업 영역인 \\n첨단소재, 그린, 바이오, 디지털에서 \\n변화하는 흐름을 날카롭게 분석하고 \\n성장기회를 빠르게 쟁취할 것입니다. \\n2023년에는 투자 포트폴리오의 수익을 \\n실현하고 유망 영역에 재투자하는 \\n선순환 구조를 더욱 활성화하고 주력 \\n비상장사들의 실적 성장을 가속화하여, \\n투자 전문회사로서의 성장에 대한 \\n시장의 신뢰와 지지를 높여 나가고자 \\n합니다. ”\\n“ 투자한 회사들이 더 높은 기업가치를\\n가질 수 있도록 2023년에는 투자\\n포트폴리오의 책임과 권한을 다시\\n살펴야 할 때입니다. ESG는 더 이상 \\n개념적 측면이 아닌 SK주식회사의 \\n의사결정과 행동, 포트폴리오 관리에 \\n반드시 반영되어야 하는 필수 요소이자\\n기회입니다. ”\\n“ 지구와 사람, 그리고 사람과 사람 사이의 \\n관계에 대한 문제는 어떤 어려움이 \\n있더라도 풀어야 할 숙제입니다. \\n그 문제에 솔루션을 제시하는 기업은 \\n어떤 변수가 있더라도 결국 인류의 \\n선택을 받게 될 것입니다. ”“ 최근 우리는 다양한 글로벌 활동을 \\n통해 세계의 다차원적 위기를 절감할 수 \\n있었습니다. 지정학적 갈등이 경제적 \\n혼란을 초래하고, 기후위기라는 엄중한 \\n파고가 전 세계를 위협하는 이때, \\nSK는 전략적 유연성에 기반한 보다 \\n창조적인 도전을 준비하고 있습니다. ”“ 올 해 경영환경도 쉽지 않을 것으로 \\n예상되지만, SK의 역사를 뒤돌아보면 \\n고난을 극복한 뒤에는 더 큰 도약이 \\n있었습니다. ”OUR LEADERSHIP ', metadata={'source': '000660_SK_2023.pdf', 'page': 3}),\n",
       " Document(page_content=\"9 8\\nESG Special Report 2023 Where we are heading    |     How we get there    |     What we are preparing\\n1953\\n최종건 창업회장, \\n한국전쟁 직후의 \\n폐허 속에서 \\n선경직물 창업\\n1968\\n섬유사업 수직계열화의 \\n꿈을 위한 첫 단추,\\n아세테이트 \\n원사 공장 설립 \\n워커힐 호텔 인수\\n섬유사업을 넘어 \\n사업 다각화를 위한 \\n원대한 비전 실현1994\\n10년간의 준비 끝에 \\n한국이동통신 인수\\n1997\\nIMF 구제금융 경제위기\\n외환위기 이전인 '95년부터\\n진행된 빠른 구조조정 및\\n석유, 통신업의 높은 안정성과\\n성장성을 바탕으로 하방리스크 \\n해소, 새로운 도약 준비1998\\n글로벌 시대에 걸맞은 \\n새로운 CI, SK 선포\\n최태원 SK주식회사\\n대표이사 회장 선임\\n1999\\n외환위기에 불구하고  \\nSK텔레콤 성장세 지속, \\n신세기통신 인수로 \\n시장점유율 1위 \\n사업자 등극2008\\n글로벌 금융위기\\n제 3의 퀀텀 점프를 위한 \\n새로운 성장축 모색에 박차1973\\n제 1차 석유파동\\n지정학적 위기와 \\n석유파동으로 \\n사업 존폐위기 직면 \\n1979\\n제 2차 석유파동\\n최종현 회장, 사우디로부터 3년간 \\n장기·저가 원유공급 계약 확보로 \\n그룹 위기 타개1950 1960 1970 1980 1990 2000한국전쟁의 폐허 속에서 선경직물을 창업한 1953년, \\nSK의 역사가 시작되었습니다. SK의 역사는 끊임없이 \\n도전하고 위기를 극복해낸 거대한 성장의 과정입니다. 창립 이래 70년의 시간동안 SK는 글로벌 지정학적 리스크와 \\nIMF 사태, 금융위기 등 어려운 시기를 직면하였으나, 때마다 \\n불확실성을 슬기롭게 극복하고 위기를 기회로 전환하는 \\n저력으로 지금의 SK를 있게 한 중요한 성장 모멘텀들을 확보해 \\n왔습니다. 미래를 내다보는 혜안, 위기의 순간에 발휘되는 \\n전화위복의 정신, 그리고 강인한 패기와 탁월한 지성으로 더 나은 세상을 꿈꾸었던 선대 경영인의 DNA는 오늘날의 \\nSK가 가진 경쟁력으로 자리매김하였습니다. SK는 기업의 \\n숙명은 챔피언이 아니라 ‘도전자’가 되는 것이라는 신념으로, \\n위대한 도전정신과 함께 미래를 앞서가는 새로운 시간의 \\n프런티어가 되겠습니다. \\n1980\\n대한석유공사 인수\\n장기적·안정적 원유 확보 능력 \\n입증으로 입찰 성공 \\n그룹의 위기상황을 체질개선과 \\n도약의 기회로 삼아, 석유에서 \\n섬유까지 수직계열화 완성2012\\nSK하이닉스 인수\\n내수기반에서 수출지향형 \\n글로벌 기업으로 탈바꿈\\nQR코드를 스캔하면 변화와 혁신으로 \\n성장한 70년의 SK의 역사를 자세히 \\n확인하실 수 있습니다. \\n최종현 회장 취임, \\n‘SKMS’* 정립\\nSK의 경영 바이블이자 \\n고유 기업문화로 정착되어 \\n위기와 변혁의 순간마다 \\n이정표 역할을 한 \\nSK 고유의 경영관리체계\\n*  SK Management System1991\\n의약사업 진출 결정, \\n생명과학연구소 발족OUR HISTORY \\n: Seventy Years of \\nPioneering\", metadata={'source': '000660_SK_2023.pdf', 'page': 4}),\n",
       " Document(page_content='11 10\\nESG Special Report 2023 Where we are heading    |     How we get there    |     What we are preparing\\nSK의 끊임없는 도전과 미래를 앞서가는 혜안을 \\n바탕으로 SK그룹의 지주사인 SK주식회사는, 2021년 \\n투자전문회사로의 도약을 선언했습니다. SK주식회사는 \\n새로운 성장영역으로의 포트폴리오 재편과 더불어, \\n기업가치 극대화를 위한 또 한번의 새로운 성장 기회를 \\n모색하고 있습니다.투자전문회사로 변화한 SK주식회사는 4대 핵심 투자 \\n영역 중심의 성장 방식을 구체화하였습니다. 이에 따라 \\n성장 한계자산을 선제적, 적극적으로 매각하여 잠재가치를 \\n최대한 회수함으로써 투자의 선순환 체계를 강화하고 \\n있습니다. 2023년 역시 계속된 고물가, 고금리로 \\n인해 경기침체가  지속되어 경영환경이 녹록치 않을 \\n것으로 예상됩니다.  그러나 어려운 환경에 잘 대응하여 \\n준비한다면 위기 속에서도 새로운 투자 기회를 포착할 수 \\n있을 것입니다. SK주식회사는 불확실성의 시기를 거치는 과정에서\\n포트폴리오의 지속가능성을 높이고, 시장 회복에 \\n대비하여 성장 역량을 공고히 하여 또 한번의 \\n퀀텀 점프를 준비하고 있습니다. 나아가 이러한 혁신과 \\n성장으로, 2025년 이후에는 전문영역에 특화된 \\n투자전문회사로서의 경쟁력을 갖추고 명실상부한 글로벌 \\nTop-tier 전문가치투자자로 자리매김하겠습니다. \\nInvestment Company•   파이낸셜 스토리 수립 \\n•   핵심 영역 중심으로 \\n포트폴리오 재편, 레거시 \\n비즈니스 축소 추진2021\\n투자전문회사•   기업가치 핵심 인자 기반  \\n경영과제 실행\\n•   생존역량 강화 및 신성장   \\n동력 확보2023\\nManagement \\nSystem 2.0 실행 원년\\n•   기업가치 지속 성장\\n•   시장의 지지 및 이해관계자   \\n신뢰 확보2025\\n글로벌 Top-tier   \\n전문가치투자자 •    적극적인 투자 및 회수 전략 시행\\n•    바이오, 소재 중심의 성장 포트폴리오 \\n육성, 높은 수준의 IRR 시현2017\\n투자형 지주회사\\n2015\\n통합 지주사 출범\\n•   SK주식회사, SK C&C 합병 \\n및 지주/사업부문 구분\\n•   반도체, 바이오 등 유망 성장 \\n전망 분야에 선제적 투자2007\\n지주사 체제 전환\\n•  경영효율성과   \\n재무건전성 제고를 위한  \\n선진 경영시스템 도입 \\nHolding Company  OUR JOURNEY\\n: Transforming \\ninto an Investment \\nCompany ', metadata={'source': '000660_SK_2023.pdf', 'page': 5}),\n",
       " Document(page_content='13 12\\nESG Special Report 2023 Where we are heading    |     How we get there    |     What we are preparing\\n북미\\n3.5(41%)중국\\n0.8(9%)EU\\n0.6(7%)\\nSK주식회사는 ESG기반의 4대 핵심사업을 중심으로 \\n장기적 관점의 투자 전략을 실행하고 있습니다.\\n2022년에는 앵커 자산과 신규 투자를 연계한 투자 \\n성과로 매출액과 영업이익 성장을 이루어 냈습니다. \\n또한 투명한 ESG 정보공개와 이해관계자 소통으로 \\n대외 유수 평가기관으로부터 최고 수준의 \\n평가 등급을 획득하며 ESG 역량을 인정받았습니다. \\nESG 기반 4대 핵심 영역 포트폴리오\\n첨단소재\\n고성장 ‵반도체/전력반도체/ \\n배터리′ 핵심 소재 선제적 투자로 \\n기존 사업과의 시너지 창출 및 \\n고성장 소재 포트폴리오 확대 \\n가속화\\n투자 자산\\n●   SK스페셜티, SK실트론, \\nWason, SES AI,   \\nSK시그넷, SK파워텍\\n  투자 자산\\n●  TerraPower, Plug Power, \\nMonolith, Atom Power, \\nLunar Energy, Fulcrum, \\nJoyvio, Perfect Day, \\nNature’s Fynd,\\nWildtype그린 \\nGREEN 산업의 성장 거점 선점 \\n및 넷제로 실현을 위한 탈탄소 \\n기술 기업 자산 확보\\n투자 자산\\n●  Socar, Chindata, \\nDataRobot, Soft Berry, \\nGeminus AI, A4X디지털\\n디지털 혁신을 선도하는 \\n새로운 주력 사업 영역 \\n후보군 발굴 및 신기술 투자1.1 조원\\n매출 영업이익YoY +24%\\nYoY +33%3.4 조원\\n3.9 조원\\n2.0 조원1.9 조원\\n0.8 조원8.6 조원* OUR PORTFOLIO \\nAND \\nPERFORMANCES\\n투자 자산\\n●   CBM, ProteoVant, Standigm, \\nHummingbird, Yposkesi바이오\\n혁신 신약 개발과\\n더불어 CDMO를 아우르는\\n바이오 및 합성 의약품 \\n전 밸류체인 사업으로의 \\n영역 확대재무 성과 (2022년 별도 기준) 글로벌 투자 현황 (조원)\\nDJSI World 11년 연속 편입\\n및 복합기업군 최고점\\n(1위 획득)대한민국  \\n지속가능성보고서상 \\n4년 연속 수상최고 등급 AAA  달성 환경, 사회, 거버넌스 \\n전 영역 통합  \\nA+등급 달성ESG 성과 (2023년 상반기 기준) \\n지속가능경영보고서 발간,\\n7개 멤버사 * \\n성과 연결 공시포트폴리오 \\nESG 통합관리체계 \\n수립 및 시행ESG Data Platform 을 통한\\n적시성·정확성 높은 \\n정보공개\\n* 2022년까지 누적 투자 금액(성장 영역 Inc. 직접 투자 자산)으로 합병 비용 포함 및 Divest 금액 제외*  SK이노베이션, SK텔레콤, SK네트웍스, SKC,   \\nSK바이오팜, SK스퀘어, SK아이이테크놀로지한국\\n3.5(41%)동남아 등\\n0.1(2%)\\n북미  |  Plug Power, TerraPower\\n한국  |  SK스페셜티, SK실트론, SK바이오팜, SK시그넷 \\n중국  |  ESR,  ChinData\\nEU  |  Yposkesi \\n동남아 등8.6 조원 *\\n*  2022년까지 누적 투자 금액(성장 영역 Inc. 직접 투자 자산)으로 \\n합병 비용 포함 및 Divest 금액 제외', metadata={'source': '000660_SK_2023.pdf', 'page': 6}),\n",
       " Document(page_content='15 14\\nESG Special Report 2023Where we are heading    |     How we get there    |     What we are preparing\\nRenewing Our Management System\\nPortfolio Management Framework\\nEnduring Downturn & Dealing with Unknown Risks16\\n18\\n22불확실성의 시대, 생존역량과 회복력 확보를 위한 노력  \\n2022년은 지정학적 긴장이 가중되고 경기침체가 장기화되는 등,  \\n어려운 경영환경 속에서 기업으로서 생존 역량과 지속가능성에 대해 \\n원점에서 다시 점검해보는 시간이었습니다. SK주식회사는 모두가 \\n직면한 불확실성 속에서도 이 시기를 위기 이후 맞게 될 더 큰 도약으로 \\n향하는 값진 시간으로 삼고자 하였습니다.\\n이에 SK주식회사는 우선적으로 설정한 지향점들을 점검하고 있으며, \\n시장과 이해관계자 관점에서 기존 전략과 의사결정체계를 재정비하고 \\n있습니다. 또한, 투자전문회사로서 포트폴리오 기업 가치 제고를 \\n위해 재무적 가치와 ESG 가치의 균형적인 성과관리체계를 실행하고 \\n있습니다.\\n장기화되는 경기 하강 국면에서도 살아남을 수 있는 역량과,\\n향후 언제라도 더 큰 모습으로 나타날 수 있는 예측 불가능한 \\n리스크에도 흔들림 없는 기업으로서의 모습을 그리며 \\n지속가능한 생존과 성장을 위한 기반을 다져나갑니다.\\nHOW WE \\nGET THERE', metadata={'source': '000660_SK_2023.pdf', 'page': 7}),\n",
       " Document(page_content='17 16\\nESG Special Report 2023\\n시장의 변화를 반영하고, \\n이해관계자가 바라는 모습의 파이낸셜 스토리\\nSK주식회사가 지향하는 모습을 달성하기 위해, 우리는 \\n기업운영의 근간이 되는 경영시스템을 업그레이드 하고자 \\n합니다. 많은 기업들은 기존의 관념과 경영진의 직관에 \\n기반하여 경영과제를 선정하고 실행해 오고 있지만, \\n급변하는 경영환경과 경험하지 못한 Transition의 시대에서 \\n이러한 의사결정 체계는 더 이상 유효하지 않습니다.SK가 추구하는 Management System은 기업가치를 \\n중심으로 경영계획과 자원 배분, 평가와 보상 등 모든 활동을 \\n디자인하고 실행하는 것입니다. 이를 위해 기업가치에 영향을 \\n미치는 요소가 무엇인지를 분석하고, 이해관계자들과 끊임없이 \\n소통하며 우리가 나아가야 할 방향에 대한 전략과 계획을 \\n수립합니다. 이러한 일들을 통해 시장의 목소리와 환경 변화를 \\n적시에 우리의 경영활동에 반영함으로써, 이해관계자들의 \\n신뢰와 지지를 확보하는 것이 우리의 목표입니다.\\n시장이 매력적으로 생각하는 \\n큰 목표와 구체적이고\\n설득력 있는 계획FINANCIAL \\nSTORY+RELIABILITY\\n이를 추진할 의지와 역량, \\n구체적인 성과로 \\n시장을 설득·  기업의 경영활동에 따른 주가 변화 추이 분석\\n·   재무/기술/자산 등 여러 경영활동 지표 중 어떤 인자들이 \\n기업가치에 큰 영향을 주는지 통계적 유효성·유의성 관점에서 검토\\n·   고객/주주/비즈니스 파트너 등 현재·잠재 이해관계자를 분류 및 \\n분석하여, 파이낸셜 스토리와의 부합 여부 검토\\n·   각 그룹의 유형 및 기여도, 관심도, 니즈 등을 분석하여 \\n이해관계자 관계를 재정의, 개선/변경하려는 노력 병행기업가치 분석 모델\\nManagement System 2.0이란?\\nManagement System이 본격적으로 논의된 것은, 매년 \\nSK그룹 CEO가 모여 경영환경을 점검하고 그룹이 가야 할 \\n방향을 고민하는 확대경영회의가 있었던 2022년 6월입니다. \\n이는 기업가치를 중심으로 기업의 모든 의사결정 구조를 \\n전환하기 위한 체계정비로서, Management System 2.0 \\n하에서 기업은 시장과 이해관계자 분석을 거쳐 ‵기업가치′\\n를 설명할 수 있는 최적의 분석 모델을 갖추게 됩니다. 이를 \\n위해 경영진은 기업가치 분석 모델에서 도출된 기업가치를 \\n구성하는 핵심인자를 중심으로 각 사의 파이낸셜 스토리를 \\n재구성하고, 이에 부합하도록 내부 리소스 분배계획, KPI 및 \\n평가/보상 체계, 이해관계자 소통전략 전반을 변화시키는 \\n활동을 수행합니다. RENEWING OUR MANAGEMENT SYSTEM\\n경영시스템의 혁신\\n주가핵심인자분석\\n(Multi-regression Analysis)1\\n이해관계자 분석\\n(Stakeholder Relationship Analysis)2최태원 대표이사 회장 \\n (SK 확대경영회의, 2022년 6월)기업가치는 재무 성과, 고객 가치, \\n사회적 가치(Social Value) 등 \\n다양한 요소로 구성됩니다. \\n어떤 요소에 집중해 기업가치를 높일지 \\n분석하여 이해관계자의 더 큰 신뢰와 \\n지지는 물론, 혁신과 성장 방향성까지 \\n확보해야 합니다.\\n=\\n미래의 목표 가치를 \\n현재의 시장이 인정CORPORATE \\nVALUEWhere we are heading    |     How we get there    |     What we are preparing', metadata={'source': '000660_SK_2023.pdf', 'page': 8}),\n",
       " Document(page_content='19 18\\nESG Special Report 2023\\nSK주식회사는 투자 포트폴리오 기업의 가치 제고가 \\n곧 SK주식회사의 기업가치 제고와 직결된다고 판단하고 \\n있습니다. 이에 2022년에는, 새롭게 정비한 Management \\nSystem 2.0을 기반으로 포트폴리오의 경제적 성과와 \\nESG 성과를 균형있게 관리하고자 하였습니다. ESG 경영을 \\n근간으로 장기 성장 잠재력을 키워가는 기업의 가치는 \\n궁극적으로 이해관계자 행복으로 연결되기에, 앞으로도 \\nSK주식회사가 변화시켜야 하는 영역을 점검하고, 시장과 \\n이해관계자의 기대에 부응하는 방향으로 기업가치를 높여갈 수 \\n있도록 노력하겠습니다.\\n2021 2022\\n2021.6\\nSK텔레콤 인적분할 \\nICT 투자 전문회사 \\nSK스퀘어 출범2021.10  \\nSK이노베이션 물적분할 \\n배터리 사업 분사로 \\nSK온 출범2021.12  \\nSK에코플랜트 물적 분할\\n플랜트 사업 분할\\n2021.12\\nSK머티리얼즈 합병\\n첨단 소재 영역 확장 가속화\\n2021.6\\nSKC 비핵심사업 매각\\n텔레시스 통신사업2021.12\\nSK에어플러스 설비 매각\\n산업가스 설비\\n2021.04\\nSES AI 투자\\n차세대 리튬메탈 \\n배터리 기술 확보2021.05\\n일본 투자 법인(SK JI) 설립\\n일본 내 투자 Presence \\n확대2021.07\\nSK머티리얼즈그룹\\n14 JV 설립\\n배터리 Si 음극재 사업 확장\\n2021.02\\nPlug Power 투자 \\n수소 연료전지 \\n파트너십 강화+2021.06\\nFynder Group 투자\\n발효 기반 대체식품  \\n사업 진출\\n2021.03\\nYposkesi 인수\\n세포유전자 치료제 CMO(위탁생산) \\n사업 확대2021.09\\nRoivant 투자\\n신약 개발 플랫폼 확보\\n2021.11\\nSwift Navigation 투자\\n고성능 모빌리티 GPS 솔루션 기술2021.12\\nSoft Berry 투자\\nEV충전 정보 제공 플랫폼2022. 10\\nSK에어플러스 자산 유동화 \\n산업가스 설비공장2022.11\\nSKC 비핵심사업 매각\\n필름사업\\n2022.04\\nSK파워텍 인수\\nSIC 전력반도체 밸류체인 구축\\n2022.01\\nCBM 투자 \\n세포유전자 CDMO(위탁개발생산) \\n사업 확대:  SK주식회사와  \\n멤버사의 공동 투자 \\n2022.06\\nGeminus AI 투자\\n디지털 트윈 기술 기반 AI 플랫폼포트폴리오 \\n재편\\n포트폴리오\\n전환 조정\\n합병\\n매각\\n첨단소재\\n그린\\n바이오\\n디지털\\n2023\\n2022.05\\nTerra Power 투자 \\n소형모듈형원전(SMR) \\n기술 기반 탈탄소 시장 선점\\n2021.06\\nMonolith 투자 \\n청록수소 기반 \\n수소 사업 확장\\n2022.08\\nAtom Power 투자 \\nSSCB(스마트회로차단기) 기술 기반 \\nEV충전 에너지 솔루션 사업 확장2021.08  \\nSK시그넷 인수 \\nEV충전 인프라 사업 확장2021.11\\nSK E&S 비즈니스 유동화 \\n도시가스 사업 상환우선주 \\n발행* ROIC(Return on Invested Capital) : 투하자본수익률 * 주요 증권사 추정치 평균 기준포트폴리오 관리 원칙\\n·   차세대 소형 모듈형 원전(SMR) \\n및 리튬메탈 배터리 등   \\n미래 유망영역 선제투자포트폴리오  조정, \\n합병, 매수, 매각 등  \\n재편 및 전환 검토ROIC* 관점 \\n평가·관리\\n자본조달비용, \\n시장 요구수익률, \\n투자기회비용 등\\n종합 검토적극적인 포트폴리오\\nIn & Out포트폴리오 가치* 성장 \\n(조원)\\n2020 202222.628.4PORTFOLIO MANAGEMENT FRAMEWORK\\n경제적 가치와 ESG 가치를 통합적으로 고려하는 포트폴리오 관리체계\\n4대 핵심 영역 중심의 포트폴리오 재편\\nSK주식회사는 2017년 투자형 전문회사 선언 이후 약 58개의 \\n투자 포트폴리오를 편입하였으며, 포트폴리오의 체질 개선을 \\n위해 성장이 정체되거나 한계에 직면한 사업은 과감하게 \\n줄이고, 중장기 성장 영역 포트폴리오를 확대하고 있습니다. \\n이를 위해 파이낸셜 스토리에 근거한 사업 조정, 합병, 매각은 \\n물론, 신규 투자를 통해 단계적으로 포트폴리오를 재편하고 \\n있습니다.\\n+ + +Where we are heading    |     How we get there    |     What we are preparing', metadata={'source': '000660_SK_2023.pdf', 'page': 9}),\n",
       " Document(page_content='21 20\\nESG Special Report 2023\\n투자 검토 단계\\nPre-Acquisition (인수 전)\\n01포트폴리오 ESG 관리 체계\\n장기적 관점에서 기업가치 제고를 실현하기 위해 핵심자산인 \\n투자 포트폴리오의 경제적 가치와 함께 ESG 가치를 \\n통합적으로 관리하기 위한 체계를 구축하고 있습니다.\\n투자 검토 시점부터 인수 후, 회수 시점까지 투자\\nLife Cycle에 걸쳐 적용되는 체계적인 ESG 관리를 \\n기반으로 내부적으로는 ESG를 고려한 합리적인 투자의사 \\n결정을 이행하고, 시장에서는 포트폴리오의 기업가치가 \\n시장에서 제대로 평가받으며 나아가 사회·환경에 미치는 \\n파급력을 높일 수 있도록 노력하겠습니다.포트폴리오 ESG 관리 원칙\\nSK주식회사 투자회사\\n기업가치 관점의\\nESG 중점관리 \\n항목 도출자사 ESG \\n관리전략\\nESG 성과 \\n데이터 관리기업가치와\\nESG 성과 \\n연계성 분석포트폴리오 \\nESG 관리전략 \\nUpgrade성장단계\\n산업특성\\nESG Divestment 전략 검토\\n       ESG Exit 리포트 발간\\n ·    인수 이후 ESG Value-up 기반 Exit 전략 도출\\n ·    중대 ESG 리스크/기회 현황 및   \\nESG 관리·공시 수준 확인\\n셀사이드(Sell-side) 점검사항 관리\\n       중대 ESG 이슈 존재 여부 검토\\n ·    매각 대상 시장 내 ESG 규제 준수 여부 확인\\n ·    ESG 우수 영역에 대한 정보공개 및    \\n기회 확대 방안 제시\\n ·    국내외 책임투자 기준 부합 여부 확인\\n ·    우수 관리 영역 정보공개 및   \\n이해관계자 커뮤니케이션매각/투자 회수 단계\\n03\\nExit (투자 회수)정기 ESG 점검\\n       투자회사 분류 \\n ·   전체 포트폴리오를 16개 업종, 기업 규모에 따라 3개 그룹으로 구분\\n       ESG 중점관리 항목 도출 \\n  ·   ESG 외부평가 및 주가 상관관계 상위 영역 분석에 따라   \\n산업 핵심관리 영역 도출\\n       정기 평가 실시 \\n   ·   연 2회 ESG 실적점검 실시,     \\n중요 ESG 리스크/기회 관련 이슈 식별보유 단계\\n02\\nValue-up Period (보유 기간)ESG 기반 주주 소통\\n        주주 소통 대상 안건\\n  ·   해당 산업 ESG 중점관리 항목과 연관된 리스크가 식별되었거나,  \\n연중 중대한 ESG Controversy Issue(예상하지 못한 우려) 발생 시\\n       투자회사 유형별 관여 방식\\n ·    이사회 기타비상무이사를 통한 소통\\n ·    ESG 점검 리포트 또는 주주서한 발송기후 리스크 관리\\n        전환 리스크\\n ·    탄소 규제/가격 변동에 따른 재무영향 점검  \\n[수익성] 매출액/영업이익 대비 탄소 비용 추이 고려  \\n[경제성] 투자 대비 감축 수단 효과 검토  \\n[시장성] 경쟁사 대비 속도/수준 감안 대응전략 점검\\n       물리적 리스크\\n ·    자산 소재 지역의 취약한 이상기후 요인 식별\\n ·    고위험 기업 대상 관리방안 마련 권고ESG 실사\\n       ESG 실사 수행\\n ·   실사 대상 기업 산업 및 규모에 따른 \\n체크리스트 생성\\n ·   점검항목은 유형에 따라   \\nESG 리스크와 관리체계로 구분\\n ·   서면진단 및 현장실사 실시\\n        시사점 도출\\n ·    Valuation 반영을 통한   \\n인수가액 조정\\n ·   PMI(Post-Merger Integration,  \\n인수 합병 후 통합 과정)   \\n개선 과제 제시ESG는 의사결정과 행동에 반드시 \\n반영되어야 하는 필수 요소이자 \\n기회입니다. SK는 기업가치의 건강한 \\n성장과 이해관계자의 지속가능한 행복을 \\n위해 경영의사결정의 DNA로서 \\nESG(환경/사회/지배구조)를 \\n내재화하고 있습니다.ESG 관리의 단계적 고도화\\n포트폴리오 ESG 관리 역량 축적, \\n글로벌 Top-tier 수준 ESG 관리체계 확보성장단계별 관리 차별화\\n투자기업 성숙도(기업의 Life Cycle)에\\n따라 적합한 ESG Value-up 실현산업별 중점관리항목 체계화\\n산업별 기업가치에 큰 영향을 주는 \\nESG 이슈 집중 관리Where we are heading    |     How we get there    |     What we are preparing', metadata={'source': '000660_SK_2023.pdf', 'page': 10}),\n",
       " Document(page_content='23 22\\nESG Special Report 2023\\n최근 국내외 경영환경은 글로벌 경기침체에 대한 우려와 \\n함께 하반기 시장 회복에 대한 기대감이 병존하며, \\n과거와는 다른 새로운 국면을 맞이하고 있습니다.\\n이에 따라 SK주식회사는 고물가·고금리 지속에 \\n대비하고, 경기침체 장기화에 따른 재무건전성 및 \\n펀더멘털 영향에 대한 대응 계획을 수립하고 있습니다. \\n또한 현상유지부터 극단적인 상황까지 리스크 상황을 \\n가정하여, 발생할 수 있는 다양한 불확실성에 견디는 \\n힘을 기르고자 합니다.경기침체와 불확실한 리스크에의 대처 \\n외부 경영환경 \\n리스크 확대 \\n투자전문회사로서의 \\n생존 역량 강화기업가치 \\n하방압력 최소화\\n공격적 금리 \\n상승에 따른 \\n조달 비용 ↑\\n글로벌 \\n경기침체 \\n가능성  ↑\\n예측 불가능한 \\n충격 \\n발생빈도 ↑ENDURING DOWNTURN & \\nDEALING WITH UNKNOWN RISKS                                         이를 위해 단기적으로 재무 안정성 강화를 우선하여 자금 조달 \\n파이프라인을 다변화하고 있으며, 차입구조를 개선하고 투자 \\n집행 규모 및 속도 조절을 통해 순차입금 수준을 낮춰 나갈 \\n계획입니다. 동시에 거시경제 상황의 개선과 함께 고성장 \\n궤도에 재진입할 수 있도록, 투자로 구축해온 포트폴리오의 \\n수익을 실현하고 새로운 성장 기회 탐색을 위한 투자를 \\n실행하며 기업가치 하방 압력을 완화하기 위한 리스크 \\n대응력을 강화할 예정입니다.\\n                    SHORT-TERM\\n                     MID-TERM                                                  예측불가 리스크에 대한 대응력 확보                                    재무건전성 확보 및 포트폴리오 관리 강화를 통한•   중장기 순차입금 의존도 \\n목표 수준 유지\\n•   포트폴리오 Review  \\n강화 및 Worst 상황 대응 \\n방안 수립\\n•   ROIC 기준 경제성 및 \\n실행력 평가단기 전략 우선 순위\\n•   거시경제 환경 변화에 따른 \\n리스크 노출 파악\\n•   예측 자체가 불가능한 \\n초미지 (超未知) 위기 검토\\n•   위기 현실화 전 사전  \\n대응방안 마련중기 전략 경영환경 인식\\n기업에게 제일 무서운 것은 불안, \\n즉 Unknown입니다.\\n어떤 시나리오가 일어나도 \\n최소한 생존을 해내는 방향을 \\n찾는 것이 지금 기업에게 가장 \\n중요한 덕목이라고 생각합니다.안정된 재무구조를 통한 기업의 \\n펀더멘털 강화가 필요합니다. \\n차입 구조 개선, 투자 수익 실현, \\n자금 조달 다변화가 우선적으로\\n고려되어야 할 최적화된\\n전략이라고 생각합니다.Where we are heading    |     How we get there    |     What we are preparing\\n시나리오 플래닝\\n•   지정학적 긴장, 거시경제 불확실성 \\n강화 등 외부환경 변화로 발생 \\n가능한 Worst Case를 상정하고 \\n이에 대한 대응력 식별, 대응 방안 \\n수립\\n•   SK주식회사의 투자 현황을 \\n점검하고, 시나리오별 리스크를 \\n파악하여 현금 창출력을 중심으로 \\nValuation 고도화 \\n투자 방향성 \\n및 전략 \\nUpgrade                                              포트폴리오 강건성 제고', metadata={'source': '000660_SK_2023.pdf', 'page': 11}),\n",
       " Document(page_content='25 24\\nESG Special Report 2023Where we are heading    |     How we get there    |     What we are preparing\\n다가올 상승기의 성장 기회 극대화를 위한 신성장 전략  \\nSK주식회사는 불확실한 경영환경을 헤쳐 나가면서도 다가올 시장에서의 이기는 전략\\n(Winning Strategy)을 고민하며 내일을 준비하고 있습니다. 사람과 기술, 고객을 \\n연결하는 혁신 기술을 가능케 하는 첨단소재, 산업 전반의 탈탄소를 주도하는 그린,  \\n인류의 건강한 삶을 위한 새로운 솔루션을 제공하는 바이오, 사회의 디지털 전환을 \\n가속화하는 게임체인저를 발굴하는 디지털. 이 4대 핵심 영역이 SK주식회사만의 투자와 \\n성장 플레이로 잠재력을 펼칠 무대입니다. 또한 SK는 넷제로를 에너지 전환 시대의 새로운 \\n성장 모멘텀으로 보고 다양한 친환경 기술 및 사업 기회를 확대해 나가고 있습니다. \\n긴 경기침체가 끝나고 새로운 성장의 기회가 열렸을 때, SK주식회사의 숨은 노력이 \\n진가를 발휘할 것이라고 믿습니다.\\nAdvanced Materials\\nGreen\\nBio\\nDigital \\nExpanding Our Portfolio’s Green Readiness\\nResponsible & Profitable Low Carbon Transition\\nNet Zero: Team Up In Action 26\\n27\\n28\\n29\\n30\\n32\\n36 WHAT WE ARE \\nPREPARING', metadata={'source': '000660_SK_2023.pdf', 'page': 12}),\n",
       " Document(page_content='ESG Special Report 202327 26\\nSK주식회사는 포트폴리오 내 고성장 \\n반도체, 전력 반도체, 배터리 핵심소재를 \\n모두 보유하고 있는 유일무이한 글로벌 \\n기업입니다.첨단소재ADVANCED \\nMATERIAL\\nSK주식회사는 사업 포트폴리오 안에 고성장 반도체, 전력 \\n반도체, 배터리 핵심소재를 모두 보유하고 있는\\n유일무이한 글로벌 기업입니다. 반도체 핵심소재를 중심으로 \\n다져왔던 사업 기반을 바탕으로 시너지를 창출하고 고성장 \\n영역에 대한 선제적인 투자를 단행하는 등 과감한 행보를 \\n통해, 전력 반도체 및 배터리 핵심소재로 투자 포트폴리오를 \\n확대해 나가고 있습니다. 향후 SK주식회사는 글로벌 \\n혁신기술 투자 전문가로서 세계적인 네트워크와 그룹 내 \\n제조 경쟁력 및 투자 전문 인력을 기반으로 글로벌 최정상의 \\n첨단소재 기업으로 도약하고자 합니다. 이를 위해 고부가/ \\n고성장 신규 영역에 대한 적극적 투자와 함께 글로벌 협업,\\nM&A, 투자 포트폴리오 최적화를 통해 고성장 및 고수익 \\n가치를 실현하고자 합니다.투자 포트폴리오\\nSK주식회사는 최근 전 세계적으로 고성능 컴퓨팅(HPC) 및 \\n전기차(EV) 확산, 고용량/고효율 배터리 수요 증가, 자율주행/ \\nAR 등의 시각센싱(Vision Sensing) 고도화 등에 따라\\n첨단 소재에 대한 수요가 증대되면서, 핵심기술 기반 글로벌 \\n공급망 구축을 선도하고 신성장 포트폴리오의 가시적 성과를 \\n창출하기 위한 포트폴리오 다각화를 추진하고 있습니다.\\nGREEN\\nSK주식회사는 그린 산업의 미래 핵심 영역에 선제 투자하여 \\n그린 산업 성장의 거점을 선점하고자 합니다.\\n탈탄소 기술 진화 및 상업화를 통한 가격 경쟁력 확보, 규제 \\n강화에 따른 탄소 감축 수요 증가, 지속가능성 인식 확산, 그린 \\n택소노미(Green Taxonomy) 기반 투자 확대 등의 영향으로 \\n그린 산업은 2030년 경을 기점으로 폭발적 성장을 할 것이며, \\n현 시점이 주도권을 선점하기 위한 투자 적기라고 판단하고 \\n있습니다. 이에 따라 SK주식회사는 글로벌 넷제로 달성의 \\n게임 체인저가 되겠다는 비전 아래 Energy와 Industry \\n영역 내 혁신과 변화를 주도하겠습니다. 또한, SK멤버사들의 \\n친환경 전환(Green Transformation)을 위한 조력자이자 \\n파트너로서, SK주식회사와 멤버사의 그린 포트폴리오 실현과 \\n연계사업화를 통한 미래 가치의 확대를 견인하겠습니다. \\n투자 포트폴리오\\nSK주식회사의 그린 투자 영역은 탄소 배출 축소 및 탄소 \\n제거를 포함하는 3대 탈탄소 영역으로 정의할 수 있습니다. \\nEnergy Transition 영역에서는 Electrification(전기화)과 \\nClean Fuel(청정연료) 분야 내 재생에너지, 소형모듈원전\\n(SMR), 전기차 충전 인프라, Grid/가정용 ESS, 수소, \\n암모니아 및 Biofuel 등의 사업화에 집중하고 있습니다. \\nIndustrial Transition 영역 내 Sustainable Food(지속 \\n가능 식품) 분야에서는 대체 단백질 등 다양한 혁신 식품원료 \\n기술 확보에 주력하고 있습니다. Green Industry(그린 \\n산업) 및 Circular Materials(순환 소재) 분야와 Carbon \\nManagement 영역에서는 고탄소 배출 제조업에 적용할 \\n탄소감축 기술에 선제 투자하고 CCUS(탄소 포집·활용·저장) \\n및 탄소배출권 등을 주요 사업으로 추진 중입니다.  그린 \\nCarbon Mgmt.Energy Transition\\nIndustrial Transition\\n대기 중 온실가스의 직접 제거 효과 극대화\\nCCUS, 자연기반 탄소흡수원화석 에너지원의 대체와 청정화 \\n전기화 (Electrification), 청정연료 \\n(Clean Fuels)\\n온실가스 다량 배출 산업의 구조적 전환\\n농·축산업, 제조업 (철강 시멘트 등), 폐기물배출 축소 (Reduction) Solution\\n탄소 제거 (Removal) SolutionWhere we are heading    |     How we get there    |     What we are preparing', metadata={'source': '000660_SK_2023.pdf', 'page': 13}),\n",
       " Document(page_content='29 28\\nESG Special Report 2023\\nSK는 2002년, 바이오사업을 육성해 2030년 이후 그룹의 \\n핵심동력으로 삼겠다는 장기목표를 수립한 이래, 신약과 백신, \\n제제, 의약품 위탁생산을 주축으로 바이오 산업에 진출하며 \\n끊임없이 성장기회를 확보하고 도약해 왔습니다. 최근 SK \\n주식회사는 글로벌 최대 시장인 미국과 유럽을 중심으로 합성 \\n신약과 CGT(Cell & Gene Therapy, 세포유전자치료제) \\nCDMO(Contract Development and Manufacturing \\nOrganization, 위탁개발생산)의 사업 경쟁력을 높이고 \\n있습니다. 2017년부터 CDMO시설을 인수하고 세계적인 \\nCGT 기업에 투자하며 SK의 바이오 시장을 세계로 확장하고 \\n있습니다. SK는 향후 5년 간 바이오 분야에 최소 6조원 이상 \\n투자하며 목표한 바이오 영역의 고성장을 달성하고자 합니다.\\n제약 분야\\nSK주식회사는 SK바이오팜과 함께 양사가 보유한 역량을 \\n활용하여 신약 개발 사업 중심의 포트폴리오를 밸류업하고, \\n신규기술 및 역량을 확장할 소수의 성장영역에 집중하여 제약 \\n분야의 파이프라인을 지속적으로 창출하고자 합니다.제약 분야 신성장 전략 수립을 통해 새로운 업사이드 모멘텀을 \\n찾음으로써 ‵No. 1 CNS 종합제약사′의 비전을 실현해 \\n나가고자 합니다.\\nCDMO 분야\\nSK주식회사는 2021년 SK팜테코를 통해 프랑스 Yposkesi \\n를 인수하며 CGT CDMO 사업에 진입한 후, 2022년 미국 \\nCGT CDMO인 CBM의 2대 주주가 되는 등 미래 유망 \\n영역인 CGT 사업에 선제적으로 진출하고 있습니다. 기존 \\n핵심사업인 합성 원료의약품 사업의 설비 증설과 기술 기반 \\n성장을 추진함과 동시에, 프랑스 Yposkesi 및 미국 CBM 등 \\n투자 포트폴리오 간 시너지 창출을 본격화하며 CGT 사업 내 \\n글로벌 입지를 확보하겠습니다.\\nCGT 사업 \\n선제적 진출\\n합성/CGT 영역 \\n글로벌 생산 거점 구축\\n세계 최고 수준의 \\n생산/품질 기술 확보CDMO 분야 파이낸셜 스토리\\n2025\\n글로벌 \\nTop-tier \\nCDMO\\nSK의 글로벌 바이오 사업\\nU.S.A.EUROPE\\nKOREA\\nBIO\\n바이오 Where we are heading    |     How we get there    |     What we are preparing\\n전략을 실행하고 이를 기반으로 신규 유망 영역에 투자하여 \\n투자수익을 극대화하는 선순환구조를 내재화하고 있으며, \\n앞으로도 세부영역별 앵커 (Anchor)를 찾는 방법론과 속도를 \\n차별화하여 최적화된 포트폴리오 구축이 가능하도록 노력할 \\n것입니다.\\n투자 포트폴리오 \\nSK주식회사는 향후 디지털 분야에서 기존에 추진하던 사업의 \\n경쟁력을 강화하고 신규 산업에 대한 탐색적 투자를 통해\\n미래 동력이 될 새로운 앵커를 확보하고자 합니다. 이를 위해 \\n산업 및 지역적 특성을 활용하는 전략적 투자를 통해 글로벌 \\n기술리더십을 확보하고, 펀드 조성 및 다각화된 투자전략을 \\n마련해 투자 및 사업 환경별 효율적인 자금 조달 경로를 SK주식회사는 디지털 전환을 주도하기 위해 AI, Web3, \\n전기차(EV) 충전 플랫폼 등 디지털 기술 및 인프라에 대한 \\n선제적 투자를 확대하고 있습니다. 특히, 타 산업에 파급력이 \\n크고 본격적인 성장이 기대되는 분야에서 중장기적 시너지를 \\n낼 수 있는 영역을 선별하여 투자함으로써 디지털 경쟁력을 \\n제고하고자 합니다. 이는 향후 SK주식회사의 핵심산업으로 \\n성장 가능한 Next 포트폴리오에 대한 준비이자, 동시에 \\nSK와 한국사회의 디지털 전환에 기여할 수 있는 중요한 \\n잠재력을 지닌 영역입니다. 디지털 분야는 그 어떤 분야보다도 \\n트렌드의 변화가 자주 발생해 이에 민첩하게 대응할 수 \\n있어야 합니다. 이에 따라, SK주식회사는 적극적인 투자회수 DIGITAL\\n디지털 \\nSK그룹 협업 기반의 경쟁력 \\n확보로 시장 선도전략 추진본격적 시장 확산 사업\\n산업 전방위적 전환이 본격화되지 않은 \\n게임 체인저가 등장하는 시장 내 유망 \\n사업모델 선점 및 적극적인 투자 추진트랜스포메이션 주도 산업\\n모빌리티 \\n•   자율주행 기술 고도화,  \\n시장성장성 확대\\n•   국내 및 동남아 모빌리티 사업 역량 \\n기반 시너지 창출 및 고성장 전략 실행Web3  \\n•   리테일, 브랜드 등 다수 기업시장  \\n참여 초기\\n•   Web3 생태계 필수 인프라 기술 \\n발전 중전기차(EV) 충전 플랫폼 \\n•    2030년 시장 규모 5조원 이상 전망\\n•   SK그룹 내 밸류체인 진입 확산 중  \\n(충전기 제조, 충전 서비스 등)인공지능(AI)\\n•   생성형 AI(Generative AI)   \\n본격 확산 초기\\n•   산업 전방위적으로 AI 전환 가속화 중신규 산업에 대한 탐색적 \\n투자를 통한 그룹의 미래 동력 \\n후보군 육성\\nEmerging Robotics\\n•    AI, 머신러닝 기반 고기능   \\n신규 로봇 출현 중\\n•    신규 로봇 도입 산업별 레퍼런스  \\n축적 단계\\n뉴 스페이스(New Space)\\n•   민간 주도의 뉴스페이스 시대 개화\\n•   우주 내 서비스 등 신규 사업모델  \\n개발 가속화\\n양자 컴퓨팅(Quantum Computing)\\n•    현존하는 슈퍼컴퓨터로 도달  \\n불가능한 성능 구현\\n•   기술 개발 진척에 따라 높은   \\n급성장 잠재력 보유신규 산업', metadata={'source': '000660_SK_2023.pdf', 'page': 14}),\n",
       " Document(page_content='ESG Special Report 2023\\n31 30\\n향후 10년은 파리기후 협약 1.5도 합의 이행을 위한 \\n골든타임으로서 탄소배출의 주체임과 동시에 탄소감축의 \\n주체인 기업의 의사결정이 그 어느 때보다 중요한 시기입니다. \\nSK그룹은 미래 저탄소 시대의 선두를 이끈다는 사명감으로 \\n2030년 전 세계 탄소감축 목표량의 1%인 약 2억톤의 CO 2를 \\n감축하겠다는 목표를 수립한 바 있습니다. \\n이를 위해 SK주식회사는 기후변화 대응 및 그린전환을 위한 \\n친환경 사업 확대, 탄소배출 감축, 탄소 제거를 위한 \\n탈탄소화 솔루션에 적극 투자하여 글로벌 넷제로와 \\nSK의 탄소발자국 제로화에 기여하고자 합니다.EXPANDING OUR \\nPORTFOLIO’S \\nGREEN READINESS\\n주요 탈탄소 투자 영역\\n·        ICT 에너지 솔루션\\n·        친환경 모빌리티\\n·        재사용 포장재 ·    EV SCM(전기차 공급망관리)\\n ·    배터리 소재\\n ·    수소, SMR(소형모듈형 원전)\\n ·    전기차 충전 솔루션\\n ·    대체 식품첨단소재\\nGreenDigital01\\n02 03탄소없는 미래를 향한 SK의 여정친환경 투자 비중 확대\\nSK주식회사는 2022년 기준 친환경 비즈니스에 성장 \\n영역에 대한 직접 투자 금액 중 30%를 투자하며 \\n친환경 포트폴리오를 확대하고 있습니다. \\n앞으로도 SK는 선제적으로 친환경 사업 및 기술에 \\n투자하고 SK그룹 내 그린사업 간의 연계를 강화하여 \\n그린 이코노미의 성장을 견인하겠습니다.30%\\n2022년 누적\\n친환경 비즈니스\\n투자 비중\\n2016 2017 2018 2019 2020 2021 202223,184\\n8,682\\n6,679 \\n1,7541,466 58925,895친환경 비즈니스 누적 투자 규모 추이\\n(억원) \\n0.32% \\nICT 기반 \\n에너지 솔루션0.22% \\n차량용 ESS친환경 투자금액 중 한국형 녹색분류체계(K-Taxonomy) 영역별 비중\\n34.94 % \\n수소 생산17.28 %\\n탄소중립 소재·부품·장비\\n12.39 %\\n에너지 고효율 설비\\n2.20 % \\n청록수소 \\n생산2.17 %\\n가정용 \\nESS5.85% \\n대체 가공식품3.77% \\n에너지 솔루션2.41% \\n소형 \\n모듈형 원전\\n1.22% \\n바이오 가스\\n에너지화5.91% \\n무공해 차량 \\n제조 및 \\n개인이동 공유/\\n운송11.32 % \\n전기차 충전 시스템Where we are heading    |     How we get there    |     What we are preparing', metadata={'source': '000660_SK_2023.pdf', 'page': 15}),\n",
       " Document(page_content='그룹 차원의 에너지 전환 노력 가속화\\nSK는 선제적인 넷제로 활동을 통해 환경, 사회, \\n이해관계자에게 선한 영향력을 미치는 지속가능한 \\n성장모델을 구축하고자 합니다. 이를 위해 사업 운영 과정에서 \\n발생하는 탄소배출량을 직접 감축할 뿐만 아니라, 경영활동 \\n전반에 탄소 사용에 대한 자체 내부가격을 설정 및 반영하여 \\n저탄소 기술 투자를 촉진해 나가고자 합니다. RESPONSIBLE & \\nPROFITABLE \\nLOW CARBON \\nTRANSITION\\n지속가능하고 수익성 있는 저탄소 경제로의  전환\\n도래할 저탄소 경제에서 경쟁력을 잃지 않고 살아남기 위해서 \\n기업은 탄소 배출량을 줄이고 적극적인 넷제로 달성을 위해 \\n노력해야 합니다. 그러나 넷제로 가속화를 위한 감축 노력은 \\n때때로 기업의 단·장기 수익성에 영향을 미치기도 합니다. \\n이에 투자전문회사로서 SK주식회사는 포트폴리오의 \\n현재 기후 리스크 수준을 점검하는데 나아가, 탄소 리스크 \\n경감을 위해 각 사가 준비하는 감축수단의 효과성과 경제성을\\n함께 검토할 수 있는 관리체계를 수립하였습니다.  \\n또한 포트폴리오 전반의 물리적 리스크를 점검할 수 있도록 \\n10개 이상 기후 유형과 지역별, 회사별 재무리스크 수준을 \\n분류하여 모니터링하고 있습니다. \\n이러한 관리체계 하에서 각 사가 최적의 방식으로 기후 \\n리스크를 관리하고 넷제로를 달성해 나갈 때, 그 노력이 \\n기업과 인류에 불러올 가치는 시간이 흐름에 따라 더욱 상승할 \\n것입니다.포트폴리오 기후 관련 재무 리스크 관리 \\n(직접자회사 및 Minor 투자사 포함, 전환/물리적 리스크)RE100 이행\\n•   그룹 공통 재생에너지 확보 프로젝트\\n•   SK에코플랜트 재생에너지 사업  확대 및   \\n탄소 배출권 등 부가수익 창출을 위한    \\n해외 태양광 비즈니스 구축\\n•   SK하이닉스, SKC 해외사업장 RE100 우선 추진\\n•   SK텔레콤, SK네트웍스 태양광 발전설비 구축\\n•  SK아이이테크놀로지 , SKC 녹색요금제 도입탄소비용을 모든 비즈니스 의사결정에 통합\\n•   그룹 넷제로 달성을 위한 핵심 수단으로서 \\n내부탄소가격제 도입\\n•   리스크 관리 범위 확장\\n•   온실가스 감축량 제고\\n•   재생에너지 투자 가속화\\n•   저탄소 제품·서비스 확장 촉진\\n기존 포트폴리오 넷제로 달성 시나리오 \\n(SK 주요 15개 멤버사, SCOPE 1+2 배출량 기준)\\n •SK스페셜티\\n• SK이노베이션 계열  \\n- Green Biz\\n•SK주식회사\\n•SK E&S\\n•SKC\\n•SK실트론\\n•SK에코플랜트\\n•SK브로드밴드\\n• SK이노베이션 계열  \\n- Carbon Biz\\n•SK텔레콤\\n•SK하이닉스\\n•SK가스•SK네트웍스\\n•SK바이오팜\\n•SK케미칼\\n•SK스퀘어\\n2050-α \\nNet Zero2025\\n2030\\n2035\\n2040\\n20502020\\n20455%\\n상쇄\\nCDM 사업(국내외 조림 \\n사업, 쿡스토브 등), \\n탄소배출권 구매 등\\n53%\\n직접 감축\\n설비 효율 개선, 친환경 \\n연료 전환, 탄소 포집 및 \\n활용·저장(CCUS), \\nEV(전기차) 전환 등42%\\nRE100\\nREC 구매, PPA, \\n녹색요금제 등\\n전력 사용의 100% \\n재생에너지로 전환33 32Where we are heading    |     How we get there    |     What we are preparing ESG Special Report 2023', metadata={'source': '000660_SK_2023.pdf', 'page': 16}),\n",
       " Document(page_content='ESG Special Report 2023\\n35 34\\n규제 리스크 \\n비용실질 리스크 \\n비용100\\n60\\n각 사 온실가스배출전망치\\n(BAU) 및 미래 배출권 \\n가격 예측 기반 산정투자회사별\\n실질 리스크 수준에 \\n따라 차별적 관리감축목표\\n 이행감축투자 \\n비용   원가구조 \\n개선\\n중·장기 기후변화 대응 시나리오 고려, \\n넷제로 이행 수단 효과성 및 경제성 분석가격/원가 구조변화에 \\n따른 규제 비용 부담 감소 \\n영역 확인3. 잔여 리스크 1. 노출된 리스크\\n-30+202. 관리된  리스크 물리적 리스크 전망 데이터 분석\\n리스크 수준 분류폭염, 강풍, 해안침수, 산불, 열대성 저기압,\\n폭설, 폭우, 가뭄, 홍수/범람, 혹한대한민국, 미국, 일본, 중국,\\n인도네시아, 베트남, 인도, 헝가리, UAE…포트폴리오 \\n글로벌 사업장 \\n(국가 / 도시별)10대 \\n이상 기후별 \\n예상 임팩트이 과정에서 각 투자회사가 보유한 감축수단의 효과성, \\n경제성과 함께 전환 리스크를 지탱할 수 있는 충분한 \\n시장성을 보유했는지  검토하게 됩니다. 도출된 실질 전환 \\n리스크는 미래 투자회사의 매출 창출 역량과 비교한 지표인 \\n‘탄소리스크보상비율’로 환산되어, 탄소 리스크 측면의 \\n건전성을 평가받게 됩니다.물리적 리스크 \\n최근 이상기후 현상 발생 빈도가 증가함에 따라 물리적 \\n리스크가 심화되고 있습니다. 물리적 리스크는 기후변화의 \\n물리적 영향으로 발생하는 리스크로, 기업의 매출/자산/영업 \\n활동 등에도 극심한 피해를 줄 수 있는 요소입니다.\\n이에 SK주식회사는 기후 변화에 따른 물리적 리스크 관리를 위해 포트폴리오 사업장별 이상기후에 노출된 지역을 \\n기반으로 예상되는 임팩트를 분석하여 포트폴리오의 기후 \\n위험 노출도를 추정하고, 고위험 투자회사/투자지역에 \\n대한 대응방안을 관리하고 있습니다. 또한, 사업확장 및 \\n투자지역 선정 시 물리적 리스크를 투자의사결정의 검토 \\n요소로 고려합니다.전환 리스크 \\nSK주식회사는 포트폴리오 투자회사 대상 기후 리스크 \\n관리체계를 정립하였습니다. 노출된 규제 리스크 중 \\n투자회사의 관리를 통해 완화된 리스크를 차감한 실질 \\n리스크를 투자회사 평가의 기준으로 활용합니다. 포트폴리오 기후 리스크 재무영향 관리 \\n-30\\nSK주식회사\\n고위험 \\n투자회사 대상 \\n경보 전달 투자회사\\n자체 관리체계 \\n수립 및 \\n모니터링SK주식회사\\n연 1회 \\n리스크 시나리오\\n업데이트주요 \\n투자회사별 \\n지역별 \\n(도시/국가)\\n이상기후 \\n유형별중위험\\n저위험고위험\\nWhere we are heading    |     How we get there    |     What we are preparing\\n단계별 관리 전략\\n•   주요 투자회사의 \\n온실가스배출전망치에 NGFS* \\n시나리오 기반의 탄소가격 전망을 \\n고려할 시, 투자회사가 부담하게 \\n되는 규제리스크 비용 산정\\n -  2050년까지 누적 규제 리스크 \\n비용의 현재가치\\n -  현재 자산가치, 매출액 및 \\nEBITDA 대비 누적 규제 리스크 \\n비용의 비율 검토\\n*   NGFS(Network for Greening the \\nFinancial System): 녹색금융협의체\\n규제 리스크 \\n도출 대응 전략 및 \\n리스크 저감 가능 영역\\n배출량 감축 수단의 효과성·경제성\\n•   투자회사가 수립한 넷제로 목표 이행에 \\n따라 감소하는 규제 리스크 확인\\n•   탄소 감축 수단의 경제성 검토\\n가격/원가 구조 개선\\n•    시장 내 경쟁적 지위, 제품 가격 탄력성 \\n고려에 따라 전환 리스크로 발생하는 \\n비용의 리스크 저감 가능 영역 확인실질 리스크 \\n도출\\n•    투자회사의 노출된 전환 리스크 비용 중, \\n투자회사가 경감할 수 있거나    \\n가격/원가 구조 개선 후의 잔여 리스크를   \\n실질 전환 리스크로 정의\\n•    실질 전환 리스크 비용에 따른 \\n탄소리스크보상비율 산출, 고위험 리스크  \\n대상(보상비율이 영업이익률 이상)   \\n투자회사 별도 관리\\n2050년까지 \\n예상 실질 전환 리스크 비용의 현재가치 \\n2050년까지 \\n예상 매출액의 현재가치 탄소리스크 보상비율 (%)  = ', metadata={'source': '000660_SK_2023.pdf', 'page': 17}),\n",
       " Document(page_content=\"ESG Special Report 202337 36\\n넷제로 이행을 위한 탄소 감축 실행 역량 확대기업에게 관계성(Relationship)이 중요한 자산인 오늘날, \\nSK주식회사가 속해 있는 네트워크가 곧 SK의 가치인 \\n시대입니다. 이에 SK주식회사는 향후 폭발적으로 확장할 \\n청정기술시장에서 핵심적인 기회를 선점하고, 글로벌 공급망 \\n재편에 흔들리지 않는 위상을 확보할 수 있도록 주요 대륙 \\n및 국가에  탄소 감축에 실질적으로 기여할 수 있는 친환경 사업을 추진하고 글로벌 파트너사들과 협업하여 경쟁력을 \\n강화해 나가고자  합니다. 특히, 미국·유럽 지역 중심으로 \\n성장 잠재력이 높은 기술을 보유하거나 밸류체인 내 영향력이 \\n클 것으로 예상되는 기업을 대상으로 직접투자 및 공급망 \\n파트너링을 확대하여 글로벌 생산거점 및 투자 파이프라인을 \\n견고히 구축할 것입니다. SK는 2030년 전세계 탄소배출량의 1%인 2억톤을 감축하고 \\n2050년 내  탄소중립을 조기 달성해 전 세계 탄소감축 \\n목표량에  기여하여 신뢰도 있는 넷제로 행보를 보이고자 \\n합니다. 전 인류가 공동으로 해결해야 하는 지상의 과제인  \\n기후위기 해결을 위해,  SK는 도전자의 자세로 이해관계자와의 \\n협력을 선도할 것을 약속합니다. \\nSK 텔레콤 – Joby Aviation\\n·   무공해, 저소음 미래  \\n도심항공교통 사업 \\nSK E&S\\n·   냉각 수소를 연료로 활용하는  \\n액화수소 드론 개발 SK(주) & SK이노베이션 공동 투자 \\n- Terra Power\\n·  차세대 소형 모듈 원자로 기술 (SMR)\\nSK이노베이션 \\n– SK에너지 & SK어스온, SK E&S\\n·  탄소 포집, 활용, 저장기술 (CCUS)\\nSK에코플랜트 - Bloom Energy\\n·  연료전지 발전 사업\\nSK에코플랜트\\n·   해상풍력-그린수소 생산까지 신재생 \\n에너지 밸류체인 전반 사업개발SK(주) & SK E&S 공동 투자 - Plug Power\\n·  모빌리티용 수소 연료전지 기술 \\nSK시그넷, SKE&S - 에버차지\\n·  EV  충전 사업\\nSK(주) & SK에너지 공동 투자 - Atom Power\\n·   SiC 전력반도체 기반 EV/ESS 적용   \\n에너지솔루션 사업\\nSKC – 넥세온 \\n·   전기차 배터리 신소재(실리콘 음극재) 기술\\nSKC – 넥실리스\\n·  리튬이온 배터리 핵심 소재 동박 생산Air Mobility Future Energy CLEAN MOBILITY\\nSK하이닉스\\n·   4세대 고성능 D램 및 고효율   \\n기업용 SSD 개발\\nSK이노베이션 – SK엔무브\\n·   냉각유를 활용한 액침냉각 등 열관리 사업\\nSKC - 앱솔릭스\\n·   전력 효율도 우수한 반도체 글라스   \\n기판 생산Green Digital Solution Zero Carbon Lifestyle\\nSK(주) - Halio\\n·   친환경 혁신 소재 Smart Glass를 통한 \\n건물용 에너지 효율 개선 기술\\nSK실트론 –테라온\\n·   나노탄소 발열소재 및 고내열 전도성   \\n잉크 소재 기술SK이노베이션 - SK지오센트릭\\n·  폐배터리 · 플라스틱 재활용 사업\\nSK에코플랜트\\n·  폐플라스틱 재활용 사업\\n·   폐기물 배출-운송-처리 생애주기의 \\n디지털 기반 추적/관리 솔루션 개발\\n·  폐배터리 리사이클링 사업\\nSKC\\n·  폐플라스틱 열분해 기술Waste to Resources\\nSustainable Food\\nSK(주) - Perfect Day, Nature's Fynd\\n·   발효 유(乳 ) 및 미생물     \\n발효 기술을 통한 단백질 생산\\nSK(주) - Wildtype\\n·   식물성 대체육 및 세포배양 연어육 생산Where we are heading    |     How we get there    |     What we are preparing\\nGoals for \\n2030: \\n글로벌 탄소감축 기여 \\n2억톤 달성 Zero Carbon \\nLifestyleGreen Digital \\nSolution\\nWaste to \\nResources\\nSustainable \\nFood\\nFuture \\nEnergy\\nAir Mobility\\nClean MobilityNET ZERO: \\nTEAM UP IN ACTION\", metadata={'source': '000660_SK_2023.pdf', 'page': 18}),\n",
       " Document(page_content='2023 SK Inc. ESG Special Report\\n발간  SK주식회사(www.sk-inc.com)  \\n보고서 제작  Portfolio기획실\\n문의  서울 종로구 종로 26 SK서린빌딩  |  sustainability@sk.com  \\n본 보고서는 FSCⓇ(Forest Stewardship CouncilⓇ)인증을 받은 용지를 \\n사용하였으며, 콩기름 잉크로 인쇄되었습니다. FSCⓇ마크는 사회, 경제, 환경적 \\n관점에서 지속가능하게 관리된 삼림내에서 길러진 나무를 사용한 제품에만 \\n부착됩니다. 또한, 콩기름 잉크는 석유계 잉크에 비해 친환경적이며 휘발하지 않기 \\n때문에 대기오염을 줄일 수 있습니다.', metadata={'source': '000660_SK_2023.pdf', 'page': 19}),\n",
       " Document(page_content='ESG Special Report 2023', metadata={'source': '000660_SK_2023.pdf', 'page': 20})]"
      ]
     },
     "execution_count": 56,
     "metadata": {},
     "output_type": "execute_result"
    }
   ],
   "source": [
    "pages"
   ]
  },
  {
   "cell_type": "code",
   "execution_count": 57,
   "id": "84cc0e7d",
   "metadata": {},
   "outputs": [
    {
     "data": {
      "text/plain": [
       "Document(page_content='21 20\\nESG Special Report 2023\\n투자 검토 단계\\nPre-Acquisition (인수 전)\\n01포트폴리오 ESG 관리 체계\\n장기적 관점에서 기업가치 제고를 실현하기 위해 핵심자산인 \\n투자 포트폴리오의 경제적 가치와 함께 ESG 가치를 \\n통합적으로 관리하기 위한 체계를 구축하고 있습니다.\\n투자 검토 시점부터 인수 후, 회수 시점까지 투자\\nLife Cycle에 걸쳐 적용되는 체계적인 ESG 관리를 \\n기반으로 내부적으로는 ESG를 고려한 합리적인 투자의사 \\n결정을 이행하고, 시장에서는 포트폴리오의 기업가치가 \\n시장에서 제대로 평가받으며 나아가 사회·환경에 미치는 \\n파급력을 높일 수 있도록 노력하겠습니다.포트폴리오 ESG 관리 원칙\\nSK주식회사 투자회사\\n기업가치 관점의\\nESG 중점관리 \\n항목 도출자사 ESG \\n관리전략\\nESG 성과 \\n데이터 관리기업가치와\\nESG 성과 \\n연계성 분석포트폴리오 \\nESG 관리전략 \\nUpgrade성장단계\\n산업특성\\nESG Divestment 전략 검토\\n       ESG Exit 리포트 발간\\n ·    인수 이후 ESG Value-up 기반 Exit 전략 도출\\n ·    중대 ESG 리스크/기회 현황 및   \\nESG 관리·공시 수준 확인\\n셀사이드(Sell-side) 점검사항 관리\\n       중대 ESG 이슈 존재 여부 검토\\n ·    매각 대상 시장 내 ESG 규제 준수 여부 확인\\n ·    ESG 우수 영역에 대한 정보공개 및    \\n기회 확대 방안 제시\\n ·    국내외 책임투자 기준 부합 여부 확인\\n ·    우수 관리 영역 정보공개 및   \\n이해관계자 커뮤니케이션매각/투자 회수 단계\\n03\\nExit (투자 회수)정기 ESG 점검\\n       투자회사 분류 \\n ·   전체 포트폴리오를 16개 업종, 기업 규모에 따라 3개 그룹으로 구분\\n       ESG 중점관리 항목 도출 \\n  ·   ESG 외부평가 및 주가 상관관계 상위 영역 분석에 따라   \\n산업 핵심관리 영역 도출\\n       정기 평가 실시 \\n   ·   연 2회 ESG 실적점검 실시,     \\n중요 ESG 리스크/기회 관련 이슈 식별보유 단계\\n02\\nValue-up Period (보유 기간)ESG 기반 주주 소통\\n        주주 소통 대상 안건\\n  ·   해당 산업 ESG 중점관리 항목과 연관된 리스크가 식별되었거나,  \\n연중 중대한 ESG Controversy Issue(예상하지 못한 우려) 발생 시\\n       투자회사 유형별 관여 방식\\n ·    이사회 기타비상무이사를 통한 소통\\n ·    ESG 점검 리포트 또는 주주서한 발송기후 리스크 관리\\n        전환 리스크\\n ·    탄소 규제/가격 변동에 따른 재무영향 점검  \\n[수익성] 매출액/영업이익 대비 탄소 비용 추이 고려  \\n[경제성] 투자 대비 감축 수단 효과 검토  \\n[시장성] 경쟁사 대비 속도/수준 감안 대응전략 점검\\n       물리적 리스크\\n ·    자산 소재 지역의 취약한 이상기후 요인 식별\\n ·    고위험 기업 대상 관리방안 마련 권고ESG 실사\\n       ESG 실사 수행\\n ·   실사 대상 기업 산업 및 규모에 따른 \\n체크리스트 생성\\n ·   점검항목은 유형에 따라   \\nESG 리스크와 관리체계로 구분\\n ·   서면진단 및 현장실사 실시\\n        시사점 도출\\n ·    Valuation 반영을 통한   \\n인수가액 조정\\n ·   PMI(Post-Merger Integration,  \\n인수 합병 후 통합 과정)   \\n개선 과제 제시ESG는 의사결정과 행동에 반드시 \\n반영되어야 하는 필수 요소이자 \\n기회입니다. SK는 기업가치의 건강한 \\n성장과 이해관계자의 지속가능한 행복을 \\n위해 경영의사결정의 DNA로서 \\nESG(환경/사회/지배구조)를 \\n내재화하고 있습니다.ESG 관리의 단계적 고도화\\n포트폴리오 ESG 관리 역량 축적, \\n글로벌 Top-tier 수준 ESG 관리체계 확보성장단계별 관리 차별화\\n투자기업 성숙도(기업의 Life Cycle)에\\n따라 적합한 ESG Value-up 실현산업별 중점관리항목 체계화\\n산업별 기업가치에 큰 영향을 주는 \\nESG 이슈 집중 관리Where we are heading    |     How we get there    |     What we are preparing', metadata={'source': '000660_SK_2023.pdf', 'page': 10})"
      ]
     },
     "execution_count": 57,
     "metadata": {},
     "output_type": "execute_result"
    }
   ],
   "source": [
    "pages[10]"
   ]
  },
  {
   "cell_type": "code",
   "execution_count": 92,
   "id": "e19bee4c",
   "metadata": {
    "scrolled": false
   },
   "outputs": [],
   "source": [
    "# # Unstructured\n",
    "\n",
    "# ===== UnstructuredPDFLoader 실행 환경 구축이 난이도가 있는 편이라 이번 공부에서는 패스 =====\n",
    "\n",
    "# from langchain_community.document_loaders import UnstructuredPDFLoader\n",
    "\n",
    "# pdf_filepath = '000660_SK_2023.pdf'\n",
    "\n",
    "# # 전체 텍스트를 단일 문서 객체로 변환\n",
    "# loader = UnstructuredPDFLoader(pdf_filepath)\n",
    "# pages = loader.load()\n",
    "\n",
    "# len(pages)"
   ]
  },
  {
   "cell_type": "code",
   "execution_count": 58,
   "id": "5c358330",
   "metadata": {},
   "outputs": [
    {
     "data": {
      "text/plain": [
       "21"
      ]
     },
     "execution_count": 58,
     "metadata": {},
     "output_type": "execute_result"
    }
   ],
   "source": [
    "# PyMuPDFLoader\n",
    "\n",
    "from langchain_community.document_loaders import PyMuPDFLoader\n",
    "\n",
    "pdf_filepath = '000660_SK_2023.pdf'\n",
    "\n",
    "loader = PyMuPDFLoader(pdf_filepath)\n",
    "pages = loader.load()\n",
    "\n",
    "len(pages)"
   ]
  },
  {
   "cell_type": "code",
   "execution_count": 59,
   "id": "cc22d1dd",
   "metadata": {},
   "outputs": [
    {
     "name": "stdout",
     "output_type": "stream",
     "text": [
      "1\n",
      "Where we are heading    |     How we get there    |     What we are preparing\n",
      "ESG Special Report\n",
      "2023 \n",
      "NAVIGATING \n",
      "UNCERTAINTIES TO ENSURE  \n",
      "SUSTAINABLE \n",
      "GROWTH\n",
      "\n"
     ]
    }
   ],
   "source": [
    "print(pages[0].page_content)"
   ]
  },
  {
   "cell_type": "code",
   "execution_count": 60,
   "id": "d7470c99",
   "metadata": {},
   "outputs": [
    {
     "data": {
      "text/plain": [
       "{'source': '000660_SK_2023.pdf',\n",
       " 'file_path': '000660_SK_2023.pdf',\n",
       " 'page': 0,\n",
       " 'total_pages': 21,\n",
       " 'format': 'PDF 1.6',\n",
       " 'title': '',\n",
       " 'author': '',\n",
       " 'subject': '',\n",
       " 'keywords': '',\n",
       " 'creator': 'Adobe InDesign 16.2 (Macintosh)',\n",
       " 'producer': 'Adobe PDF Library 15.0',\n",
       " 'creationDate': \"D:20230626161631+09'00'\",\n",
       " 'modDate': \"D:20230626172106+09'00'\",\n",
       " 'trapped': ''}"
      ]
     },
     "execution_count": 60,
     "metadata": {},
     "output_type": "execute_result"
    }
   ],
   "source": [
    "pages[0].metadata"
   ]
  },
  {
   "cell_type": "code",
   "execution_count": 62,
   "id": "577822ba",
   "metadata": {},
   "outputs": [],
   "source": [
    "# # Online\n",
    "\n",
    "# ===== OnlinePDFLoader 실행 환경 구축이 난이도가 있는 편이라 이번 공부에서는 패스 =====\n",
    "\n",
    "# from langchain_community.document_loaders import OnlinePDFLoader\n",
    "\n",
    "# # Transformers 논문을 로드\n",
    "# loader = OnlinePDFLoader(\"https://arxiv.org/pdf/1706.03762.pdf\")\n",
    "# pages = loader.load()\n",
    "\n",
    "# len(pages)"
   ]
  },
  {
   "cell_type": "code",
   "execution_count": 63,
   "id": "8ea8653d",
   "metadata": {},
   "outputs": [
    {
     "name": "stdout",
     "output_type": "stream",
     "text": [
      "1234\n"
     ]
    },
    {
     "data": {
      "text/plain": [
       "'한국의 역사는 수천 년에 걸쳐 이어져 온 긴 여정 속에서 다양한 문화와 전통이 형성되고 발전해 왔습니다. 고조선에서 시작해 삼국 시대의 경쟁, 그리고 통일 신라와 고려를 거쳐 조선까지, 한반도는 많은 변화를 겪었습니다.\\n\\n고조선은 기원전 2333년 단군왕검에 의해 세워졌다고 전해집니다. 이는 한국 역사상 최초의 국가로, 한민족의 시원이라 할 수 있습니다. 이후 기원전 1세기경에는 한반도와 만주 일대에서 여러 소국이 성장하며 삼한 시대로 접어듭니다.\\n\\n4세기경, 고구려, 백제, 신라의 삼국이 한반도의 주요 세력으로 부상했습니다. 이 시기는 삼국이 각각 문화와 기술, 무력을 발전시키며 경쟁적으로 성장한 시기로, 한국 역사에서 중요한 전환점을 마련했습니다. 특히 고구려는 북방의 강대국으로 성장하여 중국과도 여러 차례 전쟁을 벌였습니다.\\n\\n7세기 말, 신라는 당나라와 연합하여 백제와 고구려를 차례로 정복하고, 한반도 최초의 통일 국가인 통일 신라를 건립합니다. 이 시기에 신라는 불교를 국교로 채택하며 문화와 예술이 크게 발전했습니다.\\n\\n그러나 10세기에 이르러 신라는 내부의 분열과 외부의 압력으로 쇠퇴하고, 이를 대체하여 고려가 성립됩니다. 고려 시대에는 과거제도의 도입과 더불어 청자 등 고려 고유의 문화가 꽃피었습니다.\\n\\n조선은 1392년 이성계에 의해 건국되어, 1910년까지 이어졌습니다. 조선 초기에는 세종대왕이 한글을 창제하여 백성들의 문해율을 높이는 등 문화적, 과학적 성취가 이루어졌습니다. 그러나 조선 후기에는 내부적으로 실학의 발전과 함께 사회적 변화가 모색되었으나, 외부로부터의 압력은 점차 커져만 갔습니다.\\n\\n19세기 말부터 20세기 초에 걸쳐 한국은 제국주의 열강의 침략을 받으며 많은 시련을 겪었습니다. 1910년, 한국은 일본에 의해 강제로 병합되어 35년간의 식민 지배를 받게 됩니다. 이 기간 동안 한국인들은 독립을 위한 다양한 운동을 전개했으며, 이는 1945년 일본의 패망으로 이어지는 독립으로 결실을 맺었습니다.\\n\\n해방 후 한반도는 남북으로 분단되어 각각 다른 정부가 수립되었고, 1950년에는 한국전쟁이 발발하여 큰 피해를 입었습니다. 전쟁 후 남한은 빠른 경제 발전을 이루며 오늘날에 이르렀습니다.\\n\\n한국의 역사는 오랜 시간 동안 수많은 시련과 도전을 겪으며 형성된 깊은 유산을 지니고 있습니다. 오늘날 한국은 그 역사적 배경 위에서 세계적으로 중요한 역할을 하고 있으며, 과거의 역사가 현재와 미래에 어떻게 영향을 미치는지를 이해하는 것은 매우 중요합니다.'"
      ]
     },
     "execution_count": 63,
     "metadata": {},
     "output_type": "execute_result"
    }
   ],
   "source": [
    "# CharacterTextSplitter\n",
    "\n",
    "from langchain_community.document_loaders import TextLoader\n",
    "\n",
    "loader = TextLoader('history.txt', encoding='utf-8')\n",
    "data = loader.load()\n",
    "\n",
    "print(len(data[0].page_content))\n",
    "data[0].page_content"
   ]
  },
  {
   "cell_type": "code",
   "execution_count": 64,
   "id": "659f8dd6",
   "metadata": {},
   "outputs": [
    {
     "data": {
      "text/plain": [
       "3"
      ]
     },
     "execution_count": 64,
     "metadata": {},
     "output_type": "execute_result"
    }
   ],
   "source": [
    "# 문서의 개별 문자를 단위로 나누기\n",
    "\n",
    "from langchain_text_splitters import CharacterTextSplitter\n",
    "text_splitter = CharacterTextSplitter(\n",
    "    separator = '',        # 청크 구분 기준 문자열\n",
    "    chunk_size = 500,      # 청크 사이즈 (최대 500자)\n",
    "    chunk_overlap  = 100,  # 청크별 연결 부분에서의 중복 길이 (전후 파악)\n",
    "    length_function = len, #청크 길이 계산 함수\n",
    ")\n",
    "\n",
    "texts = text_splitter.split_text(data[0].page_content)\n",
    "\n",
    "len(texts)"
   ]
  },
  {
   "cell_type": "code",
   "execution_count": 65,
   "id": "ca0221cb",
   "metadata": {},
   "outputs": [
    {
     "data": {
      "text/plain": [
       "['한국의 역사는 수천 년에 걸쳐 이어져 온 긴 여정 속에서 다양한 문화와 전통이 형성되고 발전해 왔습니다. 고조선에서 시작해 삼국 시대의 경쟁, 그리고 통일 신라와 고려를 거쳐 조선까지, 한반도는 많은 변화를 겪었습니다.\\n\\n고조선은 기원전 2333년 단군왕검에 의해 세워졌다고 전해집니다. 이는 한국 역사상 최초의 국가로, 한민족의 시원이라 할 수 있습니다. 이후 기원전 1세기경에는 한반도와 만주 일대에서 여러 소국이 성장하며 삼한 시대로 접어듭니다.\\n\\n4세기경, 고구려, 백제, 신라의 삼국이 한반도의 주요 세력으로 부상했습니다. 이 시기는 삼국이 각각 문화와 기술, 무력을 발전시키며 경쟁적으로 성장한 시기로, 한국 역사에서 중요한 전환점을 마련했습니다. 특히 고구려는 북방의 강대국으로 성장하여 중국과도 여러 차례 전쟁을 벌였습니다.\\n\\n7세기 말, 신라는 당나라와 연합하여 백제와 고구려를 차례로 정복하고, 한반도 최초의 통일 국가인 통일 신라를 건립합니다. 이 시기에 신라는 불교를 국교',\n",
       " '차례 전쟁을 벌였습니다.\\n\\n7세기 말, 신라는 당나라와 연합하여 백제와 고구려를 차례로 정복하고, 한반도 최초의 통일 국가인 통일 신라를 건립합니다. 이 시기에 신라는 불교를 국교로 채택하며 문화와 예술이 크게 발전했습니다.\\n\\n그러나 10세기에 이르러 신라는 내부의 분열과 외부의 압력으로 쇠퇴하고, 이를 대체하여 고려가 성립됩니다. 고려 시대에는 과거제도의 도입과 더불어 청자 등 고려 고유의 문화가 꽃피었습니다.\\n\\n조선은 1392년 이성계에 의해 건국되어, 1910년까지 이어졌습니다. 조선 초기에는 세종대왕이 한글을 창제하여 백성들의 문해율을 높이는 등 문화적, 과학적 성취가 이루어졌습니다. 그러나 조선 후기에는 내부적으로 실학의 발전과 함께 사회적 변화가 모색되었으나, 외부로부터의 압력은 점차 커져만 갔습니다.\\n\\n19세기 말부터 20세기 초에 걸쳐 한국은 제국주의 열강의 침략을 받으며 많은 시련을 겪었습니다. 1910년, 한국은 일본에 의해 강제로 병합되어 35년간의 식민 지배를',\n",
       " '니다.\\n\\n19세기 말부터 20세기 초에 걸쳐 한국은 제국주의 열강의 침략을 받으며 많은 시련을 겪었습니다. 1910년, 한국은 일본에 의해 강제로 병합되어 35년간의 식민 지배를 받게 됩니다. 이 기간 동안 한국인들은 독립을 위한 다양한 운동을 전개했으며, 이는 1945년 일본의 패망으로 이어지는 독립으로 결실을 맺었습니다.\\n\\n해방 후 한반도는 남북으로 분단되어 각각 다른 정부가 수립되었고, 1950년에는 한국전쟁이 발발하여 큰 피해를 입었습니다. 전쟁 후 남한은 빠른 경제 발전을 이루며 오늘날에 이르렀습니다.\\n\\n한국의 역사는 오랜 시간 동안 수많은 시련과 도전을 겪으며 형성된 깊은 유산을 지니고 있습니다. 오늘날 한국은 그 역사적 배경 위에서 세계적으로 중요한 역할을 하고 있으며, 과거의 역사가 현재와 미래에 어떻게 영향을 미치는지를 이해하는 것은 매우 중요합니다.']"
      ]
     },
     "execution_count": 65,
     "metadata": {},
     "output_type": "execute_result"
    }
   ],
   "source": [
    "texts"
   ]
  },
  {
   "cell_type": "markdown",
   "id": "495e14bd",
   "metadata": {},
   "source": [
    "## RAG 응용 - 사내 연구소 Wiki Data 벡터 검색"
   ]
  },
  {
   "cell_type": "code",
   "execution_count": 66,
   "id": "4c6ba29f",
   "metadata": {},
   "outputs": [
    {
     "data": {
      "text/plain": [
       "160"
      ]
     },
     "execution_count": 66,
     "metadata": {},
     "output_type": "execute_result"
    }
   ],
   "source": [
    "## 연구소 WIKI\n",
    "\n",
    "from langchain_community.document_loaders.csv_loader import CSVLoader\n",
    "\n",
    "loader = CSVLoader(file_path='finetune_data.csv', source_column='Title', encoding='utf-8-sig')\n",
    "data = loader.load()\n",
    "\n",
    "len(data)"
   ]
  },
  {
   "cell_type": "code",
   "execution_count": 67,
   "id": "35f15905",
   "metadata": {},
   "outputs": [
    {
     "name": "stdout",
     "output_type": "stream",
     "text": [
      "Title: anaconda 오프라인 환경 설치\n",
      "Contents: # ---- 아나콘다 가상환경 구축(인터넷 가능 환경에서)\n",
      "# 가상환경 py3.7 만들고 패키지 설치\n",
      "# (base) 는 Anaconda prompt 환경\n",
      "(base) conda create --name py3.7 python=3.7\n",
      "(base) conda install --name py3.7 pymssql\n",
      "# conda install --name py3.7 cx_Oracle\n",
      "(base) conda install --name py3.7 numpy\n",
      "(base) conda install --name py3.7 pandas\n",
      "(base) conda install --name py3.7 matplotlib\n",
      "(base) conda install --name py3.7 openpyxl\n",
      "(base) conda install --name py3.7 jupyter\n",
      "#conda install --name py3.7 fastapi\n",
      "(base) conda install --name py3.7 scikit-learn\n",
      "#conda install --name py3.7 uvicorn\n",
      "#아래 pip install 을 가상환경에서 된다고 하는 말이 있으나 잘 안됨.ㅡㅡ\n",
      "#가상환경안에서 pip install fastapi\n",
      "#가상환경안에서 pip install matplotlib\n",
      "#가상환경안에서 pip install seaborn\n",
      "# ---- 아나콘다 가상환경을 오프라인으로 옮기기\n",
      "# ---- - 단, 같은 windows 환경에서 테스트해본 결과 잘됨\n",
      "# ---- - 아나콘다 설치 경로 \"C:\\Users\\{사용자명}\\.conda\"\n",
      "# OFFLINE PC에 설치해야 이동/설치해야 될 파일\n",
      "- Python설치 파일 : python-3.7.9-amd64.exe\n",
      "- Miniconda 설치파일 : Miniconda3-py37_4.12.0-Windows-x86_64.exe\n",
      "- C:\\Users\\{사용자명}\\.conda\\envs\\{가상환경명} 통째로\n",
      "C:\\Users\\{사용자명}\\.conda\\envs\\{가상환경명}\\share\\jupyter\\kernels\\python3\\kernel.json 파일 내용에서 python.exe 경로 수정\n",
      "- \"C:/Users/{사용자명}/.conda/envs/{가상환경명}\\\\python.exe\"\n",
      "# 가상환경 활성화\n",
      "(base) conda activate py3.7\n",
      "# jupyter notebook 실행\n",
      "(py3.7) jupyter notebook\n",
      "# 가상환경 비활성화\n",
      "(py3.7) conda deactivate py3.7\n"
     ]
    }
   ],
   "source": [
    "print(data[0].page_content)"
   ]
  },
  {
   "cell_type": "code",
   "execution_count": 68,
   "id": "6766450d",
   "metadata": {},
   "outputs": [
    {
     "name": "stdout",
     "output_type": "stream",
     "text": [
      "160\n",
      "page_content='Title: Angular 12 템플릿 정보\\nContents: Angular 12 템플릿 정보 입니다.\\n소스 파일 :\\xa0[angular12_template.zip](https://softzion-my.sharepoint.com/:u:/p/lkh8342/EcEe53jFdXRHqPjMd6nief0B3T4kY_2DZB6wBN7DlwSTTA)\\n템플릿 사이트\\xa0[https://pixinvent.com/demo/vuexy-vuejs-admin-dashboard-template/demo-2/dashboard/ecommerce](https://pixinvent.com/demo/vuexy-vuejs-admin-dashboard-template/demo-2/dashboard/ecommerce)\\nDoc\\xa0[https://pixinvent.com/demo/vuexy-vuejs-admin-dashboard-template/documentation/](https://pixinvent.com/demo/vuexy-vuejs-admin-dashboard-template/documentation/)' metadata={'source': 'Angular 12 템플릿 정보', 'row': 1}\n"
     ]
    }
   ],
   "source": [
    "from langchain.text_splitter import RecursiveCharacterTextSplitter\n",
    "\n",
    "# 검색 효율성을 위해 Chunk 단위로 Text 분할\n",
    "text_splitter = RecursiveCharacterTextSplitter(chunk_size=6000, chunk_overlap=200)\n",
    "splits = text_splitter.split_documents(data)\n",
    "\n",
    "print(len(splits))\n",
    "print(splits[1])"
   ]
  },
  {
   "cell_type": "code",
   "execution_count": 73,
   "id": "4f612cdb",
   "metadata": {
    "scrolled": true
   },
   "outputs": [
    {
     "data": {
      "text/plain": [
       "Document(page_content='Title: Frontend 개발 가이드-ESLint와 Prettier 사용\\nContents: [https://feynubrick.github.io/2019/05/20/eslint-prettier.html](https://feynubrick.github.io/2019/05/20/eslint-prettier.html)\\n위 링크를 참조해주시기 바랍니다.', metadata={'source': 'Frontend 개발 가이드-ESLint와 Prettier 사용', 'row': 20})"
      ]
     },
     "execution_count": 73,
     "metadata": {},
     "output_type": "execute_result"
    }
   ],
   "source": [
    "splits[20]"
   ]
  },
  {
   "cell_type": "code",
   "execution_count": null,
   "id": "ee6285ba",
   "metadata": {},
   "outputs": [],
   "source": []
  },
  {
   "cell_type": "code",
   "execution_count": 74,
   "id": "15df6836",
   "metadata": {},
   "outputs": [],
   "source": [
    "from langchain_community.vectorstores import Chroma\n",
    "from langchain_community.embeddings import AzureOpenAIEmbeddings\n",
    "\n",
    "# Documents로 설정한 Text를 벡터로 임베딩하여 Chroma DB에 저장\n",
    "# 이후 similarity_search를 통해 유사도 기반 문서 검색\n",
    "# Documents는 설정한 Text Splitter의 split_documents(텍스트 문서) 메서드를 통해 생성\n",
    "\n",
    "vectorstore = Chroma.from_documents(\n",
    "    documents=splits,\n",
    "    embedding=AzureOpenAIEmbeddings(\n",
    "        model='text-embedding-ada-002',\n",
    "#         base_url=os.getenv('OPENAI_API_BASE'),\n",
    "        azure_deployment='Embedding')\n",
    ")"
   ]
  },
  {
   "cell_type": "code",
   "execution_count": 79,
   "id": "d866eddb",
   "metadata": {},
   "outputs": [],
   "source": [
    "docs = vectorstore.similarity_search(\"Anaconda 환경설정\", k=3)"
   ]
  },
  {
   "cell_type": "code",
   "execution_count": 80,
   "id": "0b071291",
   "metadata": {
    "scrolled": false
   },
   "outputs": [
    {
     "name": "stdout",
     "output_type": "stream",
     "text": [
      "제목 : anaconda 오프라인 환경 설치\n",
      "\n",
      "내용 : # ---- 아나콘다 가상환경 구축(인터넷 가능 환경에서)\n",
      "# 가상환경 py3.7 만들고 패키지 설치\n",
      "# (base) 는 Anaconda prompt 환경\n",
      "(base) conda create --name py3.7 python=3.7\n",
      "(base) conda install --name py3.7 pymssql\n",
      "# conda install --name py3.7 cx_Oracle\n",
      "(base) conda install --name py3.7 numpy\n",
      "(base) conda install --name py3.7 pandas\n",
      "(base) conda install --name py3.7 matplotlib\n",
      "(base) conda install --name py3.7 openpyxl\n",
      "(base) conda install --name py3.7 jupyter\n",
      "#conda install --name py3.7 fastapi\n",
      "(base) conda install --name py3.7 scikit-learn\n",
      "#conda install --name py3.7 uvicorn\n",
      "#아래 pip install 을 가상환경에서 된다고 하는 말이 있으나 잘 안됨.ㅡㅡ\n",
      "#가상환경안에서 pip install fastapi\n",
      "#가상환경안에서 pip install matplotlib\n",
      "#가상환경안에서 pip install seaborn\n",
      "# ---- 아나콘다 가상환경을 오프라인으로 옮기기\n",
      "# ---- - 단, 같은 windows 환경에서 테스트해본 결과 잘됨\n",
      "# ---- - 아나콘다 설치 경로 \"C:\\Users\\{사용자명}\\.conda\"\n",
      "# OFFLINE PC에 설치해야 이동/설치해야 될 파일\n",
      "- Python설치 파일 : python-3.7.9-amd64.exe\n",
      "- Miniconda 설치파일 : Miniconda3-py37_4.12.0-Windows-x86_64.exe\n",
      "- C:\\Users\\{사용자명}\\.conda\\envs\\{가상환경명} 통째로\n",
      "C:\\Users\\{사용자명}\\.conda\\envs\\{가상환경명}\\share\\jupyter\\kernels\\python3\\kernel.json 파일 내용에서 python.exe 경로 수정\n",
      "- \"C:/Users/{사용자명}/.conda/envs/{가상환경명}\\\\python.exe\"\n",
      "# 가상환경 활성화\n",
      "(base) conda activate py3.7\n",
      "# jupyter notebook 실행\n",
      "(py3.7) jupyter notebook\n",
      "# 가상환경 비활성화\n",
      "(py3.7) conda deactivate py3.7\n",
      "\n",
      "\n",
      "\n",
      "\n",
      "\n",
      "제목 : MySQL 환경설정\n",
      "\n",
      "내용 : [https://hyorock.tistory.com/56](https://hyorock.tistory.com/56)\n",
      "\n",
      "\n",
      "\n",
      "\n",
      "\n",
      "제목 : Windows 운영 체제에 여러 버전의 파이썬 설치 시 원하는 버전 선택 어떻게 하나요?\n",
      "\n",
      "내용 : ### 내용\n",
      "Windows 운영 체제에 파이썬 3.7 버전하고 파이썬 3.9 버전을 설치했는데, 콘솔에 `python` 또는 `python3` 치면 계속 3.9 버전이 뜨네요. 원하는 버전을 어떻게 선택해서 실행하죠?\n",
      "---\n",
      "### 답변\n",
      "[Windows 파이썬 설치 방안](https://stackoverflowteams.com/c/softzion/a/34/6)에 따라 **Windows Installer** 로 설치하신 경우, 자동으로 [Python Launcher](https://docs.python.org/3/using/windows.html#python-launcher-for-windows)가 설치되었을 겁니다. 따라서, 콘솔에서 `python` 대신에 `py`를 사용하시면 되며, 버전에 맞추어 `py -버전`를 입력하시면 해당 버전의 파이썬 interactive shell 이 뜹니다 (예: `py -3.7`).\n",
      "원하시는 버전으로 파이썬 스크립트를 실행하시려는 경우, `py -버전 실행파일.py`와 같이 해주시면 됩니다 (예: `py -3.9 script.py`).\n",
      "원하시는 버전으로 가상환경을 구축하시려는 경우, `py -버전 -m venv env`와 같이 해주시면 `env`라는 이름의 폴더가 생성되며 가상환경이 구축됩니다 (예: `py -3.8 -m venv env`). 가상환경을 활성화 하신 후 `python` 실행 시 지정되었던 버전으로 파이썬이 실행됩니다.\n",
      "아나콘다로 파이썬을 설치하신 경우, 콘다 가상환경 생성 시 파이썬 버전을 지정할 수 있으며, 가상환경을 활성화한 후 `python` 실행 시 지정되었던 버전으로 파이썬이 실행됩니다.\n",
      "\n",
      "\n",
      "\n",
      "\n",
      "\n"
     ]
    }
   ],
   "source": [
    "for i in docs:\n",
    "    title = i.page_content[7:i.page_content.find('Contents')]\n",
    "    cons = i.page_content[i.page_content.find('Contents') + 10:]\n",
    "    print(f'제목 : {title}\\n내용 : {cons}\\n\\n\\n\\n\\n')"
   ]
  },
  {
   "cell_type": "markdown",
   "id": "73ae2433",
   "metadata": {},
   "source": [
    "## 스트리밍 출력"
   ]
  },
  {
   "cell_type": "code",
   "execution_count": 81,
   "id": "a69a3526",
   "metadata": {},
   "outputs": [
    {
     "name": "stdout",
     "output_type": "stream",
     "text": [
      "대한민국에는 아름다운 관광지가 많이 있습니다. 다음은 그 중 일부를 나열한 것으로, 각 장소의 대략적인 주소를 포함하고 있습니다. 이 주소들은 지역을 대략적으로 나타내는 것이며, 정확한 위치는 구글 지도나 네이버 지도 등의 온라인 지도 서비스를 통해 확인하시는 것이 좋습니다.\n",
      "\n",
      "1. 경복궁 (Gyeongbokgung Palace)\n",
      "   주소: 서울특별시 종로구 사직로 161\n",
      "\n",
      "2. 남이섬 (Nami Island)\n",
      "   주소: 강원도 춘천시 남산면 남이섬길 1\n",
      "\n",
      "3. 제주도 성산일출봉 (Seongsan Ilchulbong in Jeju Island)\n",
      "   주소: 제주특별자치도 서귀포시 성산읍 일출로 284-12\n",
      "\n",
      "4. 부산 해운대 해수욕장 (Haeundae Beach in Busan)\n",
      "   주소: 부산광역시 해운대구 해운대해변로\n",
      "\n",
      "5. 경주 불국사 (Bulguksa Temple in Gyeongju)\n",
      "   주소: 경상북도 경주시 불국로 385\n",
      "\n",
      "6. 속초 설악산 국립공원 (Seoraksan National Park in Sokcho)\n",
      "   주소: 강원도 속초시 설악산로 419\n",
      "\n",
      "7. 전주 한옥마을 (Jeonju Hanok Village)\n",
      "   주소: 전라북도 전주시 완산구 기린대로 99\n",
      "\n",
      "8. 안동 하회마을 (Hahoe Village in Andong)\n",
      "   주소: 경상북도 안동시 풍천면 하회리\n",
      "\n",
      "9. 순천만 습지 & 순천만 국가정원 (Suncheon Bay Wetland Reserve & Suncheonman National Garden)\n",
      "   주소: 전라남도 순천시 순천만길 513 (습지) / 전라남도 순천시 오천동 47-1 (국가정원)\n",
      "\n",
      "10. 강릉 안목해변 커피거리 (Anmok Beach Coffee Street in Gangneung)\n",
      "    주소: 강원도 강릉시 창해로14번길\n",
      "\n",
      "이 목록은 대한민국의 다양한 지역을 대표하는 주요 관광지들을 포함하고 있습니다. 각각의 장소는 독특한 문화적, 자연적 특징을 가지고 있어 방문객들에게 다양한 경험을 제공합니다. 여행을 계획하시기 전에 각 관광지의 최신 정보와 입장 시간, 휴무일 등을 확인하시는 것이 좋습니다."
     ]
    }
   ],
   "source": [
    "answer = llm.stream(\"대한민국의 아름다운 관광지 10곳과 주소를 알려주세요!\")\n",
    "\n",
    "# 스트리밍 출력\n",
    "for token in answer:\n",
    "    print(token.content, end=\"\", flush=True)"
   ]
  },
  {
   "cell_type": "code",
   "execution_count": null,
   "id": "bfecb56f",
   "metadata": {},
   "outputs": [],
   "source": []
  }
 ],
 "metadata": {
  "kernelspec": {
   "display_name": "llm_venv",
   "language": "python",
   "name": "llm_venv"
  },
  "language_info": {
   "codemirror_mode": {
    "name": "ipython",
    "version": 3
   },
   "file_extension": ".py",
   "mimetype": "text/x-python",
   "name": "python",
   "nbconvert_exporter": "python",
   "pygments_lexer": "ipython3",
   "version": "3.10.11"
  }
 },
 "nbformat": 4,
 "nbformat_minor": 5
}
